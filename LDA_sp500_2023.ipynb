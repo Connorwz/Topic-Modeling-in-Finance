{
 "cells": [
  {
   "cell_type": "code",
   "execution_count": 13,
   "id": "c0ea9939",
   "metadata": {},
   "outputs": [],
   "source": [
    "import pandas as pd\n",
    "from zipfile import ZipFile\n",
    "\n",
    "with ZipFile(\"./Data Collection and Preprocessing/Processed data/past one year/contem_2023.csv.zip\",\"r\") as zip_ref:\n",
    "    with zip_ref.open(\"contem_2023.csv\") as file:\n",
    "        contem_2023 = pd.read_csv(file)"
   ]
  },
  {
   "cell_type": "code",
   "execution_count": 14,
   "id": "2c14cfeb",
   "metadata": {},
   "outputs": [
    {
     "data": {
      "text/html": [
       "<div>\n",
       "<style scoped>\n",
       "    .dataframe tbody tr th:only-of-type {\n",
       "        vertical-align: middle;\n",
       "    }\n",
       "\n",
       "    .dataframe tbody tr th {\n",
       "        vertical-align: top;\n",
       "    }\n",
       "\n",
       "    .dataframe thead th {\n",
       "        text-align: right;\n",
       "    }\n",
       "</style>\n",
       "<table border=\"1\" class=\"dataframe\">\n",
       "  <thead>\n",
       "    <tr style=\"text-align: right;\">\n",
       "      <th></th>\n",
       "      <th>date</th>\n",
       "      <th>rp_entity_id</th>\n",
       "      <th>comnam</th>\n",
       "      <th>ret</th>\n",
       "      <th>headline</th>\n",
       "    </tr>\n",
       "  </thead>\n",
       "  <tbody>\n",
       "    <tr>\n",
       "      <th>0</th>\n",
       "      <td>2023-01-03</td>\n",
       "      <td>B4C673</td>\n",
       "      <td>YUM BRANDS INC</td>\n",
       "      <td>-0.008745</td>\n",
       "      <td>Business Disruptions Wane As Some Industries S...</td>\n",
       "    </tr>\n",
       "    <tr>\n",
       "      <th>1</th>\n",
       "      <td>2023-01-03</td>\n",
       "      <td>B4C673</td>\n",
       "      <td>YUM BRANDS INC</td>\n",
       "      <td>-0.008745</td>\n",
       "      <td>Press Release: KFC(R) Offers A Massive Deal on...</td>\n",
       "    </tr>\n",
       "    <tr>\n",
       "      <th>2</th>\n",
       "      <td>2023-01-03</td>\n",
       "      <td>B4C673</td>\n",
       "      <td>YUM BRANDS INC</td>\n",
       "      <td>-0.008745</td>\n",
       "      <td>Business News:  Pizza Chains Race to Hire Driv...</td>\n",
       "    </tr>\n",
       "    <tr>\n",
       "      <th>3</th>\n",
       "      <td>2023-01-03</td>\n",
       "      <td>B4C673</td>\n",
       "      <td>YUM BRANDS INC</td>\n",
       "      <td>-0.008745</td>\n",
       "      <td>KFC(R) Offers A Massive Deal on a Comfort Food...</td>\n",
       "    </tr>\n",
       "    <tr>\n",
       "      <th>4</th>\n",
       "      <td>2023-01-03</td>\n",
       "      <td>B4C673</td>\n",
       "      <td>YUM BRANDS INC</td>\n",
       "      <td>-0.008745</td>\n",
       "      <td>Business Disruptions Wane as Some Industries S...</td>\n",
       "    </tr>\n",
       "  </tbody>\n",
       "</table>\n",
       "</div>"
      ],
      "text/plain": [
       "         date rp_entity_id          comnam       ret  \\\n",
       "0  2023-01-03       B4C673  YUM BRANDS INC -0.008745   \n",
       "1  2023-01-03       B4C673  YUM BRANDS INC -0.008745   \n",
       "2  2023-01-03       B4C673  YUM BRANDS INC -0.008745   \n",
       "3  2023-01-03       B4C673  YUM BRANDS INC -0.008745   \n",
       "4  2023-01-03       B4C673  YUM BRANDS INC -0.008745   \n",
       "\n",
       "                                            headline  \n",
       "0  Business Disruptions Wane As Some Industries S...  \n",
       "1  Press Release: KFC(R) Offers A Massive Deal on...  \n",
       "2  Business News:  Pizza Chains Race to Hire Driv...  \n",
       "3  KFC(R) Offers A Massive Deal on a Comfort Food...  \n",
       "4  Business Disruptions Wane as Some Industries S...  "
      ]
     },
     "execution_count": 14,
     "metadata": {},
     "output_type": "execute_result"
    }
   ],
   "source": [
    "contem_2023.head()"
   ]
  },
  {
   "cell_type": "code",
   "execution_count": 40,
   "id": "6eeecd19",
   "metadata": {},
   "outputs": [
    {
     "name": "stderr",
     "output_type": "stream",
     "text": [
      "100%|██████████████████████████████| 1749770/1749770 [00:17<00:00, 99694.64it/s]\n"
     ]
    }
   ],
   "source": [
    "from gensim.models.ldamulticore import LdaMulticore\n",
    "from gensim.corpora.dictionary import Dictionary\n",
    "from sklearn.feature_extraction.text import CountVectorizer\n",
    "from tqdm import tqdm\n",
    "\n",
    "headlines = contem_2023.headline.to_list()\n",
    "tokenizer = CountVectorizer().build_tokenizer()\n",
    "texts = [tokenizer(headline.lower()) for headline in tqdm(headlines)]\n",
    "dictionary = Dictionary(texts)\n",
    "corpous = [dictionary.doc2bow(text) for text in texts]\n",
    "\n",
    "ldamodel = LdaMulticore(corpous,num_topics=62,id2word=dictionary,workers=100,passes = 5)\n"
   ]
  },
  {
   "cell_type": "code",
   "execution_count": 45,
   "id": "71e31f09",
   "metadata": {},
   "outputs": [
    {
     "data": {
      "text/plain": [
       "0.009739091532597888"
      ]
     },
     "execution_count": 45,
     "metadata": {},
     "output_type": "execute_result"
    }
   ],
   "source": [
    "import numpy as np\n",
    "\n",
    "topic_dist = np.zeros((contem_2023.shape[0],62))\n",
    "for doc_id,bow in enumerate(corpous):\n",
    "    for topic_id, prob in ldamodel.get_document_topics(bow,minimum_probability = 0):\n",
    "        topic_dist[doc_id,topic_id] = prob\n",
    "\n",
    "contem_2023_topic_dist = pd.concat([contem_2023.drop(columns = [\"rp_entity_id\",\"headline\"]),\\\n",
    "                                    pd.DataFrame(topic_dist)], axis =1)\n",
    "grouped_sum = contem_2023_topic_dist.groupby([\"date\",\"comnam\",\"ret\"]).sum()\n",
    "\n",
    "X = np.array(grouped_sum)\n",
    "ret = [ind[2] for ind in list(grouped_sum.index)]\n",
    "Y = np.array(ret).reshape(-1,1)\n",
    "\n",
    "from sklearn.linear_model import LinearRegression\n",
    "lda_model = LinearRegression(fit_intercept=True)\n",
    "lda_model.fit(X,Y)\n",
    "lda_model.score(X,Y)"
   ]
  },
  {
   "cell_type": "code",
   "execution_count": 48,
   "id": "ac95702f",
   "metadata": {},
   "outputs": [],
   "source": [
    "import os\n",
    "\n",
    "os.makedirs(\"/user/wx2309/Topic-modeling-store\",exist_ok = True)\n",
    "ldamodel.save(\"/user/wx2309/Topic-modeling-store/LDA_sp500_2023_contem_model\")"
   ]
  },
  {
   "cell_type": "code",
   "execution_count": null,
   "id": "64d0c7e7",
   "metadata": {},
   "outputs": [],
   "source": []
  }
 ],
 "metadata": {
  "kernelspec": {
   "display_name": "Python 3 (ipykernel)",
   "language": "python",
   "name": "python3"
  },
  "language_info": {
   "codemirror_mode": {
    "name": "ipython",
    "version": 3
   },
   "file_extension": ".py",
   "mimetype": "text/x-python",
   "name": "python",
   "nbconvert_exporter": "python",
   "pygments_lexer": "ipython3",
   "version": "3.11.5"
  }
 },
 "nbformat": 4,
 "nbformat_minor": 5
}
