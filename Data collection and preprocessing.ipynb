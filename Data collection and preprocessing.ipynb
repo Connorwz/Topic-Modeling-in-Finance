{
 "cells": [
  {
   "cell_type": "markdown",
   "metadata": {},
   "source": [
    "# Initialization"
   ]
  },
  {
   "cell_type": "code",
   "execution_count": 68,
   "metadata": {},
   "outputs": [],
   "source": [
    "import wrds\n",
    "import pandas as pd\n",
    "import pytz\n",
    "import datetime as dt\n",
    "import pandas_market_calendars as mcal"
   ]
  },
  {
   "cell_type": "code",
   "execution_count": 337,
   "metadata": {},
   "outputs": [
    {
     "name": "stdout",
     "output_type": "stream",
     "text": [
      "Loading library list...\n",
      "Done\n"
     ]
    }
   ],
   "source": [
    "db = wrds.Connection(wrds_username = \"connorwz\")"
   ]
  },
  {
   "cell_type": "markdown",
   "metadata": {},
   "source": [
    "# Find SP500 constituents in 2023"
   ]
  },
  {
   "cell_type": "code",
   "execution_count": 350,
   "metadata": {},
   "outputs": [],
   "source": [
    "sp500 = db.raw_sql(\"\"\"\n",
    "                        select a.*, b.date, b.ret, b.prc, b.openprc\n",
    "                        from crsp.dsp500list as a,\n",
    "                        crsp.dsf as b\n",
    "                        where a.permno=b.permno\n",
    "                        and b.date >= a.start and b.date<= a.ending\n",
    "                        and b.date>='01/01/2023' and b.date<='12/31/2023'\n",
    "                        order by date;\n",
    "                        \"\"\", date_cols=['start', 'ending', 'date'])"
   ]
  },
  {
   "cell_type": "code",
   "execution_count": 352,
   "metadata": {},
   "outputs": [],
   "source": [
    "dse = db.raw_sql(\"\"\"\n",
    "                        select comnam,ncusip, namedt, nameendt,permno\n",
    "                        from crsp.dsenames\n",
    "                        \"\"\", date_cols=['namedt', 'nameendt'])\n",
    "\n",
    "# if nameendt is missing then set to today date\n",
    "dse['nameendt']=dse['nameendt'].fillna(pd.to_datetime('today'))"
   ]
  },
  {
   "cell_type": "code",
   "execution_count": 353,
   "metadata": {},
   "outputs": [],
   "source": [
    "# Merge with SP500 data\n",
    "sp500_full_2023 = pd.merge(sp500, dse, how = 'left', on = 'permno')\n",
    "\n",
    "# Impose the date range restrictions\n",
    "sp500_full_2023 = sp500_full_2023.loc[(sp500_full_2023.date>=sp500_full_2023.namedt) \\\n",
    "                            & (sp500_full_2023.date<=sp500_full_2023.nameendt)]\n",
    "sp500_full_2023.reset_index(inplace = True,drop = True)"
   ]
  },
  {
   "cell_type": "code",
   "execution_count": 355,
   "metadata": {},
   "outputs": [],
   "source": [
    "sp500_full_2023 = sp500_full_2023[[\"permno\",\"date\",\"comnam\",\"ret\",\"openprc\",\"prc\"]]"
   ]
  },
  {
   "cell_type": "markdown",
   "metadata": {},
   "source": [
    "## Dirty data check"
   ]
  },
  {
   "cell_type": "code",
   "execution_count": 357,
   "metadata": {},
   "outputs": [
    {
     "data": {
      "text/html": [
       "<div>\n",
       "<style scoped>\n",
       "    .dataframe tbody tr th:only-of-type {\n",
       "        vertical-align: middle;\n",
       "    }\n",
       "\n",
       "    .dataframe tbody tr th {\n",
       "        vertical-align: top;\n",
       "    }\n",
       "\n",
       "    .dataframe thead th {\n",
       "        text-align: right;\n",
       "    }\n",
       "</style>\n",
       "<table border=\"1\" class=\"dataframe\">\n",
       "  <thead>\n",
       "    <tr style=\"text-align: right;\">\n",
       "      <th></th>\n",
       "      <th>permno</th>\n",
       "      <th>date</th>\n",
       "      <th>comnam</th>\n",
       "      <th>ret</th>\n",
       "      <th>openprc</th>\n",
       "      <th>prc</th>\n",
       "    </tr>\n",
       "  </thead>\n",
       "  <tbody>\n",
       "    <tr>\n",
       "      <th>23233</th>\n",
       "      <td>11786</td>\n",
       "      <td>2023-03-10</td>\n",
       "      <td>S V B FINANCIAL GROUP</td>\n",
       "      <td>-0.628725</td>\n",
       "      <td>NaN</td>\n",
       "      <td>-39.37000</td>\n",
       "    </tr>\n",
       "    <tr>\n",
       "      <th>54957</th>\n",
       "      <td>76841</td>\n",
       "      <td>2023-06-09</td>\n",
       "      <td>BIOGEN INC</td>\n",
       "      <td>0.025965</td>\n",
       "      <td>NaN</td>\n",
       "      <td>-316.89999</td>\n",
       "    </tr>\n",
       "  </tbody>\n",
       "</table>\n",
       "</div>"
      ],
      "text/plain": [
       "       permno       date                 comnam       ret  openprc        prc\n",
       "23233   11786 2023-03-10  S V B FINANCIAL GROUP -0.628725      NaN  -39.37000\n",
       "54957   76841 2023-06-09             BIOGEN INC  0.025965      NaN -316.89999"
      ]
     },
     "execution_count": 357,
     "metadata": {},
     "output_type": "execute_result"
    }
   ],
   "source": [
    "# Negative sign means bid/ask average\n",
    "sp500_full_2023[sp500_full_2023.prc <0]"
   ]
  },
  {
   "cell_type": "code",
   "execution_count": 358,
   "metadata": {},
   "outputs": [
    {
     "name": "stderr",
     "output_type": "stream",
     "text": [
      "/var/folders/bg/9xqhvbd522v9y5gqby9zsgsm0000gn/T/ipykernel_46817/4168260694.py:3: FutureWarning: The behavior of 'isin' with dtype=datetime64[ns] and castable values (e.g. strings) is deprecated. In a future version, these will not be considered matching by isin. Explicitly cast to the appropriate dtype before calling isin instead.\n",
      "  sp500_full_2023[sp500_full_2023.permno == 76841].loc[sp500_full_2023.date.isin([\"2023-06-08\",\"2023-06-09\",\"2023-06-12\"])]\n"
     ]
    },
    {
     "data": {
      "text/html": [
       "<div>\n",
       "<style scoped>\n",
       "    .dataframe tbody tr th:only-of-type {\n",
       "        vertical-align: middle;\n",
       "    }\n",
       "\n",
       "    .dataframe tbody tr th {\n",
       "        vertical-align: top;\n",
       "    }\n",
       "\n",
       "    .dataframe thead th {\n",
       "        text-align: right;\n",
       "    }\n",
       "</style>\n",
       "<table border=\"1\" class=\"dataframe\">\n",
       "  <thead>\n",
       "    <tr style=\"text-align: right;\">\n",
       "      <th></th>\n",
       "      <th>permno</th>\n",
       "      <th>date</th>\n",
       "      <th>comnam</th>\n",
       "      <th>ret</th>\n",
       "      <th>openprc</th>\n",
       "      <th>prc</th>\n",
       "    </tr>\n",
       "  </thead>\n",
       "  <tbody>\n",
       "    <tr>\n",
       "      <th>54419</th>\n",
       "      <td>76841</td>\n",
       "      <td>2023-06-08</td>\n",
       "      <td>BIOGEN INC</td>\n",
       "      <td>0.013054</td>\n",
       "      <td>310.69000</td>\n",
       "      <td>308.88000</td>\n",
       "    </tr>\n",
       "    <tr>\n",
       "      <th>54957</th>\n",
       "      <td>76841</td>\n",
       "      <td>2023-06-09</td>\n",
       "      <td>BIOGEN INC</td>\n",
       "      <td>0.025965</td>\n",
       "      <td>NaN</td>\n",
       "      <td>-316.89999</td>\n",
       "    </tr>\n",
       "    <tr>\n",
       "      <th>55586</th>\n",
       "      <td>76841</td>\n",
       "      <td>2023-06-12</td>\n",
       "      <td>BIOGEN INC</td>\n",
       "      <td>-0.011013</td>\n",
       "      <td>319.76001</td>\n",
       "      <td>313.41000</td>\n",
       "    </tr>\n",
       "  </tbody>\n",
       "</table>\n",
       "</div>"
      ],
      "text/plain": [
       "       permno       date      comnam       ret    openprc        prc\n",
       "54419   76841 2023-06-08  BIOGEN INC  0.013054  310.69000  308.88000\n",
       "54957   76841 2023-06-09  BIOGEN INC  0.025965        NaN -316.89999\n",
       "55586   76841 2023-06-12  BIOGEN INC -0.011013  319.76001  313.41000"
      ]
     },
     "execution_count": 358,
     "metadata": {},
     "output_type": "execute_result"
    }
   ],
   "source": [
    "# For 76841, bid/ask average represents closing price for a stock \n",
    "# with similar numerical values of adjacent days \n",
    "sp500_full_2023[sp500_full_2023.permno == 76841].loc[sp500_full_2023.date.isin([\"2023-06-08\",\"2023-06-09\",\"2023-06-12\"])]"
   ]
  },
  {
   "cell_type": "code",
   "execution_count": 359,
   "metadata": {},
   "outputs": [
    {
     "data": {
      "text/html": [
       "<div>\n",
       "<style scoped>\n",
       "    .dataframe tbody tr th:only-of-type {\n",
       "        vertical-align: middle;\n",
       "    }\n",
       "\n",
       "    .dataframe tbody tr th {\n",
       "        vertical-align: top;\n",
       "    }\n",
       "\n",
       "    .dataframe thead th {\n",
       "        text-align: right;\n",
       "    }\n",
       "</style>\n",
       "<table border=\"1\" class=\"dataframe\">\n",
       "  <thead>\n",
       "    <tr style=\"text-align: right;\">\n",
       "      <th></th>\n",
       "      <th>permno</th>\n",
       "      <th>date</th>\n",
       "      <th>comnam</th>\n",
       "      <th>ret</th>\n",
       "      <th>openprc</th>\n",
       "      <th>prc</th>\n",
       "    </tr>\n",
       "  </thead>\n",
       "  <tbody>\n",
       "    <tr>\n",
       "      <th>22186</th>\n",
       "      <td>11786</td>\n",
       "      <td>2023-03-08</td>\n",
       "      <td>S V B FINANCIAL GROUP</td>\n",
       "      <td>0.001645</td>\n",
       "      <td>266.85999</td>\n",
       "      <td>267.82999</td>\n",
       "    </tr>\n",
       "    <tr>\n",
       "      <th>22842</th>\n",
       "      <td>11786</td>\n",
       "      <td>2023-03-09</td>\n",
       "      <td>S V B FINANCIAL GROUP</td>\n",
       "      <td>-0.604077</td>\n",
       "      <td>176.55000</td>\n",
       "      <td>106.04000</td>\n",
       "    </tr>\n",
       "    <tr>\n",
       "      <th>23233</th>\n",
       "      <td>11786</td>\n",
       "      <td>2023-03-10</td>\n",
       "      <td>S V B FINANCIAL GROUP</td>\n",
       "      <td>-0.628725</td>\n",
       "      <td>NaN</td>\n",
       "      <td>-39.37000</td>\n",
       "    </tr>\n",
       "  </tbody>\n",
       "</table>\n",
       "</div>"
      ],
      "text/plain": [
       "       permno       date                 comnam       ret    openprc  \\\n",
       "22186   11786 2023-03-08  S V B FINANCIAL GROUP  0.001645  266.85999   \n",
       "22842   11786 2023-03-09  S V B FINANCIAL GROUP -0.604077  176.55000   \n",
       "23233   11786 2023-03-10  S V B FINANCIAL GROUP -0.628725        NaN   \n",
       "\n",
       "             prc  \n",
       "22186  267.82999  \n",
       "22842  106.04000  \n",
       "23233  -39.37000  "
      ]
     },
     "execution_count": 359,
     "metadata": {},
     "output_type": "execute_result"
    }
   ],
   "source": [
    "# For 11786, this seems to be something wrong\n",
    "sp500_full_2023[sp500_full_2023.permno == 11786][-3:]"
   ]
  },
  {
   "cell_type": "code",
   "execution_count": 360,
   "metadata": {},
   "outputs": [
    {
     "data": {
      "text/plain": [
       "Series([], Name: prc, dtype: float64)"
      ]
     },
     "execution_count": 360,
     "metadata": {},
     "output_type": "execute_result"
    }
   ],
   "source": [
    "# 0 means neither closing price nor bid/ask average exists \n",
    "sp500_full_2023.prc[sp500_full_2023.prc == 0]"
   ]
  },
  {
   "cell_type": "code",
   "execution_count": 361,
   "metadata": {},
   "outputs": [
    {
     "data": {
      "text/html": [
       "<div>\n",
       "<style scoped>\n",
       "    .dataframe tbody tr th:only-of-type {\n",
       "        vertical-align: middle;\n",
       "    }\n",
       "\n",
       "    .dataframe tbody tr th {\n",
       "        vertical-align: top;\n",
       "    }\n",
       "\n",
       "    .dataframe thead th {\n",
       "        text-align: right;\n",
       "    }\n",
       "</style>\n",
       "<table border=\"1\" class=\"dataframe\">\n",
       "  <thead>\n",
       "    <tr style=\"text-align: right;\">\n",
       "      <th></th>\n",
       "      <th>permno</th>\n",
       "      <th>date</th>\n",
       "      <th>comnam</th>\n",
       "      <th>ret</th>\n",
       "      <th>openprc</th>\n",
       "      <th>prc</th>\n",
       "    </tr>\n",
       "  </thead>\n",
       "  <tbody>\n",
       "    <tr>\n",
       "      <th>23233</th>\n",
       "      <td>11786</td>\n",
       "      <td>2023-03-10</td>\n",
       "      <td>S V B FINANCIAL GROUP</td>\n",
       "      <td>-0.628725</td>\n",
       "      <td>NaN</td>\n",
       "      <td>-39.37000</td>\n",
       "    </tr>\n",
       "    <tr>\n",
       "      <th>54957</th>\n",
       "      <td>76841</td>\n",
       "      <td>2023-06-09</td>\n",
       "      <td>BIOGEN INC</td>\n",
       "      <td>0.025965</td>\n",
       "      <td>NaN</td>\n",
       "      <td>-316.89999</td>\n",
       "    </tr>\n",
       "  </tbody>\n",
       "</table>\n",
       "</div>"
      ],
      "text/plain": [
       "       permno       date                 comnam       ret  openprc        prc\n",
       "23233   11786 2023-03-10  S V B FINANCIAL GROUP -0.628725      NaN  -39.37000\n",
       "54957   76841 2023-06-09             BIOGEN INC  0.025965      NaN -316.89999"
      ]
     },
     "execution_count": 361,
     "metadata": {},
     "output_type": "execute_result"
    }
   ],
   "source": [
    "# There are some companies without open price which caused negative prices.\n",
    "sp500_full_2023[sp500_full_2023.openprc.isna()]"
   ]
  },
  {
   "cell_type": "code",
   "execution_count": 362,
   "metadata": {},
   "outputs": [
    {
     "data": {
      "text/plain": [
       "0"
      ]
     },
     "execution_count": 362,
     "metadata": {},
     "output_type": "execute_result"
    }
   ],
   "source": [
    "# No dirty data for open price\n",
    "(sp500_full_2023.openprc <= 0).sum()"
   ]
  },
  {
   "cell_type": "code",
   "execution_count": 363,
   "metadata": {},
   "outputs": [
    {
     "data": {
      "text/html": [
       "<div>\n",
       "<style scoped>\n",
       "    .dataframe tbody tr th:only-of-type {\n",
       "        vertical-align: middle;\n",
       "    }\n",
       "\n",
       "    .dataframe tbody tr th {\n",
       "        vertical-align: top;\n",
       "    }\n",
       "\n",
       "    .dataframe thead th {\n",
       "        text-align: right;\n",
       "    }\n",
       "</style>\n",
       "<table border=\"1\" class=\"dataframe\">\n",
       "  <thead>\n",
       "    <tr style=\"text-align: right;\">\n",
       "      <th></th>\n",
       "      <th>permno</th>\n",
       "      <th>date</th>\n",
       "      <th>comnam</th>\n",
       "      <th>ret</th>\n",
       "      <th>openprc</th>\n",
       "      <th>prc</th>\n",
       "    </tr>\n",
       "  </thead>\n",
       "  <tbody>\n",
       "    <tr>\n",
       "      <th>619</th>\n",
       "      <td>23570</td>\n",
       "      <td>2023-01-04</td>\n",
       "      <td>G E HEALTHCARE TECHNOLOGIES INC</td>\n",
       "      <td>NaN</td>\n",
       "      <td>54.13</td>\n",
       "      <td>60.49000</td>\n",
       "    </tr>\n",
       "    <tr>\n",
       "      <th>23233</th>\n",
       "      <td>11786</td>\n",
       "      <td>2023-03-10</td>\n",
       "      <td>S V B FINANCIAL GROUP</td>\n",
       "      <td>-0.628725</td>\n",
       "      <td>NaN</td>\n",
       "      <td>-39.37000</td>\n",
       "    </tr>\n",
       "    <tr>\n",
       "      <th>54957</th>\n",
       "      <td>76841</td>\n",
       "      <td>2023-06-09</td>\n",
       "      <td>BIOGEN INC</td>\n",
       "      <td>0.025965</td>\n",
       "      <td>NaN</td>\n",
       "      <td>-316.89999</td>\n",
       "    </tr>\n",
       "    <tr>\n",
       "      <th>62788</th>\n",
       "      <td>23942</td>\n",
       "      <td>2023-07-03</td>\n",
       "      <td>FORTREA HOLDINGS INC</td>\n",
       "      <td>NaN</td>\n",
       "      <td>33.80</td>\n",
       "      <td>36.84000</td>\n",
       "    </tr>\n",
       "    <tr>\n",
       "      <th>63178</th>\n",
       "      <td>23944</td>\n",
       "      <td>2023-07-05</td>\n",
       "      <td>PHINIA INC</td>\n",
       "      <td>NaN</td>\n",
       "      <td>29.89</td>\n",
       "      <td>36.75000</td>\n",
       "    </tr>\n",
       "    <tr>\n",
       "      <th>94442</th>\n",
       "      <td>24175</td>\n",
       "      <td>2023-10-02</td>\n",
       "      <td>W K KELLOGG CO</td>\n",
       "      <td>NaN</td>\n",
       "      <td>13.80</td>\n",
       "      <td>13.35000</td>\n",
       "    </tr>\n",
       "    <tr>\n",
       "      <th>94443</th>\n",
       "      <td>24174</td>\n",
       "      <td>2023-10-02</td>\n",
       "      <td>VERALTO CORP</td>\n",
       "      <td>NaN</td>\n",
       "      <td>83.11</td>\n",
       "      <td>85.12000</td>\n",
       "    </tr>\n",
       "  </tbody>\n",
       "</table>\n",
       "</div>"
      ],
      "text/plain": [
       "       permno       date                           comnam       ret  openprc  \\\n",
       "619     23570 2023-01-04  G E HEALTHCARE TECHNOLOGIES INC       NaN    54.13   \n",
       "23233   11786 2023-03-10            S V B FINANCIAL GROUP -0.628725      NaN   \n",
       "54957   76841 2023-06-09                       BIOGEN INC  0.025965      NaN   \n",
       "62788   23942 2023-07-03             FORTREA HOLDINGS INC       NaN    33.80   \n",
       "63178   23944 2023-07-05                       PHINIA INC       NaN    29.89   \n",
       "94442   24175 2023-10-02                   W K KELLOGG CO       NaN    13.80   \n",
       "94443   24174 2023-10-02                     VERALTO CORP       NaN    83.11   \n",
       "\n",
       "             prc  \n",
       "619     60.49000  \n",
       "23233  -39.37000  \n",
       "54957 -316.89999  \n",
       "62788   36.84000  \n",
       "63178   36.75000  \n",
       "94442   13.35000  \n",
       "94443   85.12000  "
      ]
     },
     "execution_count": 363,
     "metadata": {},
     "output_type": "execute_result"
    }
   ],
   "source": [
    "# Nan values \n",
    "sp500_full_2023[sp500_full_2023.isna().sum(axis = 1) >0]"
   ]
  },
  {
   "cell_type": "code",
   "execution_count": 364,
   "metadata": {},
   "outputs": [
    {
     "data": {
      "text/plain": [
       "0"
      ]
     },
     "execution_count": 364,
     "metadata": {},
     "output_type": "execute_result"
    }
   ],
   "source": [
    "# There is no duplicated values \n",
    "sp500_full_2023.duplicated().sum()"
   ]
  },
  {
   "cell_type": "markdown",
   "metadata": {},
   "source": [
    "# Get opening-closing returns and closing-closing returns for SP500 constituents in 2023"
   ]
  },
  {
   "cell_type": "code",
   "execution_count": 365,
   "metadata": {},
   "outputs": [],
   "source": [
    "# get closing-open return\n",
    "sp500_full_2023[\"prc\"] = sp500_full_2023[\"prc\"].apply(abs)\n",
    "sp500_full_2023[\"CO_ret\"] = (sp500_full_2023['prc'] - sp500_full_2023['openprc'])/sp500_full_2023['openprc']"
   ]
  },
  {
   "cell_type": "markdown",
   "metadata": {},
   "source": [
    "# Link CRSP to RavenPack"
   ]
  },
  {
   "cell_type": "code",
   "execution_count": 367,
   "metadata": {},
   "outputs": [],
   "source": [
    "mapping_file_query = \"\"\" \n",
    "                    SELECT DISTINCT \n",
    "                    a.permno, b.rp_entity_id \n",
    "                    FROM (SELECT * FROM crsp.dse WHERE ncusip IS NOT NULL) as a,\n",
    "                    rpna.wrds_company_names as b\n",
    "                    WHERE a.ncusip=substr(b.isin,3,8)\n",
    "\"\"\"\n",
    "mapping_file = db.raw_sql(mapping_file_query)"
   ]
  },
  {
   "cell_type": "code",
   "execution_count": 368,
   "metadata": {},
   "outputs": [
    {
     "data": {
      "text/html": [
       "<div>\n",
       "<style scoped>\n",
       "    .dataframe tbody tr th:only-of-type {\n",
       "        vertical-align: middle;\n",
       "    }\n",
       "\n",
       "    .dataframe tbody tr th {\n",
       "        vertical-align: top;\n",
       "    }\n",
       "\n",
       "    .dataframe thead th {\n",
       "        text-align: right;\n",
       "    }\n",
       "</style>\n",
       "<table border=\"1\" class=\"dataframe\">\n",
       "  <thead>\n",
       "    <tr style=\"text-align: right;\">\n",
       "      <th></th>\n",
       "      <th>permno</th>\n",
       "      <th>rp_entity_id</th>\n",
       "    </tr>\n",
       "  </thead>\n",
       "  <tbody>\n",
       "    <tr>\n",
       "      <th>1581</th>\n",
       "      <td>10066</td>\n",
       "      <td>179A00</td>\n",
       "    </tr>\n",
       "    <tr>\n",
       "      <th>571</th>\n",
       "      <td>10066</td>\n",
       "      <td>2E83D7</td>\n",
       "    </tr>\n",
       "    <tr>\n",
       "      <th>10538</th>\n",
       "      <td>10082</td>\n",
       "      <td>686DB1</td>\n",
       "    </tr>\n",
       "    <tr>\n",
       "      <th>13893</th>\n",
       "      <td>10082</td>\n",
       "      <td>229150</td>\n",
       "    </tr>\n",
       "    <tr>\n",
       "      <th>11921</th>\n",
       "      <td>10560</td>\n",
       "      <td>C8C45A</td>\n",
       "    </tr>\n",
       "    <tr>\n",
       "      <th>...</th>\n",
       "      <td>...</td>\n",
       "      <td>...</td>\n",
       "    </tr>\n",
       "    <tr>\n",
       "      <th>11032</th>\n",
       "      <td>90722</td>\n",
       "      <td>D553E8</td>\n",
       "    </tr>\n",
       "    <tr>\n",
       "      <th>1319</th>\n",
       "      <td>92010</td>\n",
       "      <td>3E387A</td>\n",
       "    </tr>\n",
       "    <tr>\n",
       "      <th>1863</th>\n",
       "      <td>92010</td>\n",
       "      <td>133899</td>\n",
       "    </tr>\n",
       "    <tr>\n",
       "      <th>12498</th>\n",
       "      <td>92685</td>\n",
       "      <td>A1C951</td>\n",
       "    </tr>\n",
       "    <tr>\n",
       "      <th>3787</th>\n",
       "      <td>92685</td>\n",
       "      <td>9732A2</td>\n",
       "    </tr>\n",
       "  </tbody>\n",
       "</table>\n",
       "<p>162 rows × 2 columns</p>\n",
       "</div>"
      ],
      "text/plain": [
       "       permno rp_entity_id\n",
       "1581    10066       179A00\n",
       "571     10066       2E83D7\n",
       "10538   10082       686DB1\n",
       "13893   10082       229150\n",
       "11921   10560       C8C45A\n",
       "...       ...          ...\n",
       "11032   90722       D553E8\n",
       "1319    92010       3E387A\n",
       "1863    92010       133899\n",
       "12498   92685       A1C951\n",
       "3787    92685       9732A2\n",
       "\n",
       "[162 rows x 2 columns]"
      ]
     },
     "execution_count": 368,
     "metadata": {},
     "output_type": "execute_result"
    }
   ],
   "source": [
    "# There are companies mapped to more than one entity_id\n",
    "mapping_file.groupby(\"permno\").filter(lambda sub:sub.shape[0]>1).sort_values(\"permno\")"
   ]
  },
  {
   "cell_type": "code",
   "execution_count": 296,
   "metadata": {},
   "outputs": [],
   "source": [
    "# All RP's headlines in 2023 \n",
    "RP_2023_query = \"\"\"SELECT rpa_date_utc,timestamp_utc,rp_entity_id,entity_name,headline\n",
    "                FROM rpna.rpa_djpr_equities_2023\n",
    "            \"\"\"\n",
    "RP_2023 = db.raw_sql(RP_2023_query)"
   ]
  },
  {
   "cell_type": "code",
   "execution_count": 369,
   "metadata": {},
   "outputs": [],
   "source": [
    "# Remove those entity_ids which don't exist in RP\n",
    "mapping_file = mapping_file[mapping_file.rp_entity_id.isin(RP_2023.rp_entity_id.unique())]"
   ]
  },
  {
   "cell_type": "code",
   "execution_count": 370,
   "metadata": {},
   "outputs": [],
   "source": [
    "sp500_2023_RPid = sp500_full_2023.merge(mapping_file, on = \"permno\", how = \"inner\")"
   ]
  },
  {
   "cell_type": "code",
   "execution_count": 371,
   "metadata": {},
   "outputs": [
    {
     "data": {
      "text/html": [
       "<div>\n",
       "<style scoped>\n",
       "    .dataframe tbody tr th:only-of-type {\n",
       "        vertical-align: middle;\n",
       "    }\n",
       "\n",
       "    .dataframe tbody tr th {\n",
       "        vertical-align: top;\n",
       "    }\n",
       "\n",
       "    .dataframe thead th {\n",
       "        text-align: right;\n",
       "    }\n",
       "</style>\n",
       "<table border=\"1\" class=\"dataframe\">\n",
       "  <thead>\n",
       "    <tr style=\"text-align: right;\">\n",
       "      <th></th>\n",
       "      <th>permno</th>\n",
       "      <th>date</th>\n",
       "      <th>comnam</th>\n",
       "      <th>ret</th>\n",
       "      <th>openprc</th>\n",
       "      <th>prc</th>\n",
       "      <th>CO_ret</th>\n",
       "      <th>rp_entity_id</th>\n",
       "    </tr>\n",
       "  </thead>\n",
       "  <tbody>\n",
       "  </tbody>\n",
       "</table>\n",
       "</div>"
      ],
      "text/plain": [
       "Empty DataFrame\n",
       "Columns: [permno, date, comnam, ret, openprc, prc, CO_ret, rp_entity_id]\n",
       "Index: []"
      ]
     },
     "execution_count": 371,
     "metadata": {},
     "output_type": "execute_result"
    }
   ],
   "source": [
    "# No permno is redundantly mapped\n",
    "sp500_2023_RPid.groupby(\"permno\").filter(lambda sub:len(sub.rp_entity_id.unique())>1)"
   ]
  },
  {
   "cell_type": "code",
   "execution_count": 372,
   "metadata": {},
   "outputs": [
    {
     "name": "stdout",
     "output_type": "stream",
     "text": [
      "0\n",
      "0\n"
     ]
    }
   ],
   "source": [
    "print(sp500_2023_RPid[[\"permno\",\"date\",\"comnam\",\"rp_entity_id\"]].isna().sum().sum())\n",
    "print(sp500_2023_RPid.duplicated().sum())"
   ]
  },
  {
   "cell_type": "markdown",
   "metadata": {},
   "source": [
    "# Link headlines based on contemporaneous returns"
   ]
  },
  {
   "cell_type": "code",
   "execution_count": 417,
   "metadata": {},
   "outputs": [],
   "source": [
    "sp500_2023_RPid_backup = sp500_2023_RPid.copy()\n",
    "RP_2023_backup = RP_2023.copy()"
   ]
  },
  {
   "cell_type": "code",
   "execution_count": 427,
   "metadata": {},
   "outputs": [
    {
     "data": {
      "text/html": [
       "<div>\n",
       "<style scoped>\n",
       "    .dataframe tbody tr th:only-of-type {\n",
       "        vertical-align: middle;\n",
       "    }\n",
       "\n",
       "    .dataframe tbody tr th {\n",
       "        vertical-align: top;\n",
       "    }\n",
       "\n",
       "    .dataframe thead th {\n",
       "        text-align: right;\n",
       "    }\n",
       "</style>\n",
       "<table border=\"1\" class=\"dataframe\">\n",
       "  <thead>\n",
       "    <tr style=\"text-align: right;\">\n",
       "      <th></th>\n",
       "      <th>permno</th>\n",
       "      <th>date</th>\n",
       "      <th>comnam</th>\n",
       "      <th>ret</th>\n",
       "      <th>openprc</th>\n",
       "      <th>prc</th>\n",
       "      <th>CO_ret</th>\n",
       "      <th>rp_entity_id</th>\n",
       "    </tr>\n",
       "  </thead>\n",
       "  <tbody>\n",
       "    <tr>\n",
       "      <th>0</th>\n",
       "      <td>69649</td>\n",
       "      <td>2023-01-03</td>\n",
       "      <td>RAYMOND JAMES FINANCIAL INC</td>\n",
       "      <td>-0.006926</td>\n",
       "      <td>107.30</td>\n",
       "      <td>106.11</td>\n",
       "      <td>-0.011090</td>\n",
       "      <td>B3CB74</td>\n",
       "    </tr>\n",
       "    <tr>\n",
       "      <th>1</th>\n",
       "      <td>17005</td>\n",
       "      <td>2023-01-03</td>\n",
       "      <td>C V S HEALTH CORP</td>\n",
       "      <td>-0.003005</td>\n",
       "      <td>91.72</td>\n",
       "      <td>92.91</td>\n",
       "      <td>0.012974</td>\n",
       "      <td>69CE71</td>\n",
       "    </tr>\n",
       "    <tr>\n",
       "      <th>2</th>\n",
       "      <td>21936</td>\n",
       "      <td>2023-01-03</td>\n",
       "      <td>PFIZER INC</td>\n",
       "      <td>0.000390</td>\n",
       "      <td>51.01</td>\n",
       "      <td>51.26</td>\n",
       "      <td>0.004901</td>\n",
       "      <td>267718</td>\n",
       "    </tr>\n",
       "    <tr>\n",
       "      <th>3</th>\n",
       "      <td>12476</td>\n",
       "      <td>2023-01-03</td>\n",
       "      <td>TARGA RESOURCES CORP</td>\n",
       "      <td>-0.038776</td>\n",
       "      <td>73.26</td>\n",
       "      <td>70.65</td>\n",
       "      <td>-0.035627</td>\n",
       "      <td>EAEBF3</td>\n",
       "    </tr>\n",
       "    <tr>\n",
       "      <th>4</th>\n",
       "      <td>25419</td>\n",
       "      <td>2023-01-03</td>\n",
       "      <td>WHIRLPOOL CORP</td>\n",
       "      <td>0.016047</td>\n",
       "      <td>144.12</td>\n",
       "      <td>143.73</td>\n",
       "      <td>-0.002706</td>\n",
       "      <td>BDD12C</td>\n",
       "    </tr>\n",
       "  </tbody>\n",
       "</table>\n",
       "</div>"
      ],
      "text/plain": [
       "   permno       date                       comnam       ret  openprc     prc  \\\n",
       "0   69649 2023-01-03  RAYMOND JAMES FINANCIAL INC -0.006926   107.30  106.11   \n",
       "1   17005 2023-01-03            C V S HEALTH CORP -0.003005    91.72   92.91   \n",
       "2   21936 2023-01-03                   PFIZER INC  0.000390    51.01   51.26   \n",
       "3   12476 2023-01-03         TARGA RESOURCES CORP -0.038776    73.26   70.65   \n",
       "4   25419 2023-01-03               WHIRLPOOL CORP  0.016047   144.12  143.73   \n",
       "\n",
       "     CO_ret rp_entity_id  \n",
       "0 -0.011090       B3CB74  \n",
       "1  0.012974       69CE71  \n",
       "2  0.004901       267718  \n",
       "3 -0.035627       EAEBF3  \n",
       "4 -0.002706       BDD12C  "
      ]
     },
     "execution_count": 427,
     "metadata": {},
     "output_type": "execute_result"
    }
   ],
   "source": [
    "sp500_2023_RPid.head()"
   ]
  },
  {
   "cell_type": "code",
   "execution_count": 511,
   "metadata": {},
   "outputs": [
    {
     "data": {
      "text/html": [
       "<div>\n",
       "<style scoped>\n",
       "    .dataframe tbody tr th:only-of-type {\n",
       "        vertical-align: middle;\n",
       "    }\n",
       "\n",
       "    .dataframe tbody tr th {\n",
       "        vertical-align: top;\n",
       "    }\n",
       "\n",
       "    .dataframe thead th {\n",
       "        text-align: right;\n",
       "    }\n",
       "</style>\n",
       "<table border=\"1\" class=\"dataframe\">\n",
       "  <thead>\n",
       "    <tr style=\"text-align: right;\">\n",
       "      <th></th>\n",
       "      <th>timestamp_utc</th>\n",
       "      <th>rpa_date_utc</th>\n",
       "      <th>rp_entity_id</th>\n",
       "      <th>entity_name</th>\n",
       "      <th>headline</th>\n",
       "    </tr>\n",
       "  </thead>\n",
       "  <tbody>\n",
       "    <tr>\n",
       "      <th>0</th>\n",
       "      <td>2023-01-01 10:25:31.105</td>\n",
       "      <td>2023-01-01</td>\n",
       "      <td>00194C</td>\n",
       "      <td>Continental Controls Ltd.</td>\n",
       "      <td>BSE: Continental Controls Ltd. - Closure Of Tr...</td>\n",
       "    </tr>\n",
       "    <tr>\n",
       "      <th>1</th>\n",
       "      <td>2023-01-01 10:25:31.435</td>\n",
       "      <td>2023-01-01</td>\n",
       "      <td>00194C</td>\n",
       "      <td>Continental Controls Ltd.</td>\n",
       "      <td>BSE: Continental Controls Ltd. - Closure Of Tr...</td>\n",
       "    </tr>\n",
       "    <tr>\n",
       "      <th>2</th>\n",
       "      <td>2023-01-01 08:31:38.519</td>\n",
       "      <td>2023-01-01</td>\n",
       "      <td>01316B</td>\n",
       "      <td>Bilibili Inc.</td>\n",
       "      <td>Bilibili Hosts Annual New Year's Eve Gala - \"T...</td>\n",
       "    </tr>\n",
       "    <tr>\n",
       "      <th>3</th>\n",
       "      <td>2023-01-01 02:00:05.447</td>\n",
       "      <td>2023-01-01</td>\n",
       "      <td>0157B1</td>\n",
       "      <td>Amazon.com Inc.</td>\n",
       "      <td>New Film Release: Cryptid Horror Movie Brings ...</td>\n",
       "    </tr>\n",
       "    <tr>\n",
       "      <th>4</th>\n",
       "      <td>2023-01-01 07:00:11.264</td>\n",
       "      <td>2023-01-01</td>\n",
       "      <td>0157B1</td>\n",
       "      <td>Amazon.com Inc.</td>\n",
       "      <td>The Craziest Moments From the Longest Tech Boo...</td>\n",
       "    </tr>\n",
       "  </tbody>\n",
       "</table>\n",
       "</div>"
      ],
      "text/plain": [
       "            timestamp_utc rpa_date_utc rp_entity_id  \\\n",
       "0 2023-01-01 10:25:31.105   2023-01-01       00194C   \n",
       "1 2023-01-01 10:25:31.435   2023-01-01       00194C   \n",
       "2 2023-01-01 08:31:38.519   2023-01-01       01316B   \n",
       "3 2023-01-01 02:00:05.447   2023-01-01       0157B1   \n",
       "4 2023-01-01 07:00:11.264   2023-01-01       0157B1   \n",
       "\n",
       "                 entity_name  \\\n",
       "0  Continental Controls Ltd.   \n",
       "1  Continental Controls Ltd.   \n",
       "2              Bilibili Inc.   \n",
       "3            Amazon.com Inc.   \n",
       "4            Amazon.com Inc.   \n",
       "\n",
       "                                            headline  \n",
       "0  BSE: Continental Controls Ltd. - Closure Of Tr...  \n",
       "1  BSE: Continental Controls Ltd. - Closure Of Tr...  \n",
       "2  Bilibili Hosts Annual New Year's Eve Gala - \"T...  \n",
       "3  New Film Release: Cryptid Horror Movie Brings ...  \n",
       "4  The Craziest Moments From the Longest Tech Boo...  "
      ]
     },
     "execution_count": 511,
     "metadata": {},
     "output_type": "execute_result"
    }
   ],
   "source": [
    "RP_2023.head()"
   ]
  },
  {
   "cell_type": "code",
   "execution_count": 512,
   "metadata": {},
   "outputs": [],
   "source": [
    "# Drop duplicates in consecutive days\n",
    "RP_2023 = RP_2023.drop_duplicates((\"rp_entity_id\",\"headline\"))"
   ]
  },
  {
   "cell_type": "code",
   "execution_count": 517,
   "metadata": {},
   "outputs": [],
   "source": [
    "RP_2023.set_index(\"timestamp_utc\",inplace= True)\n",
    "RP_2023[\"timestamp_NY\"] = pd.to_datetime(RP_2023.index).tz_localize(\"UTC\").tz_convert(\"America/New_York\")"
   ]
  },
  {
   "cell_type": "code",
   "execution_count": 533,
   "metadata": {},
   "outputs": [],
   "source": [
    "nyse = mcal.get_calendar(\"NYSE\")\n",
    "nyse_trading_2023 = nyse.valid_days(start_date=\"2022-12-31\",end_date=\"2023-12-31\").tz_localize(None).tz_localize(\"America/New_York\")"
   ]
  },
  {
   "cell_type": "code",
   "execution_count": 539,
   "metadata": {},
   "outputs": [],
   "source": [
    "nyse_trading_2023_closing = nyse_trading_2023 + dt.timedelta(hours = 16)"
   ]
  },
  {
   "cell_type": "code",
   "execution_count": 570,
   "metadata": {},
   "outputs": [],
   "source": [
    "def contem_ret_date(timestamp):\n",
    "    later_time = nyse_trading_2023_closing[nyse_trading_2023_closing >= timestamp]\n",
    "    return later_time[0].date() if not later_time.empty else None"
   ]
  },
  {
   "cell_type": "code",
   "execution_count": 572,
   "metadata": {},
   "outputs": [],
   "source": [
    "RP_2023['contem_ret_date'] = RP_2023[\"timestamp_NY\"].apply(contem_ret_date)"
   ]
  },
  {
   "cell_type": "code",
   "execution_count": 581,
   "metadata": {},
   "outputs": [],
   "source": [
    "RP_2023.reset_index(inplace = True)\n",
    "RP_2023_contem_ret = RP_2023[[\"contem_ret_date\",\"rp_entity_id\",\"headline\"]]\n",
    "RP_2023_contem_ret = RP_2023_contem_ret.dropna()\n",
    "sp500_2023_RPid_contem_ret = sp500_2023_RPid[[\"date\",\"rp_entity_id\",\"comnam\",\"ret\"]]"
   ]
  },
  {
   "cell_type": "code",
   "execution_count": 588,
   "metadata": {},
   "outputs": [],
   "source": [
    "RP_2023_contem_ret.contem_ret_date = pd.to_datetime(RP_2023_contem_ret.contem_ret_date)\n",
    "SP500_RP_contem_ret_2023 = pd.merge(sp500_2023_RPid_contem_ret,RP_2023_contem_ret,left_on=[\"date\",\"rp_entity_id\"],\\\n",
    "                                    right_on=[\"contem_ret_date\",\"rp_entity_id\"],how = \"inner\").drop(columns = \"contem_ret_date\")"
   ]
  },
  {
   "cell_type": "code",
   "execution_count": 589,
   "metadata": {},
   "outputs": [
    {
     "data": {
      "text/html": [
       "<div>\n",
       "<style scoped>\n",
       "    .dataframe tbody tr th:only-of-type {\n",
       "        vertical-align: middle;\n",
       "    }\n",
       "\n",
       "    .dataframe tbody tr th {\n",
       "        vertical-align: top;\n",
       "    }\n",
       "\n",
       "    .dataframe thead th {\n",
       "        text-align: right;\n",
       "    }\n",
       "</style>\n",
       "<table border=\"1\" class=\"dataframe\">\n",
       "  <thead>\n",
       "    <tr style=\"text-align: right;\">\n",
       "      <th></th>\n",
       "      <th>date</th>\n",
       "      <th>rp_entity_id</th>\n",
       "      <th>comnam</th>\n",
       "      <th>ret</th>\n",
       "      <th>headline</th>\n",
       "    </tr>\n",
       "  </thead>\n",
       "  <tbody>\n",
       "    <tr>\n",
       "      <th>0</th>\n",
       "      <td>2023-01-03</td>\n",
       "      <td>B3CB74</td>\n",
       "      <td>RAYMOND JAMES FINANCIAL INC</td>\n",
       "      <td>-0.006926</td>\n",
       "      <td>Chewy Looks to Open More Automated Fulfillment...</td>\n",
       "    </tr>\n",
       "    <tr>\n",
       "      <th>1</th>\n",
       "      <td>2023-01-03</td>\n",
       "      <td>B3CB74</td>\n",
       "      <td>RAYMOND JAMES FINANCIAL INC</td>\n",
       "      <td>-0.006926</td>\n",
       "      <td>Chewy Looks to Open More Automated Fulfillment...</td>\n",
       "    </tr>\n",
       "    <tr>\n",
       "      <th>2</th>\n",
       "      <td>2023-01-03</td>\n",
       "      <td>B3CB74</td>\n",
       "      <td>RAYMOND JAMES FINANCIAL INC</td>\n",
       "      <td>-0.006926</td>\n",
       "      <td>Armed With a Big War Chest, Steward Partners A...</td>\n",
       "    </tr>\n",
       "    <tr>\n",
       "      <th>3</th>\n",
       "      <td>2023-01-03</td>\n",
       "      <td>B3CB74</td>\n",
       "      <td>RAYMOND JAMES FINANCIAL INC</td>\n",
       "      <td>-0.006926</td>\n",
       "      <td>Chmn Madar Registers 7,600 Of Inter Parfums In...</td>\n",
       "    </tr>\n",
       "    <tr>\n",
       "      <th>4</th>\n",
       "      <td>2023-01-03</td>\n",
       "      <td>B3CB74</td>\n",
       "      <td>RAYMOND JAMES FINANCIAL INC</td>\n",
       "      <td>-0.006926</td>\n",
       "      <td>Southwest Used to Be the Best Run Airline. Wha...</td>\n",
       "    </tr>\n",
       "  </tbody>\n",
       "</table>\n",
       "</div>"
      ],
      "text/plain": [
       "        date rp_entity_id                       comnam       ret  \\\n",
       "0 2023-01-03       B3CB74  RAYMOND JAMES FINANCIAL INC -0.006926   \n",
       "1 2023-01-03       B3CB74  RAYMOND JAMES FINANCIAL INC -0.006926   \n",
       "2 2023-01-03       B3CB74  RAYMOND JAMES FINANCIAL INC -0.006926   \n",
       "3 2023-01-03       B3CB74  RAYMOND JAMES FINANCIAL INC -0.006926   \n",
       "4 2023-01-03       B3CB74  RAYMOND JAMES FINANCIAL INC -0.006926   \n",
       "\n",
       "                                            headline  \n",
       "0  Chewy Looks to Open More Automated Fulfillment...  \n",
       "1  Chewy Looks to Open More Automated Fulfillment...  \n",
       "2  Armed With a Big War Chest, Steward Partners A...  \n",
       "3  Chmn Madar Registers 7,600 Of Inter Parfums In...  \n",
       "4  Southwest Used to Be the Best Run Airline. Wha...  "
      ]
     },
     "execution_count": 589,
     "metadata": {},
     "output_type": "execute_result"
    }
   ],
   "source": [
    "SP500_RP_contem_ret_2023.head()"
   ]
  },
  {
   "cell_type": "code",
   "execution_count": 591,
   "metadata": {},
   "outputs": [
    {
     "data": {
      "text/plain": [
       "0"
      ]
     },
     "execution_count": 591,
     "metadata": {},
     "output_type": "execute_result"
    }
   ],
   "source": [
    "SP500_RP_contem_ret_2023.duplicated().sum()\n",
    "SP500_RP_contem_ret_2023.isna().sum().sum()"
   ]
  },
  {
   "cell_type": "markdown",
   "metadata": {},
   "source": [
    "# Seperating line"
   ]
  },
  {
   "cell_type": "code",
   "execution_count": null,
   "metadata": {},
   "outputs": [],
   "source": []
  },
  {
   "cell_type": "code",
   "execution_count": null,
   "metadata": {},
   "outputs": [],
   "source": [
    "# Drop same headlines happening in consecutive days\n",
    "RP_2023 = RP_2023.drop_duplicates(\"\")"
   ]
  },
  {
   "cell_type": "code",
   "execution_count": 26,
   "metadata": {},
   "outputs": [],
   "source": [
    "def next_workday(date):\n",
    "  if date.weekday() >= 4:\n",
    "    return date+dt.timedelta(days = 7-date.weekday())\n",
    "  else:\n",
    "    return date+dt.timedelta(days = 1)\n",
    "def headline_ret_date(ET_time):\n",
    "  if ET_time.weekday()>=5:\n",
    "    return next_workday(ET_time).date()\n",
    "  else:\n",
    "    closing_time = ET_time.replace(hour = 16,minute =30)\n",
    "    if ET_time < closing_time:\n",
    "      return ET_time.date()\n",
    "    else:\n",
    "      return next_workday(ET_time).date()"
   ]
  },
  {
   "cell_type": "code",
   "execution_count": 27,
   "metadata": {},
   "outputs": [
    {
     "data": {
      "text/html": [
       "<div>\n",
       "<style scoped>\n",
       "    .dataframe tbody tr th:only-of-type {\n",
       "        vertical-align: middle;\n",
       "    }\n",
       "\n",
       "    .dataframe tbody tr th {\n",
       "        vertical-align: top;\n",
       "    }\n",
       "\n",
       "    .dataframe thead th {\n",
       "        text-align: right;\n",
       "    }\n",
       "</style>\n",
       "<table border=\"1\" class=\"dataframe\">\n",
       "  <thead>\n",
       "    <tr style=\"text-align: right;\">\n",
       "      <th></th>\n",
       "      <th>timestamp_utc</th>\n",
       "      <th>rp_entity_id</th>\n",
       "      <th>headline</th>\n",
       "    </tr>\n",
       "  </thead>\n",
       "  <tbody>\n",
       "    <tr>\n",
       "      <th>0</th>\n",
       "      <td>2023-01-01 10:25:31.105</td>\n",
       "      <td>00194C</td>\n",
       "      <td>BSE: Continental Controls Ltd. - Closure Of Tr...</td>\n",
       "    </tr>\n",
       "    <tr>\n",
       "      <th>1</th>\n",
       "      <td>2023-01-01 10:25:31.435</td>\n",
       "      <td>00194C</td>\n",
       "      <td>BSE: Continental Controls Ltd. - Closure Of Tr...</td>\n",
       "    </tr>\n",
       "    <tr>\n",
       "      <th>2</th>\n",
       "      <td>2023-01-01 08:31:38.519</td>\n",
       "      <td>01316B</td>\n",
       "      <td>Bilibili Hosts Annual New Year's Eve Gala - \"T...</td>\n",
       "    </tr>\n",
       "    <tr>\n",
       "      <th>3</th>\n",
       "      <td>2023-01-01 02:00:05.447</td>\n",
       "      <td>0157B1</td>\n",
       "      <td>New Film Release: Cryptid Horror Movie Brings ...</td>\n",
       "    </tr>\n",
       "    <tr>\n",
       "      <th>4</th>\n",
       "      <td>2023-01-01 07:00:11.264</td>\n",
       "      <td>0157B1</td>\n",
       "      <td>The Craziest Moments From the Longest Tech Boo...</td>\n",
       "    </tr>\n",
       "  </tbody>\n",
       "</table>\n",
       "</div>"
      ],
      "text/plain": [
       "            timestamp_utc rp_entity_id  \\\n",
       "0 2023-01-01 10:25:31.105       00194C   \n",
       "1 2023-01-01 10:25:31.435       00194C   \n",
       "2 2023-01-01 08:31:38.519       01316B   \n",
       "3 2023-01-01 02:00:05.447       0157B1   \n",
       "4 2023-01-01 07:00:11.264       0157B1   \n",
       "\n",
       "                                            headline  \n",
       "0  BSE: Continental Controls Ltd. - Closure Of Tr...  \n",
       "1  BSE: Continental Controls Ltd. - Closure Of Tr...  \n",
       "2  Bilibili Hosts Annual New Year's Eve Gala - \"T...  \n",
       "3  New Film Release: Cryptid Horror Movie Brings ...  \n",
       "4  The Craziest Moments From the Longest Tech Boo...  "
      ]
     },
     "execution_count": 27,
     "metadata": {},
     "output_type": "execute_result"
    }
   ],
   "source": [
    "RP_2023_test = RP_2023.copy()\n",
    "RP_2023_test.head()"
   ]
  },
  {
   "cell_type": "code",
   "execution_count": 28,
   "metadata": {},
   "outputs": [
    {
     "data": {
      "text/html": [
       "<div>\n",
       "<style scoped>\n",
       "    .dataframe tbody tr th:only-of-type {\n",
       "        vertical-align: middle;\n",
       "    }\n",
       "\n",
       "    .dataframe tbody tr th {\n",
       "        vertical-align: top;\n",
       "    }\n",
       "\n",
       "    .dataframe thead th {\n",
       "        text-align: right;\n",
       "    }\n",
       "</style>\n",
       "<table border=\"1\" class=\"dataframe\">\n",
       "  <thead>\n",
       "    <tr style=\"text-align: right;\">\n",
       "      <th></th>\n",
       "      <th>rp_entity_id</th>\n",
       "      <th>headline</th>\n",
       "    </tr>\n",
       "    <tr>\n",
       "      <th>timestamp</th>\n",
       "      <th></th>\n",
       "      <th></th>\n",
       "    </tr>\n",
       "  </thead>\n",
       "  <tbody>\n",
       "    <tr>\n",
       "      <th>2023-01-01 05:25:31.105000-05:00</th>\n",
       "      <td>00194C</td>\n",
       "      <td>BSE: Continental Controls Ltd. - Closure Of Tr...</td>\n",
       "    </tr>\n",
       "    <tr>\n",
       "      <th>2023-01-01 05:25:31.435000-05:00</th>\n",
       "      <td>00194C</td>\n",
       "      <td>BSE: Continental Controls Ltd. - Closure Of Tr...</td>\n",
       "    </tr>\n",
       "    <tr>\n",
       "      <th>2023-01-01 03:31:38.519000-05:00</th>\n",
       "      <td>01316B</td>\n",
       "      <td>Bilibili Hosts Annual New Year's Eve Gala - \"T...</td>\n",
       "    </tr>\n",
       "    <tr>\n",
       "      <th>2022-12-31 21:00:05.447000-05:00</th>\n",
       "      <td>0157B1</td>\n",
       "      <td>New Film Release: Cryptid Horror Movie Brings ...</td>\n",
       "    </tr>\n",
       "    <tr>\n",
       "      <th>2023-01-01 02:00:11.264000-05:00</th>\n",
       "      <td>0157B1</td>\n",
       "      <td>The Craziest Moments From the Longest Tech Boo...</td>\n",
       "    </tr>\n",
       "  </tbody>\n",
       "</table>\n",
       "</div>"
      ],
      "text/plain": [
       "                                 rp_entity_id  \\\n",
       "timestamp                                       \n",
       "2023-01-01 05:25:31.105000-05:00       00194C   \n",
       "2023-01-01 05:25:31.435000-05:00       00194C   \n",
       "2023-01-01 03:31:38.519000-05:00       01316B   \n",
       "2022-12-31 21:00:05.447000-05:00       0157B1   \n",
       "2023-01-01 02:00:11.264000-05:00       0157B1   \n",
       "\n",
       "                                                                           headline  \n",
       "timestamp                                                                            \n",
       "2023-01-01 05:25:31.105000-05:00  BSE: Continental Controls Ltd. - Closure Of Tr...  \n",
       "2023-01-01 05:25:31.435000-05:00  BSE: Continental Controls Ltd. - Closure Of Tr...  \n",
       "2023-01-01 03:31:38.519000-05:00  Bilibili Hosts Annual New Year's Eve Gala - \"T...  \n",
       "2022-12-31 21:00:05.447000-05:00  New Film Release: Cryptid Horror Movie Brings ...  \n",
       "2023-01-01 02:00:11.264000-05:00  The Craziest Moments From the Longest Tech Boo...  "
      ]
     },
     "execution_count": 28,
     "metadata": {},
     "output_type": "execute_result"
    }
   ],
   "source": [
    "RP_2023_test = RP_2023_test.rename(columns= {\"timestamp_utc\":\"timestamp\"})\n",
    "RP_2023_test.set_index(\"timestamp\",inplace = True)\n",
    "RP_2023_test.index = pd.to_datetime(RP_2023_test.index).tz_localize(\"UTC\").tz_convert(pytz.timezone(\"America/New_York\"))\n",
    "RP_2023_test.head()"
   ]
  },
  {
   "cell_type": "code",
   "execution_count": 29,
   "metadata": {},
   "outputs": [],
   "source": [
    "RP_2023_test.reset_index(inplace = True)\n",
    "# Associate headlines' times to returns' times \n",
    "RP_2023_test.timestamp = RP_2023_test.timestamp.apply(lambda x:headline_ret_date(x))"
   ]
  },
  {
   "cell_type": "code",
   "execution_count": 30,
   "metadata": {},
   "outputs": [],
   "source": [
    "RP_2023_test = RP_2023_test.rename(columns = {\"timestamp\":\"date_ret\"})"
   ]
  },
  {
   "cell_type": "code",
   "execution_count": 31,
   "metadata": {},
   "outputs": [
    {
     "data": {
      "text/plain": [
       "2541131"
      ]
     },
     "execution_count": 31,
     "metadata": {},
     "output_type": "execute_result"
    }
   ],
   "source": [
    "# There are some duplicated headlines after associating to returns'dates which should\n",
    "# not be dropped. For example: same headlines on Saturday and Monday go to Monday together\n",
    "RP_2023_test.duplicated().sum()"
   ]
  },
  {
   "cell_type": "code",
   "execution_count": 32,
   "metadata": {},
   "outputs": [
    {
     "data": {
      "text/plain": [
       "0"
      ]
     },
     "execution_count": 32,
     "metadata": {},
     "output_type": "execute_result"
    }
   ],
   "source": [
    "# NO NA values\n",
    "RP_2023_test.isna().sum().sum()"
   ]
  },
  {
   "cell_type": "code",
   "execution_count": 33,
   "metadata": {},
   "outputs": [],
   "source": [
    "RP_2023_test.date_ret = pd.to_datetime(RP_2023_test.date_ret)\n",
    "sp500_2023_ret_headline = sp500_2023_RPid.merge(RP_2023_test, how = \"inner\", left_on = [\"date\",\"RP_ENTITY_ID\"],right_on = [\"date_ret\",\"rp_entity_id\"])"
   ]
  },
  {
   "cell_type": "code",
   "execution_count": 34,
   "metadata": {},
   "outputs": [
    {
     "data": {
      "text/plain": [
       "378922"
      ]
     },
     "execution_count": 34,
     "metadata": {},
     "output_type": "execute_result"
    }
   ],
   "source": [
    "# There are duplicates because of duplicates in headline data frame after associated with returns'\n",
    "# dates which should be kept\n",
    "sp500_2023_ret_headline.duplicated().sum()"
   ]
  },
  {
   "cell_type": "code",
   "execution_count": 35,
   "metadata": {},
   "outputs": [
    {
     "data": {
      "text/html": [
       "<div>\n",
       "<style scoped>\n",
       "    .dataframe tbody tr th:only-of-type {\n",
       "        vertical-align: middle;\n",
       "    }\n",
       "\n",
       "    .dataframe tbody tr th {\n",
       "        vertical-align: top;\n",
       "    }\n",
       "\n",
       "    .dataframe thead th {\n",
       "        text-align: right;\n",
       "    }\n",
       "</style>\n",
       "<table border=\"1\" class=\"dataframe\">\n",
       "  <thead>\n",
       "    <tr style=\"text-align: right;\">\n",
       "      <th></th>\n",
       "      <th>date</th>\n",
       "      <th>permno</th>\n",
       "      <th>ret</th>\n",
       "      <th>headline</th>\n",
       "    </tr>\n",
       "  </thead>\n",
       "  <tbody>\n",
       "    <tr>\n",
       "      <th>0</th>\n",
       "      <td>2023-01-03</td>\n",
       "      <td>22592</td>\n",
       "      <td>0.021264</td>\n",
       "      <td>The Worldwide Industrial Food and Beverages Fi...</td>\n",
       "    </tr>\n",
       "    <tr>\n",
       "      <th>1</th>\n",
       "      <td>2023-01-03</td>\n",
       "      <td>22592</td>\n",
       "      <td>0.021264</td>\n",
       "      <td>Europe OTC Braces &amp; Supports Market Report 202...</td>\n",
       "    </tr>\n",
       "    <tr>\n",
       "      <th>2</th>\n",
       "      <td>2023-01-03</td>\n",
       "      <td>22592</td>\n",
       "      <td>0.021264</td>\n",
       "      <td>$16.6 Billion Worldwide Ceramic Matrix Composi...</td>\n",
       "    </tr>\n",
       "    <tr>\n",
       "      <th>3</th>\n",
       "      <td>2023-01-03</td>\n",
       "      <td>22592</td>\n",
       "      <td>0.021264</td>\n",
       "      <td>MIMEDX Appoints Ricci S. Whitlow as Chief Oper...</td>\n",
       "    </tr>\n",
       "    <tr>\n",
       "      <th>4</th>\n",
       "      <td>2023-01-03</td>\n",
       "      <td>22592</td>\n",
       "      <td>0.021264</td>\n",
       "      <td>3M Tries to Contain Legal Battles Over 'Foreve...</td>\n",
       "    </tr>\n",
       "  </tbody>\n",
       "</table>\n",
       "</div>"
      ],
      "text/plain": [
       "        date  permno       ret  \\\n",
       "0 2023-01-03   22592  0.021264   \n",
       "1 2023-01-03   22592  0.021264   \n",
       "2 2023-01-03   22592  0.021264   \n",
       "3 2023-01-03   22592  0.021264   \n",
       "4 2023-01-03   22592  0.021264   \n",
       "\n",
       "                                            headline  \n",
       "0  The Worldwide Industrial Food and Beverages Fi...  \n",
       "1  Europe OTC Braces & Supports Market Report 202...  \n",
       "2  $16.6 Billion Worldwide Ceramic Matrix Composi...  \n",
       "3  MIMEDX Appoints Ricci S. Whitlow as Chief Oper...  \n",
       "4  3M Tries to Contain Legal Battles Over 'Foreve...  "
      ]
     },
     "execution_count": 35,
     "metadata": {},
     "output_type": "execute_result"
    }
   ],
   "source": [
    "# sp500_2023_ret_headline = sp500_2023_ret_headline.drop_duplicates()\n",
    "sp500_2023_ret_headline = sp500_2023_ret_headline[[\"date\",\"permno\",\"ret\",\"headline\"]]\n",
    "sp500_2023_ret_headline.head()"
   ]
  }
 ],
 "metadata": {
  "kernelspec": {
   "display_name": "base",
   "language": "python",
   "name": "python3"
  },
  "language_info": {
   "codemirror_mode": {
    "name": "ipython",
    "version": 3
   },
   "file_extension": ".py",
   "mimetype": "text/x-python",
   "name": "python",
   "nbconvert_exporter": "python",
   "pygments_lexer": "ipython3",
   "version": "3.11.7"
  }
 },
 "nbformat": 4,
 "nbformat_minor": 2
}
