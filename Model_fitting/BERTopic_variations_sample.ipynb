{
 "cells": [
  {
   "cell_type": "code",
   "execution_count": 1,
   "metadata": {},
   "outputs": [],
   "source": [
    "import os\n",
    "os.environ[\"CUDA_VISIBLE_DEVICES\"] = \"6\""
   ]
  },
  {
   "cell_type": "code",
   "execution_count": 2,
   "metadata": {},
   "outputs": [
    {
     "name": "stderr",
     "output_type": "stream",
     "text": [
      "/user/wx2309/.conda/envs/TM/lib/python3.10/site-packages/tqdm/auto.py:21: TqdmWarning: IProgress not found. Please update jupyter and ipywidgets. See https://ipywidgets.readthedocs.io/en/stable/user_install.html\n",
      "  from .autonotebook import tqdm as notebook_tqdm\n"
     ]
    }
   ],
   "source": [
    "# Import necessary modules\n",
    "import pandas as pd \n",
    "from sentence_transformers import SentenceTransformer\n",
    "# Take PCA and GMM as the example here\n",
    "from cuml.decomposition import PCA\n",
    "from pycave.bayes import GaussianMixture as GMM\n",
    "from sklearn.feature_extraction.text import CountVectorizer\n",
    "from bertopic import BERTopic\n",
    "import numpy as np\n",
    "from sklearn.linear_model import LinearRegression\n",
    "from sklearn.model_selection import KFold\n",
    "import torch\n",
    "import gc"
   ]
  },
  {
   "cell_type": "code",
   "execution_count": 3,
   "metadata": {},
   "outputs": [],
   "source": [
    "df_folder = \"/shared/share_tm-finance/Processed_df_Sentiment/One_year_window\"\n",
    "embeddings_folder = \"/shared/share_tm-finance/Embeddings_with_Sentiment/One_year_window\"\n",
    "saved_model_folder = \"/shared/share_tm-finance/Stored_model/pcagmm\"\n",
    "year = 2022\n",
    "num_clusters = 60\n",
    "df = pd.read_csv(df_folder+f\"/contem_{year}_senti.csv\")\n",
    "headlines = df.vocab_con_headline.tolist()\n",
    "embeddings = np.load(embeddings_folder+f\"/contem_{year}_senti_embeddings.npy\")"
   ]
  },
  {
   "cell_type": "code",
   "execution_count": 4,
   "metadata": {},
   "outputs": [
    {
     "data": {
      "text/html": [
       "<div>\n",
       "<style scoped>\n",
       "    .dataframe tbody tr th:only-of-type {\n",
       "        vertical-align: middle;\n",
       "    }\n",
       "\n",
       "    .dataframe tbody tr th {\n",
       "        vertical-align: top;\n",
       "    }\n",
       "\n",
       "    .dataframe thead th {\n",
       "        text-align: right;\n",
       "    }\n",
       "</style>\n",
       "<table border=\"1\" class=\"dataframe\">\n",
       "  <thead>\n",
       "    <tr style=\"text-align: right;\">\n",
       "      <th></th>\n",
       "      <th>date</th>\n",
       "      <th>rp_entity_id</th>\n",
       "      <th>comnam</th>\n",
       "      <th>ret</th>\n",
       "      <th>headline</th>\n",
       "      <th>css</th>\n",
       "      <th>vocab_con_headline</th>\n",
       "    </tr>\n",
       "  </thead>\n",
       "  <tbody>\n",
       "    <tr>\n",
       "      <th>0</th>\n",
       "      <td>2022-01-03</td>\n",
       "      <td>6284B5</td>\n",
       "      <td>IRON MOUNTAIN INC NEW</td>\n",
       "      <td>-0.019301</td>\n",
       "      <td>CFA High Yield:Insider Review For Week Ended 3...</td>\n",
       "      <td>0.00</td>\n",
       "      <td>cfa high yield insider review week ended 31 dec</td>\n",
       "    </tr>\n",
       "    <tr>\n",
       "      <th>1</th>\n",
       "      <td>2022-01-03</td>\n",
       "      <td>6284B5</td>\n",
       "      <td>IRON MOUNTAIN INC NEW</td>\n",
       "      <td>-0.019301</td>\n",
       "      <td>CFA Real Estate:Insider Review For Week Ended ...</td>\n",
       "      <td>0.00</td>\n",
       "      <td>cfa real estate insider review week ended 31 dec</td>\n",
       "    </tr>\n",
       "    <tr>\n",
       "      <th>2</th>\n",
       "      <td>2022-01-03</td>\n",
       "      <td>6284B5</td>\n",
       "      <td>IRON MOUNTAIN INC NEW</td>\n",
       "      <td>-0.019301</td>\n",
       "      <td>MW These are the best-performing S&amp;P 500 and N...</td>\n",
       "      <td>0.10</td>\n",
       "      <td>best performing 500 nasdaq 100</td>\n",
       "    </tr>\n",
       "    <tr>\n",
       "      <th>3</th>\n",
       "      <td>2022-01-03</td>\n",
       "      <td>636639</td>\n",
       "      <td>DOVER CORP</td>\n",
       "      <td>-0.018007</td>\n",
       "      <td>PE Daily: Private Equity's Tech Bonanza | -2-</td>\n",
       "      <td>-0.06</td>\n",
       "      <td>pe daily private equity tech bonanza</td>\n",
       "    </tr>\n",
       "    <tr>\n",
       "      <th>4</th>\n",
       "      <td>2022-01-03</td>\n",
       "      <td>636639</td>\n",
       "      <td>DOVER CORP</td>\n",
       "      <td>-0.018007</td>\n",
       "      <td>Private Equity Daily: Private Equity's 2021 Te...</td>\n",
       "      <td>0.00</td>\n",
       "      <td>private equity daily private equity tech</td>\n",
       "    </tr>\n",
       "  </tbody>\n",
       "</table>\n",
       "</div>"
      ],
      "text/plain": [
       "         date rp_entity_id                 comnam       ret  \\\n",
       "0  2022-01-03       6284B5  IRON MOUNTAIN INC NEW -0.019301   \n",
       "1  2022-01-03       6284B5  IRON MOUNTAIN INC NEW -0.019301   \n",
       "2  2022-01-03       6284B5  IRON MOUNTAIN INC NEW -0.019301   \n",
       "3  2022-01-03       636639             DOVER CORP -0.018007   \n",
       "4  2022-01-03       636639             DOVER CORP -0.018007   \n",
       "\n",
       "                                            headline   css  \\\n",
       "0  CFA High Yield:Insider Review For Week Ended 3...  0.00   \n",
       "1  CFA Real Estate:Insider Review For Week Ended ...  0.00   \n",
       "2  MW These are the best-performing S&P 500 and N...  0.10   \n",
       "3      PE Daily: Private Equity's Tech Bonanza | -2- -0.06   \n",
       "4  Private Equity Daily: Private Equity's 2021 Te...  0.00   \n",
       "\n",
       "                                 vocab_con_headline  \n",
       "0   cfa high yield insider review week ended 31 dec  \n",
       "1  cfa real estate insider review week ended 31 dec  \n",
       "2                    best performing 500 nasdaq 100  \n",
       "3              pe daily private equity tech bonanza  \n",
       "4          private equity daily private equity tech  "
      ]
     },
     "execution_count": 4,
     "metadata": {},
     "output_type": "execute_result"
    }
   ],
   "source": [
    "df.head()"
   ]
  },
  {
   "cell_type": "code",
   "execution_count": 5,
   "metadata": {},
   "outputs": [],
   "source": [
    "class MyGMM:\n",
    "    def __init__(self, num_components, trainer_params):\n",
    "        self.gmm = GMM(num_components=num_components,trainer_params=trainer_params)\n",
    "        self.labels_ = None\n",
    "    \n",
    "    def fit(self,data):\n",
    "        self.gmm.fit(data)\n",
    "        self.labels_ = np.array(self.gmm.predict(data))\n",
    "        return self\n",
    "    \n",
    "    def predict(self,data):\n",
    "        return np.array(self.gmm.predict(data))"
   ]
  },
  {
   "cell_type": "code",
   "execution_count": 6,
   "metadata": {},
   "outputs": [
    {
     "name": "stderr",
     "output_type": "stream",
     "text": [
      "2024-07-10 12:49:20,347 - BERTopic - Dimensionality - Fitting the dimensionality reduction algorithm\n",
      "2024-07-10 12:49:24,418 - BERTopic - Dimensionality - Completed ✓\n",
      "2024-07-10 12:49:24,455 - BERTopic - Cluster - Start clustering the reduced embeddings\n",
      "Fitting K-means estimator...\n",
      "Running initialization...\n"
     ]
    },
    {
     "name": "stdout",
     "output_type": "stream",
     "text": [
      "Epoch 118: 100%|██████████| 1/1 [00:00<00:00, 112.35it/s]\n",
      "Epoch 299: 100%|██████████| 1/1 [00:00<00:00, 84.49it/s] \n"
     ]
    },
    {
     "name": "stderr",
     "output_type": "stream",
     "text": [
      "Fitting K-Means...\n"
     ]
    },
    {
     "name": "stdout",
     "output_type": "stream",
     "text": [
      "Epoch 299: 100%|██████████| 1/1 [00:00<00:00, 41.84it/s, inertia=0.0603]"
     ]
    },
    {
     "name": "stderr",
     "output_type": "stream",
     "text": [
      "Running initialization...\n"
     ]
    },
    {
     "name": "stdout",
     "output_type": "stream",
     "text": [
      "\n",
      "Epoch 0: 100%|██████████| 1/1 [00:00<00:00, 53.17it/s]\n"
     ]
    },
    {
     "name": "stderr",
     "output_type": "stream",
     "text": [
      "Fitting Gaussian mixture...\n"
     ]
    },
    {
     "name": "stdout",
     "output_type": "stream",
     "text": [
      "Epoch 21: 100%|██████████| 1/1 [00:00<00:00, 61.06it/s, nll=-7.85] \n",
      "Predicting DataLoader 0: 100%|██████████| 1/1 [00:00<00:00,  5.84it/s] \n"
     ]
    },
    {
     "name": "stderr",
     "output_type": "stream",
     "text": [
      "2024-07-10 12:49:38,897 - BERTopic - Cluster - Completed ✓\n",
      "2024-07-10 12:49:39,035 - BERTopic - Representation - Extracting topics from clusters using representation models.\n",
      "2024-07-10 12:49:44,069 - BERTopic - Representation - Completed ✓\n",
      "100%|██████████| 1436/1436 [00:56<00:00, 25.49it/s]\n",
      "100%|██████████| 359/359 [00:14<00:00, 25.64it/s]\n",
      "2024-07-10 12:50:59,489 - BERTopic - Dimensionality - Fitting the dimensionality reduction algorithm\n",
      "2024-07-10 12:51:00,148 - BERTopic - Dimensionality - Completed ✓\n",
      "2024-07-10 12:51:00,178 - BERTopic - Cluster - Start clustering the reduced embeddings\n",
      "Fitting K-means estimator...\n",
      "Running initialization...\n"
     ]
    },
    {
     "name": "stdout",
     "output_type": "stream",
     "text": [
      "Epoch 118: 100%|██████████| 1/1 [00:00<00:00, 126.90it/s]\n",
      "Epoch 299: 100%|██████████| 1/1 [00:00<00:00, 157.85it/s]"
     ]
    },
    {
     "name": "stderr",
     "output_type": "stream",
     "text": [
      "Fitting K-Means...\n"
     ]
    },
    {
     "name": "stdout",
     "output_type": "stream",
     "text": [
      "\n",
      "Epoch 299: 100%|██████████| 1/1 [00:00<00:00, 24.81it/s, inertia=0.0602]\n"
     ]
    },
    {
     "name": "stderr",
     "output_type": "stream",
     "text": [
      "Running initialization...\n"
     ]
    },
    {
     "name": "stdout",
     "output_type": "stream",
     "text": [
      "Epoch 0: 100%|██████████| 1/1 [00:00<00:00, 62.74it/s]\n"
     ]
    },
    {
     "name": "stderr",
     "output_type": "stream",
     "text": [
      "Fitting Gaussian mixture...\n"
     ]
    },
    {
     "name": "stdout",
     "output_type": "stream",
     "text": [
      "Epoch 27: 100%|██████████| 1/1 [00:00<00:00, 36.61it/s, nll=-7.86] \n",
      "Predicting DataLoader 0: 100%|██████████| 1/1 [00:00<00:00,  5.43it/s] \n"
     ]
    },
    {
     "name": "stderr",
     "output_type": "stream",
     "text": [
      "2024-07-10 12:51:12,737 - BERTopic - Cluster - Completed ✓\n",
      "2024-07-10 12:51:12,868 - BERTopic - Representation - Extracting topics from clusters using representation models.\n",
      "2024-07-10 12:51:17,847 - BERTopic - Representation - Completed ✓\n",
      "100%|██████████| 1436/1436 [00:56<00:00, 25.62it/s]\n",
      "100%|██████████| 359/359 [00:13<00:00, 25.91it/s]\n",
      "2024-07-10 12:52:31,902 - BERTopic - Dimensionality - Fitting the dimensionality reduction algorithm\n",
      "2024-07-10 12:52:32,506 - BERTopic - Dimensionality - Completed ✓\n",
      "2024-07-10 12:52:32,547 - BERTopic - Cluster - Start clustering the reduced embeddings\n",
      "Fitting K-means estimator...\n",
      "Running initialization...\n"
     ]
    },
    {
     "name": "stdout",
     "output_type": "stream",
     "text": [
      "Epoch 118: 100%|██████████| 1/1 [00:00<00:00, 77.14it/s] \n",
      "Epoch 299: 100%|██████████| 1/1 [00:00<00:00, 144.36it/s]"
     ]
    },
    {
     "name": "stderr",
     "output_type": "stream",
     "text": [
      "Fitting K-Means...\n"
     ]
    },
    {
     "name": "stdout",
     "output_type": "stream",
     "text": [
      "\n",
      "Epoch 44: 100%|██████████| 1/1 [00:00<00:00, 22.52it/s, inertia=0.0604]"
     ]
    },
    {
     "name": "stderr",
     "output_type": "stream",
     "text": [
      "Running initialization...\n"
     ]
    },
    {
     "name": "stdout",
     "output_type": "stream",
     "text": [
      "\n",
      "Epoch 0: 100%|██████████| 1/1 [00:00<00:00, 102.15it/s]"
     ]
    },
    {
     "name": "stderr",
     "output_type": "stream",
     "text": [
      "Fitting Gaussian mixture...\n"
     ]
    },
    {
     "name": "stdout",
     "output_type": "stream",
     "text": [
      "\n",
      "Epoch 37: 100%|██████████| 1/1 [00:00<00:00, 40.93it/s, nll=-7.87] \n",
      "Predicting DataLoader 0: 100%|██████████| 1/1 [00:00<00:00,  5.95it/s] \n"
     ]
    },
    {
     "name": "stderr",
     "output_type": "stream",
     "text": [
      "2024-07-10 12:52:38,299 - BERTopic - Cluster - Completed ✓\n",
      "2024-07-10 12:52:38,434 - BERTopic - Representation - Extracting topics from clusters using representation models.\n",
      "2024-07-10 12:52:43,482 - BERTopic - Representation - Completed ✓\n",
      "100%|██████████| 1436/1436 [00:55<00:00, 25.76it/s]\n",
      "100%|██████████| 359/359 [00:13<00:00, 26.47it/s]\n",
      "2024-07-10 12:53:57,313 - BERTopic - Dimensionality - Fitting the dimensionality reduction algorithm\n",
      "2024-07-10 12:53:57,969 - BERTopic - Dimensionality - Completed ✓\n",
      "2024-07-10 12:53:57,999 - BERTopic - Cluster - Start clustering the reduced embeddings\n",
      "Fitting K-means estimator...\n",
      "Running initialization...\n"
     ]
    },
    {
     "name": "stdout",
     "output_type": "stream",
     "text": [
      "Epoch 118: 100%|██████████| 1/1 [00:00<00:00, 140.35it/s]\n",
      "Epoch 299: 100%|██████████| 1/1 [00:00<00:00, 126.72it/s]"
     ]
    },
    {
     "name": "stderr",
     "output_type": "stream",
     "text": [
      "Fitting K-Means...\n"
     ]
    },
    {
     "name": "stdout",
     "output_type": "stream",
     "text": [
      "\n",
      "Epoch 299: 100%|██████████| 1/1 [00:00<00:00, 30.21it/s, inertia=0.0602]\n"
     ]
    },
    {
     "name": "stderr",
     "output_type": "stream",
     "text": [
      "Running initialization...\n"
     ]
    },
    {
     "name": "stdout",
     "output_type": "stream",
     "text": [
      "Epoch 0: 100%|██████████| 1/1 [00:00<00:00, 56.84it/s]\n"
     ]
    },
    {
     "name": "stderr",
     "output_type": "stream",
     "text": [
      "Fitting Gaussian mixture...\n"
     ]
    },
    {
     "name": "stdout",
     "output_type": "stream",
     "text": [
      "Epoch 23: 100%|██████████| 1/1 [00:00<00:00, 40.02it/s, nll=-7.86] \n",
      "Predicting DataLoader 0: 100%|██████████| 1/1 [00:00<00:00,  5.46it/s] \n"
     ]
    },
    {
     "name": "stderr",
     "output_type": "stream",
     "text": [
      "2024-07-10 12:54:12,398 - BERTopic - Cluster - Completed ✓\n",
      "2024-07-10 12:54:12,541 - BERTopic - Representation - Extracting topics from clusters using representation models.\n",
      "2024-07-10 12:54:17,662 - BERTopic - Representation - Completed ✓\n",
      "100%|██████████| 1436/1436 [00:56<00:00, 25.51it/s]\n",
      "100%|██████████| 359/359 [00:13<00:00, 25.77it/s]\n",
      "2024-07-10 12:55:32,018 - BERTopic - Dimensionality - Fitting the dimensionality reduction algorithm\n",
      "2024-07-10 12:55:32,668 - BERTopic - Dimensionality - Completed ✓\n",
      "2024-07-10 12:55:32,699 - BERTopic - Cluster - Start clustering the reduced embeddings\n",
      "Fitting K-means estimator...\n",
      "Running initialization...\n"
     ]
    },
    {
     "name": "stdout",
     "output_type": "stream",
     "text": [
      "Epoch 118: 100%|██████████| 1/1 [00:00<00:00, 113.80it/s]\n",
      "Epoch 299: 100%|██████████| 1/1 [00:00<00:00, 77.05it/s] \n"
     ]
    },
    {
     "name": "stderr",
     "output_type": "stream",
     "text": [
      "Fitting K-Means...\n"
     ]
    },
    {
     "name": "stdout",
     "output_type": "stream",
     "text": [
      "Epoch 299: 100%|██████████| 1/1 [00:00<00:00, 20.89it/s, inertia=0.0602]"
     ]
    },
    {
     "name": "stderr",
     "output_type": "stream",
     "text": [
      "Running initialization...\n"
     ]
    },
    {
     "name": "stdout",
     "output_type": "stream",
     "text": [
      "\n",
      "Epoch 0: 100%|██████████| 1/1 [00:00<00:00, 96.58it/s] \n"
     ]
    },
    {
     "name": "stderr",
     "output_type": "stream",
     "text": [
      "Fitting Gaussian mixture...\n"
     ]
    },
    {
     "name": "stdout",
     "output_type": "stream",
     "text": [
      "Epoch 23: 100%|██████████| 1/1 [00:00<00:00, 39.50it/s, nll=-7.87] \n",
      "Predicting DataLoader 0: 100%|██████████| 1/1 [00:00<00:00,  5.40it/s] \n"
     ]
    },
    {
     "name": "stderr",
     "output_type": "stream",
     "text": [
      "2024-07-10 12:55:46,343 - BERTopic - Cluster - Completed ✓\n",
      "2024-07-10 12:55:46,479 - BERTopic - Representation - Extracting topics from clusters using representation models.\n",
      "2024-07-10 12:55:51,750 - BERTopic - Representation - Completed ✓\n",
      "100%|██████████| 1436/1436 [00:55<00:00, 25.70it/s]\n",
      "100%|██████████| 359/359 [00:14<00:00, 25.49it/s]\n"
     ]
    }
   ],
   "source": [
    "insampler2_list = []\n",
    "outsampler2_new_list = []\n",
    "outsampler2_old_list = []\n",
    "kfold = KFold(shuffle=True,random_state=66)\n",
    "for i, (tr_ind,te_ind) in enumerate(kfold.split(range(len(headlines)))):\n",
    "    torch.cuda.empty_cache()\n",
    "    gc.collect()\n",
    "\n",
    "    tr_df = df.iloc[tr_ind,:]\n",
    "    te_df = df.iloc[te_ind,:]\n",
    "    tr_headlines = [headlines[ind] for ind in tr_ind]\n",
    "    te_headlines = [headlines[ind] for ind in te_ind]\n",
    "    tr_embeddings = embeddings[tr_ind,:]\n",
    "\n",
    "    embedding_model = SentenceTransformer('all-MiniLM-L6-v2')\n",
    "    umap_model = PCA(n_components = 10)\n",
    "    # Assume 60 clusters here\n",
    "    hdbscan_model = MyGMM(num_components=num_clusters,trainer_params={\"accelerator\":'gpu',\"devices\":1})\n",
    "    vectorizer_model = CountVectorizer()\n",
    "    Topic_model = BERTopic(embedding_model=embedding_model, umap_model=umap_model, hdbscan_model=hdbscan_model, vectorizer_model=vectorizer_model,\n",
    "                        calculate_probabilities = False,verbose = True)\n",
    "    \n",
    "    Topic_model.fit(tr_headlines,tr_embeddings)\n",
    "\n",
    "    os.makedirs(saved_model_folder+f\"/{year}_{num_clusters}_{i+1}\",exist_ok=True)\n",
    "    Topic_model.save(saved_model_folder+f\"/{year}_{num_clusters}_{i+1}\",serialization=\"safetensors\")\n",
    "\n",
    "    tr_topic_dist, _ = Topic_model.approximate_distribution(tr_headlines)\n",
    "    tr_contem_ret_topic_dist = pd.concat([tr_df.drop(columns = [\"rp_entity_id\",\"headline\",\"vocab_con_headline\",\"css\"]),pd.DataFrame(tr_topic_dist)],axis = 1)\n",
    "    tr_grouped = tr_contem_ret_topic_dist.groupby(['date',\"comnam\",\"ret\"])\n",
    "    tr_grouped_sum = tr_grouped.sum()\n",
    "    tr_X = np.array(tr_grouped_sum)\n",
    "    tr_ret = [ind[2] for ind in list(tr_grouped_sum.index)]\n",
    "    tr_Y = np.array(tr_ret).reshape(-1,1)\n",
    "    tr_regression = LinearRegression(fit_intercept=True)\n",
    "    tr_regression.fit(tr_X,tr_Y)\n",
    "    insampler2_list.append(tr_regression.score(tr_X,tr_Y))\n",
    "\n",
    "    te_topic_dist, _ = Topic_model.approximate_distribution(te_headlines)\n",
    "    te_contem_ret_topic_dist = pd.concat([te_df.drop(columns = [\"rp_entity_id\",\"headline\",\"vocab_con_headline\",\"css\"]),pd.DataFrame(te_topic_dist)],axis = 1)\n",
    "    te_grouped = te_contem_ret_topic_dist.groupby(['date',\"comnam\",\"ret\"])\n",
    "    te_grouped_sum = te_grouped.sum()\n",
    "    te_X = np.array(te_grouped_sum)\n",
    "    te_ret = [ind[2] for ind in list(te_grouped_sum.index)]\n",
    "    te_Y = np.array(te_ret).reshape(-1,1)\n",
    "    te_regression = LinearRegression(fit_intercept=True)\n",
    "    te_regression.fit(te_X,te_Y)\n",
    "    outsampler2_new_list.append(te_regression.score(te_X,te_Y))\n",
    "\n",
    "    outsampler2_old_list.append(tr_regression.score(te_X,te_Y))\n",
    "    \n"
   ]
  },
  {
   "cell_type": "code",
   "execution_count": 7,
   "metadata": {},
   "outputs": [
    {
     "name": "stdout",
     "output_type": "stream",
     "text": [
      "[0.002074418024785585, 0.0017820044682698155, 0.001709449963743781, 0.001887064272858674, 0.001870062278081952]\n",
      "[0.0016992174542274086, 0.0020058086507290795, 0.0017732304322696235, 0.0022051776698324144, 0.001428947114732071]\n",
      "[-0.0002506909965014348, -0.00012987675045428304, -0.00020084067109116255, -0.00022111001433544608, -0.00016451984265297703]\n",
      "0.0018645998015479615\n",
      "0.0018224762643581193\n",
      "-0.0001934076550070607\n"
     ]
    }
   ],
   "source": [
    "print(insampler2_list)\n",
    "print(outsampler2_new_list)\n",
    "print(outsampler2_old_list)\n",
    "print(np.mean(insampler2_list))\n",
    "print(np.mean(outsampler2_new_list))\n",
    "print(np.mean(outsampler2_old_list))"
   ]
  },
  {
   "cell_type": "code",
   "execution_count": null,
   "metadata": {},
   "outputs": [],
   "source": []
  }
 ],
 "metadata": {
  "kernelspec": {
   "display_name": "TM",
   "language": "python",
   "name": "python3"
  },
  "language_info": {
   "codemirror_mode": {
    "name": "ipython",
    "version": 3
   },
   "file_extension": ".py",
   "mimetype": "text/x-python",
   "name": "python",
   "nbconvert_exporter": "python",
   "pygments_lexer": "ipython3",
   "version": "3.10.14"
  }
 },
 "nbformat": 4,
 "nbformat_minor": 2
}
