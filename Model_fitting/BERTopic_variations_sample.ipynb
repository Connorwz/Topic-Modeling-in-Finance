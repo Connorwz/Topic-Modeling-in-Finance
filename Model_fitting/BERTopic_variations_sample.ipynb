{
 "cells": [
  {
   "cell_type": "code",
   "execution_count": 1,
   "metadata": {},
   "outputs": [
    {
     "name": "stderr",
     "output_type": "stream",
     "text": [
      "/user/wx2309/.conda/envs/TP/lib/python3.9/site-packages/tqdm/auto.py:21: TqdmWarning: IProgress not found. Please update jupyter and ipywidgets. See https://ipywidgets.readthedocs.io/en/stable/user_install.html\n",
      "  from .autonotebook import tqdm as notebook_tqdm\n"
     ]
    }
   ],
   "source": [
    "# Import necessary modules\n",
    "import os \n",
    "import pandas as pd \n",
    "from sentence_transformers import SentenceTransformer\n",
    "# Take PCA and KMeans as the example here\n",
    "from cuml.decomposition import PCA\n",
    "from cuml.cluster import KMeans\n",
    "from sklearn.feature_extraction.text import CountVectorizer\n",
    "from bertopic import BERTopic\n",
    "import numpy as np\n",
    "import collections\n",
    "from tqdm import tqdm\n",
    "from sklearn.linear_model import LinearRegression\n",
    "from sklearn.model_selection import train_test_split\n",
    "from sklearn.metrics import mean_squared_error"
   ]
  },
  {
   "cell_type": "code",
   "execution_count": 2,
   "metadata": {},
   "outputs": [],
   "source": [
    "# Check available GPUs\n",
    "os.environ[\"CUDA_VISIBLE_DEVICES\"] = \"7\""
   ]
  },
  {
   "cell_type": "code",
   "execution_count": 3,
   "metadata": {},
   "outputs": [],
   "source": [
    "df_folder = \"/scratch/wx2309/Processed_data/one_year_window\"\n",
    "embeddings_folder = \"/scratch/wx2309/embeddings\"\n",
    "df = pd.read_csv(df_folder+\"/contem_2023.csv\")\n",
    "headlines = df.headline.tolist()\n",
    "embeddings = np.load(embeddings_folder+\"/contem_2023_embeddings.npy\")"
   ]
  },
  {
   "cell_type": "code",
   "execution_count": 4,
   "metadata": {},
   "outputs": [
    {
     "name": "stderr",
     "output_type": "stream",
     "text": [
      "100%|██████████| 1749770/1749770 [00:07<00:00, 249243.79it/s]\n"
     ]
    },
    {
     "data": {
      "text/plain": [
       "41353"
      ]
     },
     "execution_count": 4,
     "metadata": {},
     "output_type": "execute_result"
    }
   ],
   "source": [
    "vocab = collections.Counter()\n",
    "tokenizer = CountVectorizer().build_tokenizer()\n",
    "for headline in tqdm(headlines):\n",
    "    vocab.update(tokenizer(headline))\n",
    "vocab = [word for word, count in vocab.items() if count > 20]\n",
    "len(vocab)"
   ]
  },
  {
   "cell_type": "code",
   "execution_count": 5,
   "metadata": {},
   "outputs": [],
   "source": [
    "embedding_model = SentenceTransformer('all-MiniLM-L6-v2')\n",
    "umap_model = PCA(n_components = 10)\n",
    "# Assume 62 clusters here\n",
    "hdbscan_model = KMeans(n_clusters=62,verbose = True)\n",
    "vectorizer_model = CountVectorizer(vocabulary=vocab,stop_words=\"english\")\n",
    "Topic_model = BERTopic(embedding_model=embedding_model, umap_model=umap_model, hdbscan_model=hdbscan_model, vectorizer_model=vectorizer_model,\n",
    "                    calculate_probabilities = False,verbose = True,low_memory = True)"
   ]
  },
  {
   "cell_type": "code",
   "execution_count": 6,
   "metadata": {},
   "outputs": [
    {
     "name": "stderr",
     "output_type": "stream",
     "text": [
      "2024-06-15 12:34:19,415 - BERTopic - Dimensionality - Fitting the dimensionality reduction algorithm\n",
      "2024-06-15 12:34:21,303 - BERTopic - Dimensionality - Completed ✓\n",
      "2024-06-15 12:34:21,343 - BERTopic - Cluster - Start clustering the reduced embeddings\n",
      "2024-06-15 12:34:21,870 - BERTopic - Cluster - Completed ✓\n",
      "2024-06-15 12:34:22,035 - BERTopic - Representation - Extracting topics from clusters using representation models.\n",
      "/user/wx2309/.conda/envs/TP/lib/python3.9/site-packages/bertopic/vectorizers/_ctfidf.py:82: RuntimeWarning: divide by zero encountered in divide\n",
      "  idf = np.log((avg_nr_samples / df)+1)\n",
      "2024-06-15 12:34:31,980 - BERTopic - Representation - Completed ✓\n"
     ]
    },
    {
     "data": {
      "text/plain": [
       "<bertopic._bertopic.BERTopic at 0x7f882dd2a940>"
      ]
     },
     "execution_count": 6,
     "metadata": {},
     "output_type": "execute_result"
    }
   ],
   "source": [
    "Topic_model.fit(headlines,embeddings)"
   ]
  },
  {
   "cell_type": "code",
   "execution_count": 7,
   "metadata": {},
   "outputs": [
    {
     "name": "stderr",
     "output_type": "stream",
     "text": [
      "100%|██████████| 1750/1750 [01:41<00:00, 17.20it/s]\n"
     ]
    },
    {
     "name": "stdout",
     "output_type": "stream",
     "text": [
      "Training R square is 0.008919540573840479\n",
      "Training error is 0.0003796797822123109\n",
      "Testing error is 0.0003894050908241998\n"
     ]
    }
   ],
   "source": [
    "topic_dist, _ = Topic_model.approximate_distribution(headlines)\n",
    "contem_ret_topic_dist = pd.concat([df.drop(columns = [\"rp_entity_id\",\"headline\"]),pd.DataFrame(topic_dist)],axis = 1)\n",
    "grouped = contem_ret_topic_dist.groupby(['date',\"comnam\",\"ret\"])\n",
    "grouped_sum = grouped.sum()\n",
    "\n",
    "X = np.array(grouped_sum)\n",
    "ret = []\n",
    "for ind in list(grouped_sum.index):\n",
    "  ret.append(ind[2])\n",
    "Y = np.array(ret).reshape(-1,1)\n",
    "X_tr, X_te, Y_tr, Y_te = train_test_split(X,Y,test_size=0.2,random_state=66)\n",
    "regression = LinearRegression(fit_intercept=True)\n",
    "regression.fit(X_tr,Y_tr)\n",
    "Y_tr_pred = regression.predict(X_tr)\n",
    "Y_te_pred = regression.predict(X_te)\n",
    "\n",
    "mse_tr = mean_squared_error(Y_tr,Y_tr_pred)\n",
    "mse_te= mean_squared_error(Y_te,Y_te_pred)\n",
    "print(f\"Training R square is {regression.score(X_tr,Y_tr)}\")\n",
    "print(f\"Training error is {mse_tr}\")\n",
    "print(f\"Testing error is {mse_te}\")"
   ]
  },
  {
   "cell_type": "code",
   "execution_count": null,
   "metadata": {},
   "outputs": [],
   "source": []
  }
 ],
 "metadata": {
  "kernelspec": {
   "display_name": "Python 3",
   "language": "python",
   "name": "python3"
  },
  "language_info": {
   "codemirror_mode": {
    "name": "ipython",
    "version": 3
   },
   "file_extension": ".py",
   "mimetype": "text/x-python",
   "name": "python",
   "nbconvert_exporter": "python",
   "pygments_lexer": "ipython3",
   "version": "3.9.19"
  }
 },
 "nbformat": 4,
 "nbformat_minor": 2
}
