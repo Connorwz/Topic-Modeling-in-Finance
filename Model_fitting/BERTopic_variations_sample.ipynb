{
 "cells": [
  {
   "cell_type": "code",
   "execution_count": 1,
   "metadata": {},
   "outputs": [
    {
     "name": "stdout",
     "output_type": "stream",
     "text": [
      "Thu Jul  4 17:45:27 2024       \n",
      "+-----------------------------------------------------------------------------------------+\n",
      "| NVIDIA-SMI 550.90.07              Driver Version: 550.90.07      CUDA Version: 12.4     |\n",
      "|-----------------------------------------+------------------------+----------------------+\n",
      "| GPU  Name                 Persistence-M | Bus-Id          Disp.A | Volatile Uncorr. ECC |\n",
      "| Fan  Temp   Perf          Pwr:Usage/Cap |           Memory-Usage | GPU-Util  Compute M. |\n",
      "|                                         |                        |               MIG M. |\n",
      "|=========================================+========================+======================|\n",
      "|   0  NVIDIA A100-SXM4-80GB          On  |   00000000:07:00.0 Off |                    0 |\n",
      "| N/A   57C    P0            270W /  400W |   14715MiB /  81920MiB |    100%      Default |\n",
      "|                                         |                        |             Disabled |\n",
      "+-----------------------------------------+------------------------+----------------------+\n",
      "|   1  NVIDIA A100-SXM4-80GB          On  |   00000000:0A:00.0 Off |                    0 |\n",
      "| N/A   24C    P0             65W /  400W |    2379MiB /  81920MiB |      4%      Default |\n",
      "|                                         |                        |             Disabled |\n",
      "+-----------------------------------------+------------------------+----------------------+\n",
      "|   2  NVIDIA A100-SXM4-80GB          On  |   00000000:45:00.0 Off |                    0 |\n",
      "| N/A   25C    P0             93W /  400W |    8533MiB /  81920MiB |     11%      Default |\n",
      "|                                         |                        |             Disabled |\n",
      "+-----------------------------------------+------------------------+----------------------+\n",
      "|   3  NVIDIA A100-SXM4-80GB          On  |   00000000:4B:00.0 Off |                    0 |\n",
      "| N/A   60C    P0            327W /  400W |   10017MiB /  81920MiB |     99%      Default |\n",
      "|                                         |                        |             Disabled |\n",
      "+-----------------------------------------+------------------------+----------------------+\n",
      "|   4  NVIDIA A100-SXM4-80GB          On  |   00000000:84:00.0 Off |                    0 |\n",
      "| N/A   26C    P0             70W /  400W |    1359MiB /  81920MiB |      1%      Default |\n",
      "|                                         |                        |             Disabled |\n",
      "+-----------------------------------------+------------------------+----------------------+\n",
      "|   5  NVIDIA A100-SXM4-80GB          On  |   00000000:8A:00.0 Off |                    0 |\n",
      "| N/A   25C    P0             66W /  400W |    6179MiB /  81920MiB |      7%      Default |\n",
      "|                                         |                        |             Disabled |\n",
      "+-----------------------------------------+------------------------+----------------------+\n",
      "|   6  NVIDIA A100-SXM4-80GB          On  |   00000000:C0:00.0 Off |                    0 |\n",
      "| N/A   23C    P0             85W /  400W |    4531MiB /  81920MiB |     62%      Default |\n",
      "|                                         |                        |             Disabled |\n",
      "+-----------------------------------------+------------------------+----------------------+\n",
      "|   7  NVIDIA A100-SXM4-80GB          On  |   00000000:C3:00.0 Off |                    0 |\n",
      "| N/A   26C    P0             76W /  400W |     737MiB /  81920MiB |      4%      Default |\n",
      "|                                         |                        |             Disabled |\n",
      "+-----------------------------------------+------------------------+----------------------+\n",
      "                                                                                         \n",
      "+-----------------------------------------------------------------------------------------+\n",
      "| Processes:                                                                              |\n",
      "|  GPU   GI   CI        PID   Type   Process name                              GPU Memory |\n",
      "|        ID   ID                                                               Usage      |\n",
      "|=========================================================================================|\n",
      "|    0   N/A  N/A     77174      C   python                                       2242MiB |\n",
      "|    0   N/A  N/A   1276629      C   python                                       2540MiB |\n",
      "|    0   N/A  N/A   1327565      C   ...3444/.conda/envs/NLP_Env/bin/python       4222MiB |\n",
      "|    0   N/A  N/A   1416012      C   python                                        726MiB |\n",
      "|    0   N/A  N/A   1416015      C   python                                        706MiB |\n",
      "|    0   N/A  N/A   4046850      C   python                                        792MiB |\n",
      "|    0   N/A  N/A   4125199      C   ...3444/.conda/envs/NLP_Env/bin/python       4580MiB |\n",
      "|    1   N/A  N/A    681577      C   python                                        794MiB |\n",
      "|    1   N/A  N/A    694807      C   python                                        772MiB |\n",
      "|    1   N/A  N/A    708750      C   python                                        790MiB |\n",
      "|    2   N/A  N/A    165687      C   python                                        772MiB |\n",
      "|    2   N/A  N/A    283413      C   python                                        792MiB |\n",
      "|    2   N/A  N/A    345230      C   python                                        790MiB |\n",
      "|    2   N/A  N/A    556352      C   python                                        792MiB |\n",
      "|    2   N/A  N/A   1018692      C   python                                        792MiB |\n",
      "|    2   N/A  N/A   1314311      C   python                                        792MiB |\n",
      "|    2   N/A  N/A   1403776      C   python                                        790MiB |\n",
      "|    2   N/A  N/A   3916993      C   python                                        792MiB |\n",
      "|    2   N/A  N/A   4117015      C   python                                        790MiB |\n",
      "|    2   N/A  N/A   4117037      C   python                                        772MiB |\n",
      "|    3   N/A  N/A    135767      C   python                                        794MiB |\n",
      "|    3   N/A  N/A    618328      C   python                                       2360MiB |\n",
      "|    3   N/A  N/A   1211214      C   python                                        772MiB |\n",
      "|    3   N/A  N/A   1533914      C   python                                        566MiB |\n",
      "|    3   N/A  N/A   1633336      C   /user/wx2309/.conda/envs/TM/bin/python       6322MiB |\n",
      "|    3   N/A  N/A   3974351      C   python                                        794MiB |\n",
      "|    4   N/A  N/A   1150572      C   python                                        772MiB |\n",
      "|    4   N/A  N/A   1503565      C   python                                        566MiB |\n",
      "|    5   N/A  N/A    150261      C   python                                        794MiB |\n",
      "|    5   N/A  N/A    242506      C   python                                        592MiB |\n",
      "|    5   N/A  N/A    856628      C   python                                        794MiB |\n",
      "|    5   N/A  N/A   1211219      C   python                                        792MiB |\n",
      "|    5   N/A  N/A   1225247      C   python                                        792MiB |\n",
      "|    5   N/A  N/A   1356618      C   python                                        792MiB |\n",
      "|    6   N/A  N/A    390665      C   python                                        794MiB |\n",
      "|    6   N/A  N/A    556345      C   python                                        790MiB |\n",
      "|    6   N/A  N/A    795848      C   python                                        772MiB |\n",
      "|    6   N/A  N/A    870317      C   python                                        658MiB |\n",
      "|    6   N/A  N/A   3901895      C   python                                        772MiB |\n",
      "|    6   N/A  N/A   4147533      C   python                                        772MiB |\n",
      "|    7   N/A  N/A   1065542      C   python                                        792MiB |\n",
      "+-----------------------------------------------------------------------------------------+\n"
     ]
    }
   ],
   "source": [
    "!nvidia-smi"
   ]
  },
  {
   "cell_type": "code",
   "execution_count": 2,
   "metadata": {},
   "outputs": [],
   "source": [
    "# Check available GPUs\n",
    "import os\n",
    "os.environ[\"CUDA_VISIBLE_DEVICES\"] = \"1\""
   ]
  },
  {
   "cell_type": "code",
   "execution_count": 4,
   "metadata": {},
   "outputs": [
    {
     "name": "stderr",
     "output_type": "stream",
     "text": [
      "/user/wx2309/.conda/envs/TM/lib/python3.10/site-packages/tqdm/auto.py:21: TqdmWarning: IProgress not found. Please update jupyter and ipywidgets. See https://ipywidgets.readthedocs.io/en/stable/user_install.html\n",
      "  from .autonotebook import tqdm as notebook_tqdm\n"
     ]
    }
   ],
   "source": [
    "# Import necessary modules\n",
    "import pandas as pd \n",
    "from sentence_transformers import SentenceTransformer\n",
    "# Take PCA and KMeans as the example here\n",
    "from cuml.decomposition import PCA\n",
    "# from cuml.cluster import KMeans\n",
    "from pycave.bayes import GaussianMixture as GMM\n",
    "from sklearn.feature_extraction.text import CountVectorizer\n",
    "from bertopic import BERTopic\n",
    "import numpy as np\n",
    "import collections\n",
    "from tqdm import tqdm\n",
    "from sklearn.linear_model import LinearRegression\n",
    "from sklearn.model_selection import train_test_split\n",
    "from sklearn.metrics import mean_squared_error"
   ]
  },
  {
   "cell_type": "code",
   "execution_count": 5,
   "metadata": {},
   "outputs": [],
   "source": [
    "df_folder = \"/shared/share_tm-finance/Processed_df/One_year_window\"\n",
    "embeddings_folder = \"/shared/share_tm-finance/Embeddings/One_year_window\"\n",
    "df = pd.read_csv(df_folder+\"/contem_2023.csv\")\n",
    "headlines = df.vocab_con_headline.tolist()\n",
    "embeddings = np.load(embeddings_folder+\"/contem_2023_embeddings.npy\")"
   ]
  },
  {
   "cell_type": "code",
   "execution_count": 6,
   "metadata": {},
   "outputs": [],
   "source": [
    "class MyGMM:\n",
    "    def __init__(self, num_components, trainer_params):\n",
    "        self.gmm = GMM(num_components=num_components,trainer_params=trainer_params)\n",
    "        self.labels_ = None\n",
    "    \n",
    "    def fit(self,data):\n",
    "        self.gmm.fit(data)\n",
    "        self.labels_ = np.array(self.gmm.predict(data))\n",
    "        return self\n",
    "    \n",
    "    def predict(self,data):\n",
    "        return np.array(self.gmm.predict(data))"
   ]
  },
  {
   "cell_type": "code",
   "execution_count": 7,
   "metadata": {},
   "outputs": [],
   "source": [
    "embedding_model = SentenceTransformer('all-MiniLM-L6-v2')\n",
    "umap_model = PCA(n_components = 10)\n",
    "# Assume 62 clusters here\n",
    "hdbscan_model = MyGMM(num_components=62,trainer_params={\"accelerator\":'gpu',\"devices\":1})\n",
    "vectorizer_model = CountVectorizer()\n",
    "Topic_model = BERTopic(embedding_model=embedding_model, umap_model=umap_model, hdbscan_model=hdbscan_model, vectorizer_model=vectorizer_model,\n",
    "                    calculate_probabilities = False,verbose = True,low_memory = True)"
   ]
  },
  {
   "cell_type": "code",
   "execution_count": 8,
   "metadata": {},
   "outputs": [
    {
     "name": "stderr",
     "output_type": "stream",
     "text": [
      "2024-07-04 17:47:19,037 - BERTopic - Dimensionality - Fitting the dimensionality reduction algorithm\n",
      "2024-07-04 17:47:24,078 - BERTopic - Dimensionality - Completed ✓\n",
      "2024-07-04 17:47:24,137 - BERTopic - Cluster - Start clustering the reduced embeddings\n",
      "Fitting K-means estimator...\n",
      "Running initialization...\n"
     ]
    },
    {
     "name": "stdout",
     "output_type": "stream",
     "text": [
      "Epoch 122: 100%|██████████| 1/1 [00:00<00:00, 70.66it/s] \n",
      "Epoch 299: 100%|██████████| 1/1 [00:00<00:00, 96.84it/s] \n"
     ]
    },
    {
     "name": "stderr",
     "output_type": "stream",
     "text": [
      "Fitting K-Means...\n"
     ]
    },
    {
     "name": "stdout",
     "output_type": "stream",
     "text": [
      "Epoch 299: 100%|██████████| 1/1 [00:00<00:00, 24.77it/s, inertia=0.0604]"
     ]
    },
    {
     "name": "stderr",
     "output_type": "stream",
     "text": [
      "Running initialization...\n"
     ]
    },
    {
     "name": "stdout",
     "output_type": "stream",
     "text": [
      "\n",
      "Epoch 0: 100%|██████████| 1/1 [00:00<00:00, 11.98it/s]\n"
     ]
    },
    {
     "name": "stderr",
     "output_type": "stream",
     "text": [
      "Fitting Gaussian mixture...\n"
     ]
    },
    {
     "name": "stdout",
     "output_type": "stream",
     "text": [
      "Epoch 21: 100%|██████████| 1/1 [00:00<00:00, 52.32it/s, nll=-7.83] \n",
      "Predicting DataLoader 0: 100%|██████████| 1/1 [00:00<00:00,  3.40it/s] \n"
     ]
    },
    {
     "name": "stderr",
     "output_type": "stream",
     "text": [
      "2024-07-04 17:47:44,561 - BERTopic - Cluster - Completed ✓\n",
      "2024-07-04 17:47:44,798 - BERTopic - Representation - Extracting topics from clusters using representation models.\n",
      "2024-07-04 17:47:53,066 - BERTopic - Representation - Completed ✓\n"
     ]
    },
    {
     "data": {
      "text/plain": [
       "<bertopic._bertopic.BERTopic at 0x7fcf877ff400>"
      ]
     },
     "execution_count": 8,
     "metadata": {},
     "output_type": "execute_result"
    }
   ],
   "source": [
    "Topic_model.fit(headlines,embeddings)"
   ]
  },
  {
   "cell_type": "code",
   "execution_count": 11,
   "metadata": {},
   "outputs": [
    {
     "name": "stderr",
     "output_type": "stream",
     "text": [
      "100%|██████████| 1750/1750 [01:27<00:00, 19.89it/s]\n"
     ]
    },
    {
     "name": "stdout",
     "output_type": "stream",
     "text": [
      "Training error is 0.00038121179866213643\n",
      "Testing error is 0.00039281251210995127\n",
      "R square is 0.0047007730087390565\n"
     ]
    }
   ],
   "source": [
    "topic_dist, _ = Topic_model.approximate_distribution(headlines)\n",
    "contem_ret_topic_dist = pd.concat([df.drop(columns = [\"rp_entity_id\",\"headline\",\"vocab_con_headline\"]),pd.DataFrame(topic_dist)],axis = 1)\n",
    "grouped = contem_ret_topic_dist.groupby(['date',\"comnam\",\"ret\"])\n",
    "grouped_sum = grouped.sum()\n",
    "\n",
    "X = np.array(grouped_sum)\n",
    "ret = [ind[2] for ind in list(grouped_sum.index)]\n",
    "Y = np.array(ret).reshape(-1,1)\n",
    "X_tr, X_te, Y_tr, Y_te = train_test_split(X,Y,test_size=0.2,random_state=66)\n",
    "regression = LinearRegression(fit_intercept=True)\n",
    "regression.fit(X_tr,Y_tr)\n",
    "Y_tr_pred = regression.predict(X_tr)\n",
    "Y_te_pred = regression.predict(X_te)\n",
    "mse_tr = mean_squared_error(Y_tr,Y_tr_pred)\n",
    "mse_te= mean_squared_error(Y_te,Y_te_pred)\n",
    "regression.fit(X,Y)\n",
    "R_square = regression.score(X,Y)\n",
    "\n",
    "print(f\"Training error is {mse_tr}\")\n",
    "print(f\"Testing error is {mse_te}\")\n",
    "print(f\"R square is {R_square}\")"
   ]
  },
  {
   "cell_type": "code",
   "execution_count": null,
   "metadata": {},
   "outputs": [],
   "source": []
  }
 ],
 "metadata": {
  "kernelspec": {
   "display_name": "TM",
   "language": "python",
   "name": "python3"
  },
  "language_info": {
   "codemirror_mode": {
    "name": "ipython",
    "version": 3
   },
   "file_extension": ".py",
   "mimetype": "text/x-python",
   "name": "python",
   "nbconvert_exporter": "python",
   "pygments_lexer": "ipython3",
   "version": "3.10.14"
  }
 },
 "nbformat": 4,
 "nbformat_minor": 2
}
