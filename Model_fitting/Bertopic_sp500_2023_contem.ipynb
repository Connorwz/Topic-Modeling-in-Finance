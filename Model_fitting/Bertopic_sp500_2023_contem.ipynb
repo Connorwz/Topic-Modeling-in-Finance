{
 "cells": [
  {
   "cell_type": "code",
   "execution_count": 1,
   "id": "3cdbde0b",
   "metadata": {},
   "outputs": [
    {
     "name": "stdout",
     "output_type": "stream",
     "text": [
      "Thu Jul  4 17:36:13 2024       \n",
      "+-----------------------------------------------------------------------------------------+\n",
      "| NVIDIA-SMI 550.90.07              Driver Version: 550.90.07      CUDA Version: 12.4     |\n",
      "|-----------------------------------------+------------------------+----------------------+\n",
      "| GPU  Name                 Persistence-M | Bus-Id          Disp.A | Volatile Uncorr. ECC |\n",
      "| Fan  Temp   Perf          Pwr:Usage/Cap |           Memory-Usage | GPU-Util  Compute M. |\n",
      "|                                         |                        |               MIG M. |\n",
      "|=========================================+========================+======================|\n",
      "|   0  NVIDIA A100-SXM4-80GB          On  |   00000000:07:00.0 Off |                    0 |\n",
      "| N/A   60C    P0            363W /  400W |   17218MiB /  81920MiB |    100%      Default |\n",
      "|                                         |                        |             Disabled |\n",
      "+-----------------------------------------+------------------------+----------------------+\n",
      "|   1  NVIDIA A100-SXM4-80GB          On  |   00000000:0A:00.0 Off |                    0 |\n",
      "| N/A   24C    P0             66W /  400W |    2570MiB /  81920MiB |     36%      Default |\n",
      "|                                         |                        |             Disabled |\n",
      "+-----------------------------------------+------------------------+----------------------+\n",
      "|   2  NVIDIA A100-SXM4-80GB          On  |   00000000:45:00.0 Off |                    0 |\n",
      "| N/A   23C    P0             66W /  400W |    7460MiB /  81920MiB |     18%      Default |\n",
      "|                                         |                        |             Disabled |\n",
      "+-----------------------------------------+------------------------+----------------------+\n",
      "|   3  NVIDIA A100-SXM4-80GB          On  |   00000000:4B:00.0 Off |                    0 |\n",
      "| N/A   27C    P0             69W /  400W |    1407MiB /  81920MiB |      3%      Default |\n",
      "|                                         |                        |             Disabled |\n",
      "+-----------------------------------------+------------------------+----------------------+\n",
      "|   4  NVIDIA A100-SXM4-80GB          On  |   00000000:84:00.0 Off |                    0 |\n",
      "| N/A   28C    P0             76W /  400W |    6657MiB /  81920MiB |      6%      Default |\n",
      "|                                         |                        |             Disabled |\n",
      "+-----------------------------------------+------------------------+----------------------+\n",
      "|   5  NVIDIA A100-SXM4-80GB          On  |   00000000:8A:00.0 Off |                    0 |\n",
      "| N/A   21C    P0             63W /  400W |    1601MiB /  81920MiB |      2%      Default |\n",
      "|                                         |                        |             Disabled |\n",
      "+-----------------------------------------+------------------------+----------------------+\n",
      "|   6  NVIDIA A100-SXM4-80GB          On  |   00000000:C0:00.0 Off |                    0 |\n",
      "| N/A   22C    P0             91W /  400W |    2958MiB /  81920MiB |      3%      Default |\n",
      "|                                         |                        |             Disabled |\n",
      "+-----------------------------------------+------------------------+----------------------+\n",
      "|   7  NVIDIA A100-SXM4-80GB          On  |   00000000:C3:00.0 Off |                    0 |\n",
      "| N/A   26C    P0             75W /  400W |    4973MiB /  81920MiB |      9%      Default |\n",
      "|                                         |                        |             Disabled |\n",
      "+-----------------------------------------+------------------------+----------------------+\n",
      "                                                                                         \n",
      "+-----------------------------------------------------------------------------------------+\n",
      "| Processes:                                                                              |\n",
      "|  GPU   GI   CI        PID   Type   Process name                              GPU Memory |\n",
      "|        ID   ID                                                               Usage      |\n",
      "|=========================================================================================|\n",
      "|    0   N/A  N/A     79392      C   python                                        794MiB |\n",
      "|    0   N/A  N/A    855136      C   python                                        794MiB |\n",
      "|    0   N/A  N/A   1327565      C   ...3444/.conda/envs/NLP_Env/bin/python       7690MiB |\n",
      "|    0   N/A  N/A   4125199      C   ...3444/.conda/envs/NLP_Env/bin/python       7888MiB |\n",
      "|    1   N/A  N/A    595157      C   python                                        592MiB |\n",
      "|    1   N/A  N/A   1136757      C   python                                        792MiB |\n",
      "|    1   N/A  N/A   1497166      C   python                                        658MiB |\n",
      "|    1   N/A  N/A   1697888      C   python                                        566MiB |\n",
      "|    2   N/A  N/A    148823      C   python                                        772MiB |\n",
      "|    2   N/A  N/A    267175      C   python                                        790MiB |\n",
      "|    2   N/A  N/A    562667      C   python                                        790MiB |\n",
      "|    2   N/A  N/A    595194      C   python                                        794MiB |\n",
      "|    2   N/A  N/A    624879      C   python                                        592MiB |\n",
      "|    2   N/A  N/A    839962      C   python                                        794MiB |\n",
      "|    2   N/A  N/A    883504      C   python                                        794MiB |\n",
      "|    2   N/A  N/A   1384394      C   python                                        792MiB |\n",
      "|    2   N/A  N/A   1497271      C   python                                        772MiB |\n",
      "|    3   N/A  N/A    298914      C   python                                        592MiB |\n",
      "|    3   N/A  N/A   1236155      C   python                                        794MiB |\n",
      "|    4   N/A  N/A    548891      C   python                                        794MiB |\n",
      "|    4   N/A  N/A    562698      C   python                                        792MiB |\n",
      "|    4   N/A  N/A    955419      C   python                                        772MiB |\n",
      "|    4   N/A  N/A   1168057      C   python                                        790MiB |\n",
      "|    4   N/A  N/A   1469850      C   python                                        792MiB |\n",
      "|    4   N/A  N/A   3119006      C   /user/wx2309/.conda/envs/TM/bin/python       2670MiB |\n",
      "|    5   N/A  N/A    267178      C   python                                        790MiB |\n",
      "|    5   N/A  N/A   1282719      C   python                                        790MiB |\n",
      "|    6   N/A  N/A    653200      C   python                                        794MiB |\n",
      "|    6   N/A  N/A   1088630      C   python                                        792MiB |\n",
      "|    6   N/A  N/A   1620302      C   python                                        772MiB |\n",
      "|    6   N/A  N/A   4092946      C   python                                        572MiB |\n",
      "|    7   N/A  N/A     34329      C   python                                        592MiB |\n",
      "|    7   N/A  N/A    164416      C   python                                        726MiB |\n",
      "|    7   N/A  N/A    267157      C   python                                        772MiB |\n",
      "|    7   N/A  N/A    416734      C   python                                        794MiB |\n",
      "|    7   N/A  N/A    449097      C   python                                        724MiB |\n",
      "|    7   N/A  N/A   1545613      C   python                                        792MiB |\n",
      "+-----------------------------------------------------------------------------------------+\n"
     ]
    }
   ],
   "source": [
    "!nvidia-smi"
   ]
  },
  {
   "cell_type": "code",
   "execution_count": 2,
   "id": "656dc553",
   "metadata": {},
   "outputs": [],
   "source": [
    "# Choose GPUs with enough memories\n",
    "import os \n",
    "os.environ[\"CUDA_VISIBLE_DEVICES\"] = \"3\""
   ]
  },
  {
   "cell_type": "code",
   "execution_count": 3,
   "id": "83f52cbc",
   "metadata": {
    "scrolled": true
   },
   "outputs": [],
   "source": [
    "import pandas as pd\n",
    "\n",
    "contem_2023 = pd.read_csv(\"/shared/share_tm-finance/Processed_df/One_year_window/contem_2023.csv\")"
   ]
  },
  {
   "cell_type": "code",
   "execution_count": 4,
   "id": "813b7115",
   "metadata": {},
   "outputs": [
    {
     "data": {
      "text/html": [
       "<div>\n",
       "<style scoped>\n",
       "    .dataframe tbody tr th:only-of-type {\n",
       "        vertical-align: middle;\n",
       "    }\n",
       "\n",
       "    .dataframe tbody tr th {\n",
       "        vertical-align: top;\n",
       "    }\n",
       "\n",
       "    .dataframe thead th {\n",
       "        text-align: right;\n",
       "    }\n",
       "</style>\n",
       "<table border=\"1\" class=\"dataframe\">\n",
       "  <thead>\n",
       "    <tr style=\"text-align: right;\">\n",
       "      <th></th>\n",
       "      <th>date</th>\n",
       "      <th>rp_entity_id</th>\n",
       "      <th>comnam</th>\n",
       "      <th>ret</th>\n",
       "      <th>headline</th>\n",
       "      <th>vocab_con_headline</th>\n",
       "    </tr>\n",
       "  </thead>\n",
       "  <tbody>\n",
       "    <tr>\n",
       "      <th>0</th>\n",
       "      <td>2023-01-03</td>\n",
       "      <td>3DC887</td>\n",
       "      <td>ARISTA NETWORKS INC</td>\n",
       "      <td>-0.003626</td>\n",
       "      <td>Network Monitoring Global Market Report 2022: ...</td>\n",
       "      <td>network monitoring sector reach 3.8 2030 cagr</td>\n",
       "    </tr>\n",
       "    <tr>\n",
       "      <th>1</th>\n",
       "      <td>2023-01-03</td>\n",
       "      <td>3DC887</td>\n",
       "      <td>ARISTA NETWORKS INC</td>\n",
       "      <td>-0.003626</td>\n",
       "      <td>Network Monitoring Global Market Report 2022: ...</td>\n",
       "      <td>network monitoring corporations continue onlin...</td>\n",
       "    </tr>\n",
       "    <tr>\n",
       "      <th>2</th>\n",
       "      <td>2023-01-03</td>\n",
       "      <td>3DC887</td>\n",
       "      <td>ARISTA NETWORKS INC</td>\n",
       "      <td>-0.003626</td>\n",
       "      <td>iRocket Appoints Kelyn Brannon to Board of Dir...</td>\n",
       "      <td>irocket appoints kelyn brannon board directors</td>\n",
       "    </tr>\n",
       "    <tr>\n",
       "      <th>3</th>\n",
       "      <td>2023-01-03</td>\n",
       "      <td>8EA478</td>\n",
       "      <td>MODERNA INC</td>\n",
       "      <td>-0.003507</td>\n",
       "      <td>Official List Official List Notice -2-</td>\n",
       "      <td>official list official list notice</td>\n",
       "    </tr>\n",
       "    <tr>\n",
       "      <th>4</th>\n",
       "      <td>2023-01-03</td>\n",
       "      <td>8EA478</td>\n",
       "      <td>MODERNA INC</td>\n",
       "      <td>-0.003507</td>\n",
       "      <td>DelveInsight Evaluates a Robust Cystic Fibrosi...</td>\n",
       "      <td>delveinsight evaluates robust cystic fibrosis ...</td>\n",
       "    </tr>\n",
       "  </tbody>\n",
       "</table>\n",
       "</div>"
      ],
      "text/plain": [
       "         date rp_entity_id               comnam       ret  \\\n",
       "0  2023-01-03       3DC887  ARISTA NETWORKS INC -0.003626   \n",
       "1  2023-01-03       3DC887  ARISTA NETWORKS INC -0.003626   \n",
       "2  2023-01-03       3DC887  ARISTA NETWORKS INC -0.003626   \n",
       "3  2023-01-03       8EA478          MODERNA INC -0.003507   \n",
       "4  2023-01-03       8EA478          MODERNA INC -0.003507   \n",
       "\n",
       "                                            headline  \\\n",
       "0  Network Monitoring Global Market Report 2022: ...   \n",
       "1  Network Monitoring Global Market Report 2022: ...   \n",
       "2  iRocket Appoints Kelyn Brannon to Board of Dir...   \n",
       "3             Official List Official List Notice -2-   \n",
       "4  DelveInsight Evaluates a Robust Cystic Fibrosi...   \n",
       "\n",
       "                                  vocab_con_headline  \n",
       "0      network monitoring sector reach 3.8 2030 cagr  \n",
       "1  network monitoring corporations continue onlin...  \n",
       "2     irocket appoints kelyn brannon board directors  \n",
       "3                 official list official list notice  \n",
       "4  delveinsight evaluates robust cystic fibrosis ...  "
      ]
     },
     "execution_count": 4,
     "metadata": {},
     "output_type": "execute_result"
    }
   ],
   "source": [
    "contem_2023.head()"
   ]
  },
  {
   "cell_type": "code",
   "execution_count": 5,
   "id": "f3367cbb",
   "metadata": {},
   "outputs": [
    {
     "data": {
      "text/plain": [
       "(1749222, 6)"
      ]
     },
     "execution_count": 5,
     "metadata": {},
     "output_type": "execute_result"
    }
   ],
   "source": [
    "contem_2023.shape"
   ]
  },
  {
   "cell_type": "code",
   "execution_count": 6,
   "id": "b19be1e8",
   "metadata": {},
   "outputs": [
    {
     "name": "stderr",
     "output_type": "stream",
     "text": [
      "/user/wx2309/.conda/envs/TM/lib/python3.10/site-packages/tqdm/auto.py:21: TqdmWarning: IProgress not found. Please update jupyter and ipywidgets. See https://ipywidgets.readthedocs.io/en/stable/user_install.html\n",
      "  from .autonotebook import tqdm as notebook_tqdm\n"
     ]
    }
   ],
   "source": [
    "from sentence_transformers import SentenceTransformer\n",
    "from cuml.manifold import UMAP\n",
    "from cuml.cluster import HDBSCAN\n",
    "from sklearn.feature_extraction.text import CountVectorizer\n",
    "from bertopic import BERTopic"
   ]
  },
  {
   "cell_type": "code",
   "execution_count": null,
   "id": "784d8e0b",
   "metadata": {},
   "outputs": [],
   "source": [
    "# embedding_model = SentenceTransformer('all-MiniLM-L6-v2')\n",
    "# embeddings = embedding_model.encode(contem_2023.headline.tolist(),show_progress_bar=True)"
   ]
  },
  {
   "cell_type": "code",
   "execution_count": null,
   "id": "a40064d6",
   "metadata": {},
   "outputs": [],
   "source": [
    "# import numpy as np\n",
    "\n",
    "# os.mkdir(\"/user/wx2309/Topic-modeling-store/Bertopic_sp500_2023_contem_model_folder\")\n",
    "# with open(\"/user/wx2309/Topic-modeling-store/Bertopic_sp500_2023_contem_model_folder/contem_2023_embeddings.npy\", \"wb\") as f:\n",
    "#     np.save(f, embeddings)\n",
    "# headline_list = contem_2023.headline.tolist()"
   ]
  },
  {
   "cell_type": "code",
   "execution_count": 7,
   "id": "fe6585b2",
   "metadata": {},
   "outputs": [],
   "source": [
    "import numpy as np\n",
    "embeddings = np.load(\"/shared/share_tm-finance/Embeddings/One_year_window/contem_2023_embeddings.npy\")\n",
    "headline_list = contem_2023.vocab_con_headline.tolist()"
   ]
  },
  {
   "cell_type": "code",
   "execution_count": 8,
   "id": "22bcb4c9",
   "metadata": {},
   "outputs": [],
   "source": [
    "embedding_model = SentenceTransformer('all-MiniLM-L6-v2')\n",
    "umap_model = UMAP(n_neighbors = 50, n_components = 5, min_dist = 0, metric = 'cosine',random_state = 42,verbose = True)\n",
    "# Upon several fittings, it was found that cluster size around 1000 to a 1.7M headlines create 50-100 topics\n",
    "hdbscan_model = HDBSCAN(min_cluster_size =1000,  metric='euclidean', cluster_selection_method='eom',\\\n",
    "                        gen_min_span_tree=True,prediction_data=False,min_samples = 50,verbose = True)\n",
    "vectorizer_model = CountVectorizer()\n",
    "Topic_model = BERTopic(embedding_model=embedding_model, umap_model=umap_model, hdbscan_model=hdbscan_model, vectorizer_model=vectorizer_model,\n",
    "                       calculate_probabilities = False,verbose = True,low_memory = True)"
   ]
  },
  {
   "cell_type": "code",
   "execution_count": 9,
   "id": "23d717bc",
   "metadata": {},
   "outputs": [
    {
     "name": "stderr",
     "output_type": "stream",
     "text": [
      "2024-07-04 17:44:15,594 - BERTopic - Dimensionality - Fitting the dimensionality reduction algorithm\n"
     ]
    },
    {
     "name": "stdout",
     "output_type": "stream",
     "text": [
      "[D] [17:44:18.813601] /opt/conda/conda-bld/work/cpp/src/umap/runner.cuh:107 n_neighbors=50\n",
      "[D] [17:44:18.814465] /opt/conda/conda-bld/work/cpp/src/umap/runner.cuh:129 Calling knn graph run\n",
      "[D] [17:47:20.918168] /opt/conda/conda-bld/work/cpp/src/umap/runner.cuh:135 Done. Calling fuzzy simplicial set\n",
      "[D] [17:47:20.997263] /opt/conda/conda-bld/work/cpp/src/umap/fuzzy_simpl_set/naive.cuh:318 Smooth kNN Distances\n",
      "[D] [17:47:20.998941] /opt/conda/conda-bld/work/cpp/src/umap/fuzzy_simpl_set/naive.cuh:320 sigmas = [ 0.0884554, 0.109777, 0.154414, 6.59121e-05, 0.136098, 0.00510345, 0.000392279, 0.00346686, 0.000243207, 0.000329672, 0.00681055, 0.193758, 0.000290023, 0.000279798, 0.000243207, 0.15864, 7.25302e-05, 0.000205597, 0.15864, 0.000240855, 0.0831985, 0.00346714, 0.0906198, 0.000418326, 0.000240855 ]\n",
      "\n",
      "[D] [17:47:20.998991] /opt/conda/conda-bld/work/cpp/src/umap/fuzzy_simpl_set/naive.cuh:322 rhos = [ 5.96046e-08, 4.76837e-07, 1.19209e-07, 1.19209e-07, 5.96046e-08, 0.00124151, 0.192946, 2.38419e-07, 0.29489, 0.22348, 0.284346, 1.19209e-07, 2.38419e-07, 0.234188, 0.29489, 2.98023e-07, 1.78814e-07, 0.175409, 2.98023e-07, 5.96046e-08, 5.96046e-08, 5.96046e-08, 1.19209e-07, 0.30704, 5.96046e-08 ]\n",
      "\n",
      "[D] [17:47:20.999013] /opt/conda/conda-bld/work/cpp/src/umap/fuzzy_simpl_set/naive.cuh:346 Compute Membership Strength\n",
      "[D] [17:48:25.393662] /opt/conda/conda-bld/work/cpp/src/umap/fuzzy_simpl_set/naive.cuh:349 /opt/conda/conda-bld/work/cpp/src/umap/fuzzy_simpl_set/naive.cuh:349 \n",
      "[D] [17:48:25.885843] /opt/conda/conda-bld/work/cpp/src/umap/runner.cuh:142 Done. Calling remove zeros\n",
      "[D] [17:49:16.472465] /opt/conda/conda-bld/work/cpp/src/umap/simpl_set_embed/algo.cuh:347 /opt/conda/conda-bld/work/cpp/src/umap/simpl_set_embed/algo.cuh:347 \n",
      "[D] [17:49:22.897338] /opt/conda/conda-bld/work/cpp/src/umap/runner.cuh:346 Running transform\n",
      "[D] [17:49:22.897446] /opt/conda/conda-bld/work/cpp/src/umap/runner.cuh:348 Building KNN Graph\n",
      "[D] [17:52:22.303363] /opt/conda/conda-bld/work/cpp/src/umap/runner.cuh:381 Smoothing KNN distances\n",
      "[D] [17:52:22.344004] /opt/conda/conda-bld/work/cpp/src/umap/runner.cuh:413 Executing fuzzy simplicial set\n",
      "[D] [17:52:22.354393] /opt/conda/conda-bld/work/cpp/src/umap/runner.cuh:442 Performing L1 normalization\n",
      "[D] [17:52:22.475609] /opt/conda/conda-bld/work/cpp/src/umap/runner.cuh:478 n_epochs=30\n",
      "[D] [17:52:22.531647] /opt/conda/conda-bld/work/cpp/src/umap/runner.cuh:501 Computing # of epochs for training each sample\n",
      "[D] [17:52:22.532341] /opt/conda/conda-bld/work/cpp/src/umap/runner.cuh:508 Performing optimization\n"
     ]
    },
    {
     "name": "stderr",
     "output_type": "stream",
     "text": [
      "2024-07-04 17:52:23,108 - BERTopic - Dimensionality - Completed ✓\n",
      "2024-07-04 17:52:23,142 - BERTopic - Cluster - Start clustering the reduced embeddings\n",
      "2024-07-04 17:55:11,556 - BERTopic - Cluster - Completed ✓\n",
      "2024-07-04 17:55:11,783 - BERTopic - Representation - Extracting topics from clusters using representation models.\n",
      "2024-07-04 17:55:20,167 - BERTopic - Representation - Completed ✓\n"
     ]
    },
    {
     "data": {
      "text/html": [
       "<div>\n",
       "<style scoped>\n",
       "    .dataframe tbody tr th:only-of-type {\n",
       "        vertical-align: middle;\n",
       "    }\n",
       "\n",
       "    .dataframe tbody tr th {\n",
       "        vertical-align: top;\n",
       "    }\n",
       "\n",
       "    .dataframe thead th {\n",
       "        text-align: right;\n",
       "    }\n",
       "</style>\n",
       "<table border=\"1\" class=\"dataframe\">\n",
       "  <thead>\n",
       "    <tr style=\"text-align: right;\">\n",
       "      <th></th>\n",
       "      <th>Topic</th>\n",
       "      <th>Count</th>\n",
       "      <th>Name</th>\n",
       "      <th>Representation</th>\n",
       "      <th>Representative_Docs</th>\n",
       "    </tr>\n",
       "  </thead>\n",
       "  <tbody>\n",
       "    <tr>\n",
       "      <th>0</th>\n",
       "      <td>0</td>\n",
       "      <td>1747864</td>\n",
       "      <td>0_00_investor_size_morgan</td>\n",
       "      <td>[00, investor, size, morgan, annual, rosen, se...</td>\n",
       "      <td>[atmos cut 117.00 125.00 morgan stanley, ambar...</td>\n",
       "    </tr>\n",
       "    <tr>\n",
       "      <th>1</th>\n",
       "      <td>1</td>\n",
       "      <td>1358</td>\n",
       "      <td>1_calendar_expected_week_</td>\n",
       "      <td>[calendar, expected, week, , , , , , , ]</td>\n",
       "      <td>[calendar expected week, calendar expected wee...</td>\n",
       "    </tr>\n",
       "  </tbody>\n",
       "</table>\n",
       "</div>"
      ],
      "text/plain": [
       "   Topic    Count                       Name  \\\n",
       "0      0  1747864  0_00_investor_size_morgan   \n",
       "1      1     1358  1_calendar_expected_week_   \n",
       "\n",
       "                                      Representation  \\\n",
       "0  [00, investor, size, morgan, annual, rosen, se...   \n",
       "1           [calendar, expected, week, , , , , , , ]   \n",
       "\n",
       "                                 Representative_Docs  \n",
       "0  [atmos cut 117.00 125.00 morgan stanley, ambar...  \n",
       "1  [calendar expected week, calendar expected wee...  "
      ]
     },
     "execution_count": 9,
     "metadata": {},
     "output_type": "execute_result"
    }
   ],
   "source": [
    "Topic_model.fit(headline_list,embeddings)\n",
    "Topic_model.get_topic_info()\n",
    "# os.mkdir(\"/user/wx2309/Topic-modeling-store/Bertopic_sp500_2023_contem_model_folder/Bertopic_sp500_2023_contem_model\")\n",
    "# Topic_model.save(\"/user/wx2309/Topic-modeling-store/Bertopic_sp500_2023_contem_model_folder/Bertopic_sp500_2023_contem_model\",serialization = \"safetensors\", save_ctfidf = True, save_embedding_model = embedding_model)"
   ]
  },
  {
   "cell_type": "code",
   "execution_count": 10,
   "id": "31ebc5d6",
   "metadata": {},
   "outputs": [],
   "source": [
    "# Topic_model = BERTopic.load(\"/user/wx2309/Topic-modeling-store/Bertopic_sp500_2023_contem_model_folder/Bertopic_sp500_2023_contem_model\",\n",
    "#                            embedding_model = embedding_model)"
   ]
  },
  {
   "cell_type": "code",
   "execution_count": 11,
   "id": "ec1f773a",
   "metadata": {},
   "outputs": [
    {
     "name": "stderr",
     "output_type": "stream",
     "text": [
      "  0%|          | 6/1750 [00:00<01:07, 25.75it/s]"
     ]
    },
    {
     "name": "stderr",
     "output_type": "stream",
     "text": [
      "100%|██████████| 1750/1750 [01:07<00:00, 26.04it/s]\n"
     ]
    }
   ],
   "source": [
    "topic_dist, _ = Topic_model.approximate_distribution(headline_list)\n",
    "contem_ret_topic_dist = pd.concat([contem_2023.drop(columns = [\"rp_entity_id\",\"headline\",\"vocab_con_headline\"]),pd.DataFrame(topic_dist)],axis = 1)\n",
    "grouped = contem_ret_topic_dist.groupby(['date',\"comnam\",\"ret\"])\n",
    "grouped_sum = grouped.sum()"
   ]
  },
  {
   "cell_type": "code",
   "execution_count": 12,
   "id": "c6741cb8",
   "metadata": {},
   "outputs": [
    {
     "data": {
      "text/plain": [
       "0.00015762267005081654"
      ]
     },
     "execution_count": 12,
     "metadata": {},
     "output_type": "execute_result"
    }
   ],
   "source": [
    "X = np.array(grouped_sum)\n",
    "ret = []\n",
    "for ind in list(grouped_sum.index):\n",
    "  ret.append(ind[2])\n",
    "Y = np.array(ret).reshape(-1,1)\n",
    "from sklearn.linear_model import LinearRegression\n",
    "regression = LinearRegression(fit_intercept=True)\n",
    "regression.fit(X,Y)\n",
    "regression.score(X,Y)"
   ]
  },
  {
   "cell_type": "code",
   "execution_count": null,
   "id": "eaa53071",
   "metadata": {},
   "outputs": [],
   "source": []
  },
  {
   "cell_type": "code",
   "execution_count": null,
   "id": "4c499434",
   "metadata": {},
   "outputs": [],
   "source": []
  }
 ],
 "metadata": {
  "kernelspec": {
   "display_name": "TM",
   "language": "python",
   "name": "python3"
  },
  "language_info": {
   "codemirror_mode": {
    "name": "ipython",
    "version": 3
   },
   "file_extension": ".py",
   "mimetype": "text/x-python",
   "name": "python",
   "nbconvert_exporter": "python",
   "pygments_lexer": "ipython3",
   "version": "3.10.14"
  }
 },
 "nbformat": 4,
 "nbformat_minor": 5
}
