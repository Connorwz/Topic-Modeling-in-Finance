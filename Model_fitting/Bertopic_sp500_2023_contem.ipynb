{
 "cells": [
  {
   "cell_type": "code",
   "execution_count": 1,
   "id": "3cdbde0b",
   "metadata": {},
   "outputs": [
    {
     "name": "stdout",
     "output_type": "stream",
     "text": [
      "Tue May 28 16:31:34 2024       \n",
      "+---------------------------------------------------------------------------------------+\n",
      "| NVIDIA-SMI 535.129.03             Driver Version: 535.129.03   CUDA Version: 12.2     |\n",
      "|-----------------------------------------+----------------------+----------------------+\n",
      "| GPU  Name                 Persistence-M | Bus-Id        Disp.A | Volatile Uncorr. ECC |\n",
      "| Fan  Temp   Perf          Pwr:Usage/Cap |         Memory-Usage | GPU-Util  Compute M. |\n",
      "|                                         |                      |               MIG M. |\n",
      "|=========================================+======================+======================|\n",
      "|   0  Tesla T4                       Off | 00000000:3B:00.0 Off |                    0 |\n",
      "| N/A   64C    P0              68W /  70W |  12856MiB / 15360MiB |    100%      Default |\n",
      "|                                         |                      |                  N/A |\n",
      "+-----------------------------------------+----------------------+----------------------+\n",
      "|   1  Tesla T4                       Off | 00000000:5E:00.0 Off |                    0 |\n",
      "| N/A   28C    P8              10W /  70W |      4MiB / 15360MiB |      0%      Default |\n",
      "|                                         |                      |                  N/A |\n",
      "+-----------------------------------------+----------------------+----------------------+\n",
      "|   2  Tesla T4                       Off | 00000000:86:00.0 Off |                    0 |\n",
      "| N/A   26C    P8               9W /  70W |      4MiB / 15360MiB |      0%      Default |\n",
      "|                                         |                      |                  N/A |\n",
      "+-----------------------------------------+----------------------+----------------------+\n",
      "|   3  Tesla T4                       Off | 00000000:AF:00.0 Off |                    0 |\n",
      "| N/A   25C    P8               9W /  70W |      4MiB / 15360MiB |      0%      Default |\n",
      "|                                         |                      |                  N/A |\n",
      "+-----------------------------------------+----------------------+----------------------+\n",
      "                                                                                         \n",
      "+---------------------------------------------------------------------------------------+\n",
      "| Processes:                                                                            |\n",
      "|  GPU   GI   CI        PID   Type   Process name                            GPU Memory |\n",
      "|        ID   ID                                                             Usage      |\n",
      "|=======================================================================================|\n",
      "|    0   N/A  N/A     12020      C   python                                     4284MiB |\n",
      "|    0   N/A  N/A     12484      C   python                                     4284MiB |\n",
      "|    0   N/A  N/A     12924      C   python                                     4284MiB |\n",
      "+---------------------------------------------------------------------------------------+\n"
     ]
    }
   ],
   "source": [
    "!nvidia-smi"
   ]
  },
  {
   "cell_type": "code",
   "execution_count": 2,
   "id": "656dc553",
   "metadata": {},
   "outputs": [],
   "source": [
    "# Choose GPUs with enough memories\n",
    "import os \n",
    "os.environ[\"CUDA_VISIBLE_DEVICES\"] = \"3\""
   ]
  },
  {
   "cell_type": "code",
   "execution_count": 6,
   "id": "83f52cbc",
   "metadata": {
    "scrolled": true
   },
   "outputs": [],
   "source": [
    "from zipfile import ZipFile\n",
    "import pandas as pd\n",
    "\n",
    "with ZipFile(\"/user/wx2309/Topic-modeling-store/Processed data/past one year/contem_2023.csv.zip\", \"r\") as unzipped_file:\n",
    "  with unzipped_file.open(\"contem_2023.csv\") as csv_file:\n",
    "    contem_2023 = pd.read_csv(csv_file)"
   ]
  },
  {
   "cell_type": "code",
   "execution_count": 7,
   "id": "813b7115",
   "metadata": {},
   "outputs": [
    {
     "data": {
      "text/html": [
       "<div>\n",
       "<style scoped>\n",
       "    .dataframe tbody tr th:only-of-type {\n",
       "        vertical-align: middle;\n",
       "    }\n",
       "\n",
       "    .dataframe tbody tr th {\n",
       "        vertical-align: top;\n",
       "    }\n",
       "\n",
       "    .dataframe thead th {\n",
       "        text-align: right;\n",
       "    }\n",
       "</style>\n",
       "<table border=\"1\" class=\"dataframe\">\n",
       "  <thead>\n",
       "    <tr style=\"text-align: right;\">\n",
       "      <th></th>\n",
       "      <th>date</th>\n",
       "      <th>rp_entity_id</th>\n",
       "      <th>comnam</th>\n",
       "      <th>ret</th>\n",
       "      <th>headline</th>\n",
       "    </tr>\n",
       "  </thead>\n",
       "  <tbody>\n",
       "    <tr>\n",
       "      <th>0</th>\n",
       "      <td>2023-01-03</td>\n",
       "      <td>B4C673</td>\n",
       "      <td>YUM BRANDS INC</td>\n",
       "      <td>-0.008745</td>\n",
       "      <td>Business Disruptions Wane As Some Industries S...</td>\n",
       "    </tr>\n",
       "    <tr>\n",
       "      <th>1</th>\n",
       "      <td>2023-01-03</td>\n",
       "      <td>B4C673</td>\n",
       "      <td>YUM BRANDS INC</td>\n",
       "      <td>-0.008745</td>\n",
       "      <td>Press Release: KFC(R) Offers A Massive Deal on...</td>\n",
       "    </tr>\n",
       "    <tr>\n",
       "      <th>2</th>\n",
       "      <td>2023-01-03</td>\n",
       "      <td>B4C673</td>\n",
       "      <td>YUM BRANDS INC</td>\n",
       "      <td>-0.008745</td>\n",
       "      <td>Business News:  Pizza Chains Race to Hire Driv...</td>\n",
       "    </tr>\n",
       "    <tr>\n",
       "      <th>3</th>\n",
       "      <td>2023-01-03</td>\n",
       "      <td>B4C673</td>\n",
       "      <td>YUM BRANDS INC</td>\n",
       "      <td>-0.008745</td>\n",
       "      <td>KFC(R) Offers A Massive Deal on a Comfort Food...</td>\n",
       "    </tr>\n",
       "    <tr>\n",
       "      <th>4</th>\n",
       "      <td>2023-01-03</td>\n",
       "      <td>B4C673</td>\n",
       "      <td>YUM BRANDS INC</td>\n",
       "      <td>-0.008745</td>\n",
       "      <td>Business Disruptions Wane as Some Industries S...</td>\n",
       "    </tr>\n",
       "  </tbody>\n",
       "</table>\n",
       "</div>"
      ],
      "text/plain": [
       "         date rp_entity_id          comnam       ret  \\\n",
       "0  2023-01-03       B4C673  YUM BRANDS INC -0.008745   \n",
       "1  2023-01-03       B4C673  YUM BRANDS INC -0.008745   \n",
       "2  2023-01-03       B4C673  YUM BRANDS INC -0.008745   \n",
       "3  2023-01-03       B4C673  YUM BRANDS INC -0.008745   \n",
       "4  2023-01-03       B4C673  YUM BRANDS INC -0.008745   \n",
       "\n",
       "                                            headline  \n",
       "0  Business Disruptions Wane As Some Industries S...  \n",
       "1  Press Release: KFC(R) Offers A Massive Deal on...  \n",
       "2  Business News:  Pizza Chains Race to Hire Driv...  \n",
       "3  KFC(R) Offers A Massive Deal on a Comfort Food...  \n",
       "4  Business Disruptions Wane as Some Industries S...  "
      ]
     },
     "execution_count": 7,
     "metadata": {},
     "output_type": "execute_result"
    }
   ],
   "source": [
    "contem_2023.head()"
   ]
  },
  {
   "cell_type": "code",
   "execution_count": 8,
   "id": "f3367cbb",
   "metadata": {},
   "outputs": [
    {
     "data": {
      "text/plain": [
       "(1749770, 5)"
      ]
     },
     "execution_count": 8,
     "metadata": {},
     "output_type": "execute_result"
    }
   ],
   "source": [
    "contem_2023.shape"
   ]
  },
  {
   "cell_type": "code",
   "execution_count": 9,
   "id": "b19be1e8",
   "metadata": {},
   "outputs": [
    {
     "name": "stderr",
     "output_type": "stream",
     "text": [
      "/user/wx2309/.conda/envs/TP/lib/python3.9/site-packages/tqdm/auto.py:21: TqdmWarning: IProgress not found. Please update jupyter and ipywidgets. See https://ipywidgets.readthedocs.io/en/stable/user_install.html\n",
      "  from .autonotebook import tqdm as notebook_tqdm\n"
     ]
    }
   ],
   "source": [
    "from sentence_transformers import SentenceTransformer\n",
    "from cuml.manifold import UMAP\n",
    "from cuml.cluster import HDBSCAN\n",
    "from sklearn.feature_extraction.text import CountVectorizer\n",
    "from bertopic import BERTopic"
   ]
  },
  {
   "cell_type": "code",
   "execution_count": null,
   "id": "784d8e0b",
   "metadata": {},
   "outputs": [],
   "source": [
    "# embedding_model = SentenceTransformer('all-MiniLM-L6-v2')\n",
    "# embeddings = embedding_model.encode(contem_2023.headline.tolist(),show_progress_bar=True)"
   ]
  },
  {
   "cell_type": "code",
   "execution_count": null,
   "id": "a40064d6",
   "metadata": {},
   "outputs": [],
   "source": [
    "# import numpy as np\n",
    "\n",
    "# os.mkdir(\"/user/wx2309/Topic-modeling-store/Bertopic_sp500_2023_contem_model_folder\")\n",
    "# with open(\"/user/wx2309/Topic-modeling-store/Bertopic_sp500_2023_contem_model_folder/contem_2023_embeddings.npy\", \"wb\") as f:\n",
    "#     np.save(f, embeddings)\n",
    "# headline_list = contem_2023.headline.tolist()"
   ]
  },
  {
   "cell_type": "code",
   "execution_count": 12,
   "id": "fe6585b2",
   "metadata": {},
   "outputs": [],
   "source": [
    "import numpy as np\n",
    "\n",
    "with open(\"/user/wx2309/Topic-modeling-store/Bertopic_sp500_2023_contem_model_folder/contem_2023_embeddings.npy\", \"rb\") as f:\n",
    "    embeddings = np.load(f)\n",
    "headline_list = contem_2023.headline.tolist()"
   ]
  },
  {
   "cell_type": "code",
   "execution_count": 13,
   "id": "8948ea22",
   "metadata": {},
   "outputs": [
    {
     "name": "stderr",
     "output_type": "stream",
     "text": [
      "100%|██████████████████████████████████| 1749770/1749770 [00:08<00:00, 208610.39it/s]\n"
     ]
    },
    {
     "data": {
      "text/plain": [
       "41353"
      ]
     },
     "execution_count": 13,
     "metadata": {},
     "output_type": "execute_result"
    }
   ],
   "source": [
    "# create vocabulary in advance to release memory\n",
    "import collections\n",
    "from tqdm import tqdm\n",
    "\n",
    "vocab = collections.Counter()\n",
    "tokenizer = CountVectorizer().build_tokenizer()\n",
    "for headline in tqdm(headline_list):\n",
    "    vocab.update(tokenizer(headline))\n",
    "vocab = [word for word, count in vocab.items() if count > 20]\n",
    "len(vocab)"
   ]
  },
  {
   "cell_type": "code",
   "execution_count": 14,
   "id": "22bcb4c9",
   "metadata": {},
   "outputs": [],
   "source": [
    "embedding_model = SentenceTransformer('all-MiniLM-L6-v2')\n",
    "umap_model = UMAP(n_neighbors = 50, n_components = 5, min_dist = 0, metric = 'cosine',random_state = 42,verbose = True)\n",
    "# Upon several fittings, it was found that cluster size around 1000 to a 1.7M headlines create 50-100 topics\n",
    "hdbscan_model = HDBSCAN(min_cluster_size =1000,  metric='euclidean', cluster_selection_method='eom',\\\n",
    "                        gen_min_span_tree=True,prediction_data=False,min_samples = 50,verbose = True)\n",
    "vectorizer_model = CountVectorizer(vocabulary=vocab,stop_words=\"english\")\n",
    "Topic_model = BERTopic(embedding_model=embedding_model, umap_model=umap_model, hdbscan_model=hdbscan_model, vectorizer_model=vectorizer_model,\n",
    "                       calculate_probabilities = False,verbose = True,low_memory = True)"
   ]
  },
  {
   "cell_type": "code",
   "execution_count": null,
   "id": "23d717bc",
   "metadata": {},
   "outputs": [],
   "source": [
    "# Topic_model.fit(headline_list,embeddings)\n",
    "# os.mkdir(\"/user/wx2309/Topic-modeling-store/Bertopic_sp500_2023_contem_model_folder/Bertopic_sp500_2023_contem_model\")\n",
    "# Topic_model.save(\"/user/wx2309/Topic-modeling-store/Bertopic_sp500_2023_contem_model_folder/Bertopic_sp500_2023_contem_model\",serialization = \"safetensors\", save_ctfidf = True, save_embedding_model = embedding_model)"
   ]
  },
  {
   "cell_type": "code",
   "execution_count": 16,
   "id": "31ebc5d6",
   "metadata": {},
   "outputs": [],
   "source": [
    "Topic_model = BERTopic.load(\"/user/wx2309/Topic-modeling-store/Bertopic_sp500_2023_contem_model_folder/Bertopic_sp500_2023_contem_model\",\n",
    "                           embedding_model = embedding_model)"
   ]
  },
  {
   "cell_type": "code",
   "execution_count": 18,
   "id": "ec1f773a",
   "metadata": {},
   "outputs": [
    {
     "name": "stderr",
     "output_type": "stream",
     "text": [
      "100%|████████████████████████████████████████████| 1750/1750 [01:59<00:00, 14.61it/s]\n"
     ]
    }
   ],
   "source": [
    "topic_dist, _ = Topic_model.approximate_distribution(headline_list)\n",
    "contem_ret_topic_dist = pd.concat([contem_2023.drop(columns = [\"rp_entity_id\",\"headline\"]),pd.DataFrame(topic_dist)],axis = 1)\n",
    "grouped = contem_ret_topic_dist.groupby(['date',\"comnam\",\"ret\"])\n",
    "grouped_sum = grouped.sum()"
   ]
  },
  {
   "cell_type": "code",
   "execution_count": 19,
   "id": "c6741cb8",
   "metadata": {},
   "outputs": [
    {
     "data": {
      "text/plain": [
       "0.008572583236138631"
      ]
     },
     "execution_count": 19,
     "metadata": {},
     "output_type": "execute_result"
    }
   ],
   "source": [
    "X = np.array(grouped_sum)\n",
    "ret = []\n",
    "for ind in list(grouped_sum.index):\n",
    "  ret.append(ind[2])\n",
    "Y = np.array(ret).reshape(-1,1)\n",
    "from sklearn.linear_model import LinearRegression\n",
    "bert_model = LinearRegression(fit_intercept=True)\n",
    "bert_model.fit(X,Y)\n",
    "bert_model.score(X,Y)"
   ]
  },
  {
   "cell_type": "code",
   "execution_count": null,
   "id": "eaa53071",
   "metadata": {},
   "outputs": [],
   "source": []
  },
  {
   "cell_type": "code",
   "execution_count": null,
   "id": "4c499434",
   "metadata": {},
   "outputs": [],
   "source": []
  }
 ],
 "metadata": {
  "kernelspec": {
   "display_name": "TP_Python3",
   "language": "python",
   "name": "tp_python3"
  },
  "language_info": {
   "codemirror_mode": {
    "name": "ipython",
    "version": 3
   },
   "file_extension": ".py",
   "mimetype": "text/x-python",
   "name": "python",
   "nbconvert_exporter": "python",
   "pygments_lexer": "ipython3",
   "version": "3.9.19"
  }
 },
 "nbformat": 4,
 "nbformat_minor": 5
}
