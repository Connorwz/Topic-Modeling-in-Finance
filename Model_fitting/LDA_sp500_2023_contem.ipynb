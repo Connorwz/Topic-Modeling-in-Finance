{
 "cells": [
  {
   "cell_type": "code",
   "execution_count": 1,
   "id": "c0ea9939",
   "metadata": {},
   "outputs": [],
   "source": [
    "import pandas as pd\n",
    "from zipfile import ZipFile\n",
    "\n",
    "with ZipFile(\"/user/wx2309/Topic-modeling-store/Processed data/past one year/contem_2023.csv.zip\",\"r\") as zip_ref:\n",
    "    with zip_ref.open(\"contem_2023.csv\") as file:\n",
    "        contem_2023 = pd.read_csv(file)"
   ]
  },
  {
   "cell_type": "code",
   "execution_count": 2,
   "id": "2c14cfeb",
   "metadata": {
    "scrolled": true
   },
   "outputs": [
    {
     "data": {
      "text/html": [
       "<div>\n",
       "<style scoped>\n",
       "    .dataframe tbody tr th:only-of-type {\n",
       "        vertical-align: middle;\n",
       "    }\n",
       "\n",
       "    .dataframe tbody tr th {\n",
       "        vertical-align: top;\n",
       "    }\n",
       "\n",
       "    .dataframe thead th {\n",
       "        text-align: right;\n",
       "    }\n",
       "</style>\n",
       "<table border=\"1\" class=\"dataframe\">\n",
       "  <thead>\n",
       "    <tr style=\"text-align: right;\">\n",
       "      <th></th>\n",
       "      <th>date</th>\n",
       "      <th>rp_entity_id</th>\n",
       "      <th>comnam</th>\n",
       "      <th>ret</th>\n",
       "      <th>headline</th>\n",
       "    </tr>\n",
       "  </thead>\n",
       "  <tbody>\n",
       "    <tr>\n",
       "      <th>0</th>\n",
       "      <td>2023-01-03</td>\n",
       "      <td>B4C673</td>\n",
       "      <td>YUM BRANDS INC</td>\n",
       "      <td>-0.008745</td>\n",
       "      <td>Business Disruptions Wane As Some Industries S...</td>\n",
       "    </tr>\n",
       "    <tr>\n",
       "      <th>1</th>\n",
       "      <td>2023-01-03</td>\n",
       "      <td>B4C673</td>\n",
       "      <td>YUM BRANDS INC</td>\n",
       "      <td>-0.008745</td>\n",
       "      <td>Press Release: KFC(R) Offers A Massive Deal on...</td>\n",
       "    </tr>\n",
       "    <tr>\n",
       "      <th>2</th>\n",
       "      <td>2023-01-03</td>\n",
       "      <td>B4C673</td>\n",
       "      <td>YUM BRANDS INC</td>\n",
       "      <td>-0.008745</td>\n",
       "      <td>Business News:  Pizza Chains Race to Hire Driv...</td>\n",
       "    </tr>\n",
       "    <tr>\n",
       "      <th>3</th>\n",
       "      <td>2023-01-03</td>\n",
       "      <td>B4C673</td>\n",
       "      <td>YUM BRANDS INC</td>\n",
       "      <td>-0.008745</td>\n",
       "      <td>KFC(R) Offers A Massive Deal on a Comfort Food...</td>\n",
       "    </tr>\n",
       "    <tr>\n",
       "      <th>4</th>\n",
       "      <td>2023-01-03</td>\n",
       "      <td>B4C673</td>\n",
       "      <td>YUM BRANDS INC</td>\n",
       "      <td>-0.008745</td>\n",
       "      <td>Business Disruptions Wane as Some Industries S...</td>\n",
       "    </tr>\n",
       "  </tbody>\n",
       "</table>\n",
       "</div>"
      ],
      "text/plain": [
       "         date rp_entity_id          comnam       ret  \\\n",
       "0  2023-01-03       B4C673  YUM BRANDS INC -0.008745   \n",
       "1  2023-01-03       B4C673  YUM BRANDS INC -0.008745   \n",
       "2  2023-01-03       B4C673  YUM BRANDS INC -0.008745   \n",
       "3  2023-01-03       B4C673  YUM BRANDS INC -0.008745   \n",
       "4  2023-01-03       B4C673  YUM BRANDS INC -0.008745   \n",
       "\n",
       "                                            headline  \n",
       "0  Business Disruptions Wane As Some Industries S...  \n",
       "1  Press Release: KFC(R) Offers A Massive Deal on...  \n",
       "2  Business News:  Pizza Chains Race to Hire Driv...  \n",
       "3  KFC(R) Offers A Massive Deal on a Comfort Food...  \n",
       "4  Business Disruptions Wane as Some Industries S...  "
      ]
     },
     "execution_count": 2,
     "metadata": {},
     "output_type": "execute_result"
    }
   ],
   "source": [
    "contem_2023.head()"
   ]
  },
  {
   "cell_type": "code",
   "execution_count": 3,
   "id": "d4bd12d2",
   "metadata": {},
   "outputs": [],
   "source": [
    "from sklearn.feature_extraction.text import CountVectorizer\n",
    "from tqdm import tqdm\n",
    "\n",
    "headlines = contem_2023.headline.to_list()\n",
    "vectorizer = CountVectorizer(max_df = 0.9)\n",
    "doc_term = vectorizer.fit_transform(headlines)"
   ]
  },
  {
   "cell_type": "code",
   "execution_count": 8,
   "id": "17e16165",
   "metadata": {},
   "outputs": [
    {
     "name": "stderr",
     "output_type": "stream",
     "text": [
      "INFO:lda:n_documents: 1749770\n",
      "INFO:lda:vocab_size: 153936\n",
      "INFO:lda:n_words: 21183165\n",
      "INFO:lda:n_topics: 62\n",
      "INFO:lda:n_iter: 100\n",
      "INFO:lda:<0> log likelihood: -274328302\n",
      "INFO:lda:<10> log likelihood: -206912279\n",
      "INFO:lda:<20> log likelihood: -177312229\n",
      "INFO:lda:<30> log likelihood: -171354185\n",
      "INFO:lda:<40> log likelihood: -169156334\n",
      "INFO:lda:<50> log likelihood: -168081852\n",
      "INFO:lda:<60> log likelihood: -167339891\n",
      "INFO:lda:<70> log likelihood: -166903464\n",
      "INFO:lda:<80> log likelihood: -166562071\n",
      "INFO:lda:<90> log likelihood: -166333195\n",
      "INFO:lda:<99> log likelihood: -166160262\n"
     ]
    },
    {
     "data": {
      "text/plain": [
       "<lda.lda.LDA at 0x154b8abe4c70>"
      ]
     },
     "execution_count": 8,
     "metadata": {},
     "output_type": "execute_result"
    }
   ],
   "source": [
    "from lda import LDA\n",
    "ldamodel = LDA(n_topics = 62, n_iter = 100, random_state = 1)\n",
    "ldamodel.fit(doc_term)"
   ]
  },
  {
   "cell_type": "code",
   "execution_count": 9,
   "id": "71e31f09",
   "metadata": {},
   "outputs": [
    {
     "data": {
      "text/plain": [
       "0.01301239792127229"
      ]
     },
     "execution_count": 9,
     "metadata": {},
     "output_type": "execute_result"
    }
   ],
   "source": [
    "import numpy as np\n",
    "\n",
    "topic_dist = ldamodel.doc_topic_\n",
    "\n",
    "contem_2023_topic_dist = pd.concat([contem_2023.drop(columns = [\"rp_entity_id\",\"headline\"]),\\\n",
    "                                    pd.DataFrame(topic_dist)], axis =1)\n",
    "grouped_sum = contem_2023_topic_dist.groupby([\"date\",\"comnam\",\"ret\"]).sum()\n",
    "\n",
    "X = np.array(grouped_sum)\n",
    "ret = [ind[2] for ind in list(grouped_sum.index)]\n",
    "Y = np.array(ret).reshape(-1,1)\n",
    "\n",
    "from sklearn.linear_model import LinearRegression\n",
    "lda_model = LinearRegression(fit_intercept=True)\n",
    "lda_model.fit(X,Y)\n",
    "lda_model.score(X,Y)"
   ]
  },
  {
   "cell_type": "code",
   "execution_count": 12,
   "id": "ac95702f",
   "metadata": {},
   "outputs": [],
   "source": [
    "import pickle\n",
    "\n",
    "with open(\"/user/wx2309/Topic-modeling-store/LDA_sp500_2023_contem_model_folder/LDA_sp500_2023_contem_model.pkl\", \"wb\") as file:\n",
    "    pickle.dump(ldamodel,file)"
   ]
  },
  {
   "cell_type": "code",
   "execution_count": null,
   "id": "64d0c7e7",
   "metadata": {},
   "outputs": [],
   "source": []
  }
 ],
 "metadata": {
  "kernelspec": {
   "display_name": "TP_Python3",
   "language": "python",
   "name": "tp_python3"
  },
  "language_info": {
   "codemirror_mode": {
    "name": "ipython",
    "version": 3
   },
   "file_extension": ".py",
   "mimetype": "text/x-python",
   "name": "python",
   "nbconvert_exporter": "python",
   "pygments_lexer": "ipython3",
   "version": "3.9.19"
  }
 },
 "nbformat": 4,
 "nbformat_minor": 5
}
