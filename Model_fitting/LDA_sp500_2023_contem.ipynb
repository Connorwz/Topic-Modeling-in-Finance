{
 "cells": [
  {
   "cell_type": "code",
   "execution_count": 1,
   "id": "c0ea9939",
   "metadata": {},
   "outputs": [],
   "source": [
    "import pandas as pd\n",
    "\n",
    "contem_2023 = pd.read_csv(\"/shared/share_tm-finance/Processed_df/One_year_window/contem_2023.csv\")"
   ]
  },
  {
   "cell_type": "code",
   "execution_count": 2,
   "id": "2c14cfeb",
   "metadata": {
    "scrolled": true
   },
   "outputs": [
    {
     "data": {
      "text/html": [
       "<div>\n",
       "<style scoped>\n",
       "    .dataframe tbody tr th:only-of-type {\n",
       "        vertical-align: middle;\n",
       "    }\n",
       "\n",
       "    .dataframe tbody tr th {\n",
       "        vertical-align: top;\n",
       "    }\n",
       "\n",
       "    .dataframe thead th {\n",
       "        text-align: right;\n",
       "    }\n",
       "</style>\n",
       "<table border=\"1\" class=\"dataframe\">\n",
       "  <thead>\n",
       "    <tr style=\"text-align: right;\">\n",
       "      <th></th>\n",
       "      <th>date</th>\n",
       "      <th>rp_entity_id</th>\n",
       "      <th>comnam</th>\n",
       "      <th>ret</th>\n",
       "      <th>headline</th>\n",
       "      <th>vocab_con_headline</th>\n",
       "    </tr>\n",
       "  </thead>\n",
       "  <tbody>\n",
       "    <tr>\n",
       "      <th>0</th>\n",
       "      <td>2023-01-03</td>\n",
       "      <td>3DC887</td>\n",
       "      <td>ARISTA NETWORKS INC</td>\n",
       "      <td>-0.003626</td>\n",
       "      <td>Network Monitoring Global Market Report 2022: ...</td>\n",
       "      <td>network monitoring sector reach 3.8 2030 cagr</td>\n",
       "    </tr>\n",
       "    <tr>\n",
       "      <th>1</th>\n",
       "      <td>2023-01-03</td>\n",
       "      <td>3DC887</td>\n",
       "      <td>ARISTA NETWORKS INC</td>\n",
       "      <td>-0.003626</td>\n",
       "      <td>Network Monitoring Global Market Report 2022: ...</td>\n",
       "      <td>network monitoring corporations continue onlin...</td>\n",
       "    </tr>\n",
       "    <tr>\n",
       "      <th>2</th>\n",
       "      <td>2023-01-03</td>\n",
       "      <td>3DC887</td>\n",
       "      <td>ARISTA NETWORKS INC</td>\n",
       "      <td>-0.003626</td>\n",
       "      <td>iRocket Appoints Kelyn Brannon to Board of Dir...</td>\n",
       "      <td>irocket appoints kelyn brannon board directors</td>\n",
       "    </tr>\n",
       "    <tr>\n",
       "      <th>3</th>\n",
       "      <td>2023-01-03</td>\n",
       "      <td>8EA478</td>\n",
       "      <td>MODERNA INC</td>\n",
       "      <td>-0.003507</td>\n",
       "      <td>Official List Official List Notice -2-</td>\n",
       "      <td>official list official list notice</td>\n",
       "    </tr>\n",
       "    <tr>\n",
       "      <th>4</th>\n",
       "      <td>2023-01-03</td>\n",
       "      <td>8EA478</td>\n",
       "      <td>MODERNA INC</td>\n",
       "      <td>-0.003507</td>\n",
       "      <td>DelveInsight Evaluates a Robust Cystic Fibrosi...</td>\n",
       "      <td>delveinsight evaluates robust cystic fibrosis ...</td>\n",
       "    </tr>\n",
       "  </tbody>\n",
       "</table>\n",
       "</div>"
      ],
      "text/plain": [
       "         date rp_entity_id               comnam       ret  \\\n",
       "0  2023-01-03       3DC887  ARISTA NETWORKS INC -0.003626   \n",
       "1  2023-01-03       3DC887  ARISTA NETWORKS INC -0.003626   \n",
       "2  2023-01-03       3DC887  ARISTA NETWORKS INC -0.003626   \n",
       "3  2023-01-03       8EA478          MODERNA INC -0.003507   \n",
       "4  2023-01-03       8EA478          MODERNA INC -0.003507   \n",
       "\n",
       "                                            headline  \\\n",
       "0  Network Monitoring Global Market Report 2022: ...   \n",
       "1  Network Monitoring Global Market Report 2022: ...   \n",
       "2  iRocket Appoints Kelyn Brannon to Board of Dir...   \n",
       "3             Official List Official List Notice -2-   \n",
       "4  DelveInsight Evaluates a Robust Cystic Fibrosi...   \n",
       "\n",
       "                                  vocab_con_headline  \n",
       "0      network monitoring sector reach 3.8 2030 cagr  \n",
       "1  network monitoring corporations continue onlin...  \n",
       "2     irocket appoints kelyn brannon board directors  \n",
       "3                 official list official list notice  \n",
       "4  delveinsight evaluates robust cystic fibrosis ...  "
      ]
     },
     "execution_count": 2,
     "metadata": {},
     "output_type": "execute_result"
    }
   ],
   "source": [
    "contem_2023.head()"
   ]
  },
  {
   "cell_type": "code",
   "execution_count": 3,
   "id": "d4bd12d2",
   "metadata": {},
   "outputs": [],
   "source": [
    "from sklearn.feature_extraction.text import CountVectorizer\n",
    "from tqdm import tqdm\n",
    "\n",
    "headlines = contem_2023.vocab_con_headline.to_list()\n",
    "vectorizer = CountVectorizer()\n",
    "doc_term = vectorizer.fit_transform(headlines)"
   ]
  },
  {
   "cell_type": "code",
   "execution_count": 4,
   "id": "17e16165",
   "metadata": {},
   "outputs": [
    {
     "name": "stderr",
     "output_type": "stream",
     "text": [
      "INFO:lda:n_documents: 1749222\n",
      "INFO:lda:vocab_size: 115298\n",
      "INFO:lda:n_words: 12456812\n",
      "INFO:lda:n_topics: 62\n",
      "INFO:lda:n_iter: 100\n",
      "WARNING:lda:all zero row in document-term matrix found\n",
      "INFO:lda:<0> log likelihood: -174535983\n",
      "INFO:lda:<10> log likelihood: -135300727\n",
      "INFO:lda:<20> log likelihood: -117777713\n",
      "INFO:lda:<30> log likelihood: -114191000\n",
      "INFO:lda:<40> log likelihood: -112673734\n",
      "INFO:lda:<50> log likelihood: -111859048\n",
      "INFO:lda:<60> log likelihood: -111329404\n",
      "INFO:lda:<70> log likelihood: -110980483\n",
      "INFO:lda:<80> log likelihood: -110707711\n",
      "INFO:lda:<90> log likelihood: -110504943\n",
      "INFO:lda:<99> log likelihood: -110331493\n"
     ]
    },
    {
     "data": {
      "text/plain": [
       "<lda.lda.LDA at 0x7f7ca0c12aa0>"
      ]
     },
     "execution_count": 4,
     "metadata": {},
     "output_type": "execute_result"
    }
   ],
   "source": [
    "from lda import LDA\n",
    "ldamodel = LDA(n_topics = 62, n_iter = 100, random_state = 1)\n",
    "ldamodel.fit(doc_term)"
   ]
  },
  {
   "cell_type": "code",
   "execution_count": 5,
   "id": "71e31f09",
   "metadata": {},
   "outputs": [
    {
     "data": {
      "text/plain": [
       "0.009622704975147833"
      ]
     },
     "execution_count": 5,
     "metadata": {},
     "output_type": "execute_result"
    }
   ],
   "source": [
    "import numpy as np\n",
    "\n",
    "topic_dist = ldamodel.doc_topic_\n",
    "\n",
    "contem_2023_topic_dist = pd.concat([contem_2023.drop(columns = [\"rp_entity_id\",\"headline\",\"vocab_con_headline\"]),\\\n",
    "                                    pd.DataFrame(topic_dist)], axis =1)\n",
    "grouped_sum = contem_2023_topic_dist.groupby([\"date\",\"comnam\",\"ret\"]).sum()\n",
    "\n",
    "X = np.array(grouped_sum)\n",
    "ret = [ind[2] for ind in list(grouped_sum.index)]\n",
    "Y = np.array(ret).reshape(-1,1)\n",
    "\n",
    "from sklearn.linear_model import LinearRegression\n",
    "lda_model = LinearRegression(fit_intercept=True)\n",
    "lda_model.fit(X,Y)\n",
    "lda_model.score(X,Y)"
   ]
  },
  {
   "cell_type": "code",
   "execution_count": 12,
   "id": "ac95702f",
   "metadata": {},
   "outputs": [],
   "source": [
    "# import pickle\n",
    "\n",
    "# with open(\"/user/wx2309/Topic-modeling-store/LDA_sp500_2023_contem_model_folder/LDA_sp500_2023_contem_model.pkl\", \"wb\") as file:\n",
    "#     pickle.dump(ldamodel,file)"
   ]
  },
  {
   "cell_type": "code",
   "execution_count": null,
   "id": "64d0c7e7",
   "metadata": {},
   "outputs": [],
   "source": []
  }
 ],
 "metadata": {
  "kernelspec": {
   "display_name": "TM",
   "language": "python",
   "name": "python3"
  },
  "language_info": {
   "codemirror_mode": {
    "name": "ipython",
    "version": 3
   },
   "file_extension": ".py",
   "mimetype": "text/x-python",
   "name": "python",
   "nbconvert_exporter": "python",
   "pygments_lexer": "ipython3",
   "version": "3.10.14"
  }
 },
 "nbformat": 4,
 "nbformat_minor": 5
}
