{
 "cells": [
  {
   "cell_type": "code",
   "execution_count": 3,
   "metadata": {},
   "outputs": [
    {
     "name": "stdout",
     "output_type": "stream",
     "text": [
      "Loading library list...\n",
      "Done\n"
     ]
    }
   ],
   "source": [
    "import wrds\n",
    "import pandas as pd\n",
    "import pytz\n",
    "import datetime as dt\n",
    "import pandas_market_calendars as mcal\n",
    "db = wrds.Connection(wrds_username = \"connorwz\")"
   ]
  },
  {
   "cell_type": "code",
   "execution_count": 4,
   "metadata": {},
   "outputs": [],
   "source": [
    "mapping_file_query = \"\"\" \n",
    "                    SELECT DISTINCT \n",
    "                    a.permno,a.comnam,b.rp_entity_id,b.entity_name\n",
    "                    FROM (SELECT permno,ncusip,comnam FROM crsp.dse\n",
    "                    WHERE ncusip IS NOT NULL) as a,\n",
    "                    (SELECT rp_entity_id,cusip,entity_name FROM rpna.wrds_rpa_company_mappings \n",
    "                    WHERE cusip IS NOT NULL) as b\n",
    "                    WHERE a.ncusip=substr(b.cusip,1,8)\n",
    "\"\"\"\n",
    "mapping_file = db.raw_sql(mapping_file_query)"
   ]
  },
  {
   "cell_type": "code",
   "execution_count": 5,
   "metadata": {},
   "outputs": [
    {
     "data": {
      "text/html": [
       "<div>\n",
       "<style scoped>\n",
       "    .dataframe tbody tr th:only-of-type {\n",
       "        vertical-align: middle;\n",
       "    }\n",
       "\n",
       "    .dataframe tbody tr th {\n",
       "        vertical-align: top;\n",
       "    }\n",
       "\n",
       "    .dataframe thead th {\n",
       "        text-align: right;\n",
       "    }\n",
       "</style>\n",
       "<table border=\"1\" class=\"dataframe\">\n",
       "  <thead>\n",
       "    <tr style=\"text-align: right;\">\n",
       "      <th></th>\n",
       "      <th>permno</th>\n",
       "      <th>comnam</th>\n",
       "      <th>rp_entity_id</th>\n",
       "      <th>entity_name</th>\n",
       "    </tr>\n",
       "  </thead>\n",
       "  <tbody>\n",
       "    <tr>\n",
       "      <th>0</th>\n",
       "      <td>10012</td>\n",
       "      <td>D P A C TECHNOLOGIES CORP</td>\n",
       "      <td>EEF6A8</td>\n",
       "      <td>DPAC Technologies Corp.</td>\n",
       "    </tr>\n",
       "    <tr>\n",
       "      <th>1</th>\n",
       "      <td>10026</td>\n",
       "      <td>J &amp; J SNACK FOODS CORP</td>\n",
       "      <td>B72BE9</td>\n",
       "      <td>J&amp;J Snack Foods Corp.</td>\n",
       "    </tr>\n",
       "    <tr>\n",
       "      <th>2</th>\n",
       "      <td>10028</td>\n",
       "      <td>ENVELA CORP</td>\n",
       "      <td>B9BDE8</td>\n",
       "      <td>Envela Corp.</td>\n",
       "    </tr>\n",
       "    <tr>\n",
       "      <th>3</th>\n",
       "      <td>10031</td>\n",
       "      <td>A A IMPORTING INC</td>\n",
       "      <td>91E312</td>\n",
       "      <td>A.A. Importing Co. Inc.</td>\n",
       "    </tr>\n",
       "    <tr>\n",
       "      <th>4</th>\n",
       "      <td>10032</td>\n",
       "      <td>PLEXUS CORP</td>\n",
       "      <td>A2CAF7</td>\n",
       "      <td>Plexus Corp.</td>\n",
       "    </tr>\n",
       "  </tbody>\n",
       "</table>\n",
       "</div>"
      ],
      "text/plain": [
       "   permno                     comnam rp_entity_id              entity_name\n",
       "0   10012  D P A C TECHNOLOGIES CORP       EEF6A8  DPAC Technologies Corp.\n",
       "1   10026     J & J SNACK FOODS CORP       B72BE9    J&J Snack Foods Corp.\n",
       "2   10028                ENVELA CORP       B9BDE8             Envela Corp.\n",
       "3   10031          A A IMPORTING INC       91E312  A.A. Importing Co. Inc.\n",
       "4   10032                PLEXUS CORP       A2CAF7             Plexus Corp."
      ]
     },
     "execution_count": 5,
     "metadata": {},
     "output_type": "execute_result"
    }
   ],
   "source": [
    "mapping_file.head()"
   ]
  },
  {
   "cell_type": "code",
   "execution_count": 6,
   "metadata": {},
   "outputs": [
    {
     "data": {
      "text/html": [
       "<div>\n",
       "<style scoped>\n",
       "    .dataframe tbody tr th:only-of-type {\n",
       "        vertical-align: middle;\n",
       "    }\n",
       "\n",
       "    .dataframe tbody tr th {\n",
       "        vertical-align: top;\n",
       "    }\n",
       "\n",
       "    .dataframe thead th {\n",
       "        text-align: right;\n",
       "    }\n",
       "</style>\n",
       "<table border=\"1\" class=\"dataframe\">\n",
       "  <thead>\n",
       "    <tr style=\"text-align: right;\">\n",
       "      <th></th>\n",
       "      <th>permno</th>\n",
       "      <th>comnam</th>\n",
       "      <th>rp_entity_id</th>\n",
       "      <th>entity_name</th>\n",
       "    </tr>\n",
       "  </thead>\n",
       "  <tbody>\n",
       "  </tbody>\n",
       "</table>\n",
       "</div>"
      ],
      "text/plain": [
       "Empty DataFrame\n",
       "Columns: [permno, comnam, rp_entity_id, entity_name]\n",
       "Index: []"
      ]
     },
     "execution_count": 6,
     "metadata": {},
     "output_type": "execute_result"
    }
   ],
   "source": [
    "# No permno is mapped to more than one RP entity_ids \n",
    "mapping_file.groupby(\"permno\").filter(lambda sub:len(sub.rp_entity_id.unique()) > 1).sort_values(by = \"permno\")"
   ]
  },
  {
   "cell_type": "code",
   "execution_count": 7,
   "metadata": {},
   "outputs": [
    {
     "data": {
      "text/html": [
       "<div>\n",
       "<style scoped>\n",
       "    .dataframe tbody tr th:only-of-type {\n",
       "        vertical-align: middle;\n",
       "    }\n",
       "\n",
       "    .dataframe tbody tr th {\n",
       "        vertical-align: top;\n",
       "    }\n",
       "\n",
       "    .dataframe thead th {\n",
       "        text-align: right;\n",
       "    }\n",
       "</style>\n",
       "<table border=\"1\" class=\"dataframe\">\n",
       "  <thead>\n",
       "    <tr style=\"text-align: right;\">\n",
       "      <th></th>\n",
       "      <th>permno</th>\n",
       "      <th>comnam</th>\n",
       "      <th>rp_entity_id</th>\n",
       "      <th>entity_name</th>\n",
       "    </tr>\n",
       "  </thead>\n",
       "  <tbody>\n",
       "    <tr>\n",
       "      <th>494</th>\n",
       "      <td>13452</td>\n",
       "      <td>TRONOX HOLDINGS PLC</td>\n",
       "      <td>00D6B5</td>\n",
       "      <td>Tronox Holdings PLC</td>\n",
       "    </tr>\n",
       "    <tr>\n",
       "      <th>7941</th>\n",
       "      <td>91153</td>\n",
       "      <td>TRONOX INC</td>\n",
       "      <td>00D6B5</td>\n",
       "      <td>Tronox Holdings PLC</td>\n",
       "    </tr>\n",
       "    <tr>\n",
       "      <th>7969</th>\n",
       "      <td>91277</td>\n",
       "      <td>QURATE RETAIL INC Q V C GROUP</td>\n",
       "      <td>0C6861</td>\n",
       "      <td>Qurate Retail Group Inc.</td>\n",
       "    </tr>\n",
       "    <tr>\n",
       "      <th>7967</th>\n",
       "      <td>91277</td>\n",
       "      <td>QURATE RETAIL GROUP INC</td>\n",
       "      <td>0C6861</td>\n",
       "      <td>Qurate Retail Group Inc.</td>\n",
       "    </tr>\n",
       "    <tr>\n",
       "      <th>7968</th>\n",
       "      <td>91277</td>\n",
       "      <td>QURATE RETAIL INC</td>\n",
       "      <td>0C6861</td>\n",
       "      <td>Qurate Retail Group Inc.</td>\n",
       "    </tr>\n",
       "  </tbody>\n",
       "</table>\n",
       "</div>"
      ],
      "text/plain": [
       "      permno                         comnam rp_entity_id  \\\n",
       "494    13452            TRONOX HOLDINGS PLC       00D6B5   \n",
       "7941   91153                     TRONOX INC       00D6B5   \n",
       "7969   91277  QURATE RETAIL INC Q V C GROUP       0C6861   \n",
       "7967   91277        QURATE RETAIL GROUP INC       0C6861   \n",
       "7968   91277              QURATE RETAIL INC       0C6861   \n",
       "\n",
       "                   entity_name  \n",
       "494        Tronox Holdings PLC  \n",
       "7941       Tronox Holdings PLC  \n",
       "7969  Qurate Retail Group Inc.  \n",
       "7967  Qurate Retail Group Inc.  \n",
       "7968  Qurate Retail Group Inc.  "
      ]
     },
     "execution_count": 7,
     "metadata": {},
     "output_type": "execute_result"
    }
   ],
   "source": [
    "# Some RP entity_ids are mapped to more than one permnos\n",
    "entity_id_mapped_morethan1 = mapping_file.groupby(\"rp_entity_id\").filter(lambda sub:len(sub.permno.unique()) > 1).sort_values(by = \"rp_entity_id\")\n",
    "entity_id_mapped_morethan1.head()"
   ]
  },
  {
   "cell_type": "code",
   "execution_count": 8,
   "metadata": {},
   "outputs": [
    {
     "data": {
      "text/html": [
       "<div>\n",
       "<style scoped>\n",
       "    .dataframe tbody tr th:only-of-type {\n",
       "        vertical-align: middle;\n",
       "    }\n",
       "\n",
       "    .dataframe tbody tr th {\n",
       "        vertical-align: top;\n",
       "    }\n",
       "\n",
       "    .dataframe thead th {\n",
       "        text-align: right;\n",
       "    }\n",
       "</style>\n",
       "<table border=\"1\" class=\"dataframe\">\n",
       "  <thead>\n",
       "    <tr style=\"text-align: right;\">\n",
       "      <th></th>\n",
       "      <th>permno</th>\n",
       "      <th>comnam</th>\n",
       "      <th>rp_entity_id</th>\n",
       "      <th>entity_name</th>\n",
       "    </tr>\n",
       "  </thead>\n",
       "  <tbody>\n",
       "    <tr>\n",
       "      <th>7969</th>\n",
       "      <td>91277</td>\n",
       "      <td>QURATE RETAIL INC Q V C GROUP</td>\n",
       "      <td>0C6861</td>\n",
       "      <td>Qurate Retail Group Inc.</td>\n",
       "    </tr>\n",
       "    <tr>\n",
       "      <th>7967</th>\n",
       "      <td>91277</td>\n",
       "      <td>QURATE RETAIL GROUP INC</td>\n",
       "      <td>0C6861</td>\n",
       "      <td>Qurate Retail Group Inc.</td>\n",
       "    </tr>\n",
       "    <tr>\n",
       "      <th>7968</th>\n",
       "      <td>91277</td>\n",
       "      <td>QURATE RETAIL INC</td>\n",
       "      <td>0C6861</td>\n",
       "      <td>Qurate Retail Group Inc.</td>\n",
       "    </tr>\n",
       "    <tr>\n",
       "      <th>7972</th>\n",
       "      <td>91278</td>\n",
       "      <td>QURATE RETAIL INC Q V C GROUP</td>\n",
       "      <td>0C6861</td>\n",
       "      <td>Qurate Retail Group Inc.</td>\n",
       "    </tr>\n",
       "    <tr>\n",
       "      <th>7971</th>\n",
       "      <td>91278</td>\n",
       "      <td>QURATE RETAIL INC</td>\n",
       "      <td>0C6861</td>\n",
       "      <td>Qurate Retail Group Inc.</td>\n",
       "    </tr>\n",
       "    <tr>\n",
       "      <th>7970</th>\n",
       "      <td>91278</td>\n",
       "      <td>QURATE RETAIL GROUP INC</td>\n",
       "      <td>0C6861</td>\n",
       "      <td>Qurate Retail Group Inc.</td>\n",
       "    </tr>\n",
       "  </tbody>\n",
       "</table>\n",
       "</div>"
      ],
      "text/plain": [
       "      permno                         comnam rp_entity_id  \\\n",
       "7969   91277  QURATE RETAIL INC Q V C GROUP       0C6861   \n",
       "7967   91277        QURATE RETAIL GROUP INC       0C6861   \n",
       "7968   91277              QURATE RETAIL INC       0C6861   \n",
       "7972   91278  QURATE RETAIL INC Q V C GROUP       0C6861   \n",
       "7971   91278              QURATE RETAIL INC       0C6861   \n",
       "7970   91278        QURATE RETAIL GROUP INC       0C6861   \n",
       "\n",
       "                   entity_name  \n",
       "7969  Qurate Retail Group Inc.  \n",
       "7967  Qurate Retail Group Inc.  \n",
       "7968  Qurate Retail Group Inc.  \n",
       "7972  Qurate Retail Group Inc.  \n",
       "7971  Qurate Retail Group Inc.  \n",
       "7970  Qurate Retail Group Inc.  "
      ]
     },
     "execution_count": 8,
     "metadata": {},
     "output_type": "execute_result"
    }
   ],
   "source": [
    "# There are many reasons resulting in this; For example, \"0C6861\" has 2 permnos becuase of A and B share classes\n",
    "entity_id_mapped_morethan1.groupby(\"rp_entity_id\").get_group(\"0C6861\")"
   ]
  },
  {
   "cell_type": "code",
   "execution_count": 9,
   "metadata": {},
   "outputs": [
    {
     "data": {
      "text/html": [
       "<div>\n",
       "<style scoped>\n",
       "    .dataframe tbody tr th:only-of-type {\n",
       "        vertical-align: middle;\n",
       "    }\n",
       "\n",
       "    .dataframe tbody tr th {\n",
       "        vertical-align: top;\n",
       "    }\n",
       "\n",
       "    .dataframe thead th {\n",
       "        text-align: right;\n",
       "    }\n",
       "</style>\n",
       "<table border=\"1\" class=\"dataframe\">\n",
       "  <thead>\n",
       "    <tr style=\"text-align: right;\">\n",
       "      <th></th>\n",
       "      <th>permno</th>\n",
       "      <th>comnam</th>\n",
       "      <th>rp_entity_id</th>\n",
       "      <th>entity_name</th>\n",
       "    </tr>\n",
       "  </thead>\n",
       "  <tbody>\n",
       "    <tr>\n",
       "      <th>4143</th>\n",
       "      <td>24294</td>\n",
       "      <td>C R H PLC NEW</td>\n",
       "      <td>16AD58</td>\n",
       "      <td>CRH PLC</td>\n",
       "    </tr>\n",
       "    <tr>\n",
       "      <th>5087</th>\n",
       "      <td>75650</td>\n",
       "      <td>C R H PLC</td>\n",
       "      <td>16AD58</td>\n",
       "      <td>CRH PLC</td>\n",
       "    </tr>\n",
       "  </tbody>\n",
       "</table>\n",
       "</div>"
      ],
      "text/plain": [
       "      permno         comnam rp_entity_id entity_name\n",
       "4143   24294  C R H PLC NEW       16AD58     CRH PLC\n",
       "5087   75650      C R H PLC       16AD58     CRH PLC"
      ]
     },
     "execution_count": 9,
     "metadata": {},
     "output_type": "execute_result"
    }
   ],
   "source": [
    "# For \"16AD58\", it has 2 permnos because it changed its primary listing from the London Stock Exchange (LSE) to the New York Stock Exchange (NYSE) on September 25, 2023\n",
    "entity_id_mapped_morethan1.groupby(\"rp_entity_id\").get_group(\"16AD58\")"
   ]
  },
  {
   "cell_type": "code",
   "execution_count": 10,
   "metadata": {},
   "outputs": [],
   "source": [
    "# All SP500 companies between 2000 and 2023\n",
    "sp_500_20_cen_query = f\"\"\"SELECT distinct permno FROM crsp.dsp500list\n",
    "                        WHERE ending >= '01/01/2000' and start <= '12/31/2023'\n",
    "                \"\"\"\n",
    "sp_500_20_cen = db.raw_sql(sp_500_20_cen_query)"
   ]
  },
  {
   "cell_type": "code",
   "execution_count": 11,
   "metadata": {},
   "outputs": [
    {
     "data": {
      "text/plain": [
       "0"
      ]
     },
     "execution_count": 11,
     "metadata": {},
     "output_type": "execute_result"
    }
   ],
   "source": [
    "# No SP500 companies are mapped to more than one RP entity_id so we are free to use this mapping file \n",
    "# if analysis are restricted to SP500 companies\n",
    "pd.Series(entity_id_mapped_morethan1.permno.unique()).isin(sp_500_20_cen).sum()"
   ]
  },
  {
   "cell_type": "code",
   "execution_count": 23,
   "metadata": {},
   "outputs": [],
   "source": [
    "mapping_file = mapping_file[[\"permno\",\"rp_entity_id\"]]\n",
    "mapping_file.drop_duplicates(inplace=True)\n",
    "mapping_file.to_csv(\"Mapping_file.csv\",index=False)"
   ]
  }
 ],
 "metadata": {
  "kernelspec": {
   "display_name": "base",
   "language": "python",
   "name": "python3"
  },
  "language_info": {
   "codemirror_mode": {
    "name": "ipython",
    "version": 3
   },
   "file_extension": ".py",
   "mimetype": "text/x-python",
   "name": "python",
   "nbconvert_exporter": "python",
   "pygments_lexer": "ipython3",
   "version": "3.11.7"
  }
 },
 "nbformat": 4,
 "nbformat_minor": 2
}
