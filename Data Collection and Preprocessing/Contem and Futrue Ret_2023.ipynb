{
 "cells": [
  {
   "cell_type": "markdown",
   "metadata": {},
   "source": [
    "# Initialization"
   ]
  },
  {
   "cell_type": "code",
   "execution_count": 592,
   "metadata": {},
   "outputs": [],
   "source": [
    "import wrds\n",
    "import pandas as pd\n",
    "import pytz\n",
    "import datetime as dt\n",
    "import pandas_market_calendars as mcal"
   ]
  },
  {
   "cell_type": "code",
   "execution_count": 593,
   "metadata": {},
   "outputs": [
    {
     "name": "stdout",
     "output_type": "stream",
     "text": [
      "Loading library list...\n",
      "Done\n"
     ]
    }
   ],
   "source": [
    "db = wrds.Connection(wrds_username = \"connorwz\")"
   ]
  },
  {
   "cell_type": "markdown",
   "metadata": {},
   "source": [
    "# Find SP500 constituents in 2023"
   ]
  },
  {
   "cell_type": "code",
   "execution_count": 594,
   "metadata": {},
   "outputs": [],
   "source": [
    "sp500 = db.raw_sql(\"\"\"\n",
    "                        select a.*, b.date, b.ret, b.prc, b.openprc\n",
    "                        from crsp.dsp500list as a,\n",
    "                        crsp.dsf as b\n",
    "                        where a.permno=b.permno\n",
    "                        and b.date >= a.start and b.date<= a.ending\n",
    "                        and b.date>='01/01/2023' and b.date<='12/31/2023'\n",
    "                        order by date;\n",
    "                        \"\"\", date_cols=['start', 'ending', 'date'])"
   ]
  },
  {
   "cell_type": "code",
   "execution_count": 595,
   "metadata": {},
   "outputs": [],
   "source": [
    "dse = db.raw_sql(\"\"\"\n",
    "                        select comnam,ncusip, namedt, nameendt,permno\n",
    "                        from crsp.dsenames\n",
    "                        \"\"\", date_cols=['namedt', 'nameendt'])\n",
    "\n",
    "# if nameendt is missing then set to today date\n",
    "dse['nameendt']=dse['nameendt'].fillna(pd.to_datetime('today'))"
   ]
  },
  {
   "cell_type": "code",
   "execution_count": 596,
   "metadata": {},
   "outputs": [],
   "source": [
    "# Merge with SP500 data\n",
    "sp500_full_2023 = pd.merge(sp500, dse, how = 'left', on = 'permno')\n",
    "\n",
    "# Impose the date range restrictions\n",
    "sp500_full_2023 = sp500_full_2023.loc[(sp500_full_2023.date>=sp500_full_2023.namedt) \\\n",
    "                            & (sp500_full_2023.date<=sp500_full_2023.nameendt)]\n",
    "sp500_full_2023.reset_index(inplace = True,drop = True)"
   ]
  },
  {
   "cell_type": "code",
   "execution_count": 597,
   "metadata": {},
   "outputs": [],
   "source": [
    "sp500_full_2023 = sp500_full_2023[[\"permno\",\"date\",\"comnam\",\"ret\",\"openprc\",\"prc\"]]"
   ]
  },
  {
   "cell_type": "markdown",
   "metadata": {},
   "source": [
    "## Dirty data check"
   ]
  },
  {
   "cell_type": "code",
   "execution_count": 598,
   "metadata": {},
   "outputs": [
    {
     "data": {
      "text/html": [
       "<div>\n",
       "<style scoped>\n",
       "    .dataframe tbody tr th:only-of-type {\n",
       "        vertical-align: middle;\n",
       "    }\n",
       "\n",
       "    .dataframe tbody tr th {\n",
       "        vertical-align: top;\n",
       "    }\n",
       "\n",
       "    .dataframe thead th {\n",
       "        text-align: right;\n",
       "    }\n",
       "</style>\n",
       "<table border=\"1\" class=\"dataframe\">\n",
       "  <thead>\n",
       "    <tr style=\"text-align: right;\">\n",
       "      <th></th>\n",
       "      <th>permno</th>\n",
       "      <th>date</th>\n",
       "      <th>comnam</th>\n",
       "      <th>ret</th>\n",
       "      <th>openprc</th>\n",
       "      <th>prc</th>\n",
       "    </tr>\n",
       "  </thead>\n",
       "  <tbody>\n",
       "    <tr>\n",
       "      <th>23150</th>\n",
       "      <td>11786</td>\n",
       "      <td>2023-03-10</td>\n",
       "      <td>S V B FINANCIAL GROUP</td>\n",
       "      <td>-0.628725</td>\n",
       "      <td>NaN</td>\n",
       "      <td>-39.37000</td>\n",
       "    </tr>\n",
       "    <tr>\n",
       "      <th>55029</th>\n",
       "      <td>76841</td>\n",
       "      <td>2023-06-09</td>\n",
       "      <td>BIOGEN INC</td>\n",
       "      <td>0.025965</td>\n",
       "      <td>NaN</td>\n",
       "      <td>-316.89999</td>\n",
       "    </tr>\n",
       "  </tbody>\n",
       "</table>\n",
       "</div>"
      ],
      "text/plain": [
       "       permno       date                 comnam       ret  openprc        prc\n",
       "23150   11786 2023-03-10  S V B FINANCIAL GROUP -0.628725      NaN  -39.37000\n",
       "55029   76841 2023-06-09             BIOGEN INC  0.025965      NaN -316.89999"
      ]
     },
     "execution_count": 598,
     "metadata": {},
     "output_type": "execute_result"
    }
   ],
   "source": [
    "# Negative sign means bid/ask average\n",
    "sp500_full_2023[sp500_full_2023.prc <0]"
   ]
  },
  {
   "cell_type": "code",
   "execution_count": 599,
   "metadata": {},
   "outputs": [
    {
     "name": "stderr",
     "output_type": "stream",
     "text": [
      "/var/folders/bg/9xqhvbd522v9y5gqby9zsgsm0000gn/T/ipykernel_46817/4168260694.py:3: FutureWarning: The behavior of 'isin' with dtype=datetime64[ns] and castable values (e.g. strings) is deprecated. In a future version, these will not be considered matching by isin. Explicitly cast to the appropriate dtype before calling isin instead.\n",
      "  sp500_full_2023[sp500_full_2023.permno == 76841].loc[sp500_full_2023.date.isin([\"2023-06-08\",\"2023-06-09\",\"2023-06-12\"])]\n"
     ]
    },
    {
     "data": {
      "text/html": [
       "<div>\n",
       "<style scoped>\n",
       "    .dataframe tbody tr th:only-of-type {\n",
       "        vertical-align: middle;\n",
       "    }\n",
       "\n",
       "    .dataframe tbody tr th {\n",
       "        vertical-align: top;\n",
       "    }\n",
       "\n",
       "    .dataframe thead th {\n",
       "        text-align: right;\n",
       "    }\n",
       "</style>\n",
       "<table border=\"1\" class=\"dataframe\">\n",
       "  <thead>\n",
       "    <tr style=\"text-align: right;\">\n",
       "      <th></th>\n",
       "      <th>permno</th>\n",
       "      <th>date</th>\n",
       "      <th>comnam</th>\n",
       "      <th>ret</th>\n",
       "      <th>openprc</th>\n",
       "      <th>prc</th>\n",
       "    </tr>\n",
       "  </thead>\n",
       "  <tbody>\n",
       "    <tr>\n",
       "      <th>54410</th>\n",
       "      <td>76841</td>\n",
       "      <td>2023-06-08</td>\n",
       "      <td>BIOGEN INC</td>\n",
       "      <td>0.013054</td>\n",
       "      <td>310.69000</td>\n",
       "      <td>308.88000</td>\n",
       "    </tr>\n",
       "    <tr>\n",
       "      <th>55029</th>\n",
       "      <td>76841</td>\n",
       "      <td>2023-06-09</td>\n",
       "      <td>BIOGEN INC</td>\n",
       "      <td>0.025965</td>\n",
       "      <td>NaN</td>\n",
       "      <td>-316.89999</td>\n",
       "    </tr>\n",
       "    <tr>\n",
       "      <th>55737</th>\n",
       "      <td>76841</td>\n",
       "      <td>2023-06-12</td>\n",
       "      <td>BIOGEN INC</td>\n",
       "      <td>-0.011013</td>\n",
       "      <td>319.76001</td>\n",
       "      <td>313.41000</td>\n",
       "    </tr>\n",
       "  </tbody>\n",
       "</table>\n",
       "</div>"
      ],
      "text/plain": [
       "       permno       date      comnam       ret    openprc        prc\n",
       "54410   76841 2023-06-08  BIOGEN INC  0.013054  310.69000  308.88000\n",
       "55029   76841 2023-06-09  BIOGEN INC  0.025965        NaN -316.89999\n",
       "55737   76841 2023-06-12  BIOGEN INC -0.011013  319.76001  313.41000"
      ]
     },
     "execution_count": 599,
     "metadata": {},
     "output_type": "execute_result"
    }
   ],
   "source": [
    "# For 76841, bid/ask average represents closing price for a stock \n",
    "# with similar numerical values of adjacent days \n",
    "sp500_full_2023[sp500_full_2023.permno == 76841].loc[sp500_full_2023.date.isin([\"2023-06-08\",\"2023-06-09\",\"2023-06-12\"])]"
   ]
  },
  {
   "cell_type": "code",
   "execution_count": 600,
   "metadata": {},
   "outputs": [
    {
     "data": {
      "text/html": [
       "<div>\n",
       "<style scoped>\n",
       "    .dataframe tbody tr th:only-of-type {\n",
       "        vertical-align: middle;\n",
       "    }\n",
       "\n",
       "    .dataframe tbody tr th {\n",
       "        vertical-align: top;\n",
       "    }\n",
       "\n",
       "    .dataframe thead th {\n",
       "        text-align: right;\n",
       "    }\n",
       "</style>\n",
       "<table border=\"1\" class=\"dataframe\">\n",
       "  <thead>\n",
       "    <tr style=\"text-align: right;\">\n",
       "      <th></th>\n",
       "      <th>permno</th>\n",
       "      <th>date</th>\n",
       "      <th>comnam</th>\n",
       "      <th>ret</th>\n",
       "      <th>openprc</th>\n",
       "      <th>prc</th>\n",
       "    </tr>\n",
       "  </thead>\n",
       "  <tbody>\n",
       "    <tr>\n",
       "      <th>22458</th>\n",
       "      <td>11786</td>\n",
       "      <td>2023-03-08</td>\n",
       "      <td>S V B FINANCIAL GROUP</td>\n",
       "      <td>0.001645</td>\n",
       "      <td>266.85999</td>\n",
       "      <td>267.82999</td>\n",
       "    </tr>\n",
       "    <tr>\n",
       "      <th>22939</th>\n",
       "      <td>11786</td>\n",
       "      <td>2023-03-09</td>\n",
       "      <td>S V B FINANCIAL GROUP</td>\n",
       "      <td>-0.604077</td>\n",
       "      <td>176.55000</td>\n",
       "      <td>106.04000</td>\n",
       "    </tr>\n",
       "    <tr>\n",
       "      <th>23150</th>\n",
       "      <td>11786</td>\n",
       "      <td>2023-03-10</td>\n",
       "      <td>S V B FINANCIAL GROUP</td>\n",
       "      <td>-0.628725</td>\n",
       "      <td>NaN</td>\n",
       "      <td>-39.37000</td>\n",
       "    </tr>\n",
       "  </tbody>\n",
       "</table>\n",
       "</div>"
      ],
      "text/plain": [
       "       permno       date                 comnam       ret    openprc  \\\n",
       "22458   11786 2023-03-08  S V B FINANCIAL GROUP  0.001645  266.85999   \n",
       "22939   11786 2023-03-09  S V B FINANCIAL GROUP -0.604077  176.55000   \n",
       "23150   11786 2023-03-10  S V B FINANCIAL GROUP -0.628725        NaN   \n",
       "\n",
       "             prc  \n",
       "22458  267.82999  \n",
       "22939  106.04000  \n",
       "23150  -39.37000  "
      ]
     },
     "execution_count": 600,
     "metadata": {},
     "output_type": "execute_result"
    }
   ],
   "source": [
    "# For 11786, this seems to be something wrong\n",
    "sp500_full_2023[sp500_full_2023.permno == 11786][-3:]"
   ]
  },
  {
   "cell_type": "code",
   "execution_count": 601,
   "metadata": {},
   "outputs": [
    {
     "data": {
      "text/plain": [
       "Series([], Name: prc, dtype: float64)"
      ]
     },
     "execution_count": 601,
     "metadata": {},
     "output_type": "execute_result"
    }
   ],
   "source": [
    "# 0 means neither closing price nor bid/ask average exists \n",
    "sp500_full_2023.prc[sp500_full_2023.prc == 0]"
   ]
  },
  {
   "cell_type": "code",
   "execution_count": 602,
   "metadata": {},
   "outputs": [
    {
     "data": {
      "text/html": [
       "<div>\n",
       "<style scoped>\n",
       "    .dataframe tbody tr th:only-of-type {\n",
       "        vertical-align: middle;\n",
       "    }\n",
       "\n",
       "    .dataframe tbody tr th {\n",
       "        vertical-align: top;\n",
       "    }\n",
       "\n",
       "    .dataframe thead th {\n",
       "        text-align: right;\n",
       "    }\n",
       "</style>\n",
       "<table border=\"1\" class=\"dataframe\">\n",
       "  <thead>\n",
       "    <tr style=\"text-align: right;\">\n",
       "      <th></th>\n",
       "      <th>permno</th>\n",
       "      <th>date</th>\n",
       "      <th>comnam</th>\n",
       "      <th>ret</th>\n",
       "      <th>openprc</th>\n",
       "      <th>prc</th>\n",
       "    </tr>\n",
       "  </thead>\n",
       "  <tbody>\n",
       "    <tr>\n",
       "      <th>23150</th>\n",
       "      <td>11786</td>\n",
       "      <td>2023-03-10</td>\n",
       "      <td>S V B FINANCIAL GROUP</td>\n",
       "      <td>-0.628725</td>\n",
       "      <td>NaN</td>\n",
       "      <td>-39.37000</td>\n",
       "    </tr>\n",
       "    <tr>\n",
       "      <th>55029</th>\n",
       "      <td>76841</td>\n",
       "      <td>2023-06-09</td>\n",
       "      <td>BIOGEN INC</td>\n",
       "      <td>0.025965</td>\n",
       "      <td>NaN</td>\n",
       "      <td>-316.89999</td>\n",
       "    </tr>\n",
       "  </tbody>\n",
       "</table>\n",
       "</div>"
      ],
      "text/plain": [
       "       permno       date                 comnam       ret  openprc        prc\n",
       "23150   11786 2023-03-10  S V B FINANCIAL GROUP -0.628725      NaN  -39.37000\n",
       "55029   76841 2023-06-09             BIOGEN INC  0.025965      NaN -316.89999"
      ]
     },
     "execution_count": 602,
     "metadata": {},
     "output_type": "execute_result"
    }
   ],
   "source": [
    "# There are some companies without open price which caused negative prices.\n",
    "sp500_full_2023[sp500_full_2023.openprc.isna()]"
   ]
  },
  {
   "cell_type": "code",
   "execution_count": 603,
   "metadata": {},
   "outputs": [
    {
     "data": {
      "text/plain": [
       "0"
      ]
     },
     "execution_count": 603,
     "metadata": {},
     "output_type": "execute_result"
    }
   ],
   "source": [
    "# No dirty data for open price\n",
    "(sp500_full_2023.openprc <= 0).sum()"
   ]
  },
  {
   "cell_type": "code",
   "execution_count": 604,
   "metadata": {},
   "outputs": [
    {
     "data": {
      "text/html": [
       "<div>\n",
       "<style scoped>\n",
       "    .dataframe tbody tr th:only-of-type {\n",
       "        vertical-align: middle;\n",
       "    }\n",
       "\n",
       "    .dataframe tbody tr th {\n",
       "        vertical-align: top;\n",
       "    }\n",
       "\n",
       "    .dataframe thead th {\n",
       "        text-align: right;\n",
       "    }\n",
       "</style>\n",
       "<table border=\"1\" class=\"dataframe\">\n",
       "  <thead>\n",
       "    <tr style=\"text-align: right;\">\n",
       "      <th></th>\n",
       "      <th>permno</th>\n",
       "      <th>date</th>\n",
       "      <th>comnam</th>\n",
       "      <th>ret</th>\n",
       "      <th>openprc</th>\n",
       "      <th>prc</th>\n",
       "    </tr>\n",
       "  </thead>\n",
       "  <tbody>\n",
       "    <tr>\n",
       "      <th>828</th>\n",
       "      <td>23570</td>\n",
       "      <td>2023-01-04</td>\n",
       "      <td>G E HEALTHCARE TECHNOLOGIES INC</td>\n",
       "      <td>NaN</td>\n",
       "      <td>54.13</td>\n",
       "      <td>60.49000</td>\n",
       "    </tr>\n",
       "    <tr>\n",
       "      <th>23150</th>\n",
       "      <td>11786</td>\n",
       "      <td>2023-03-10</td>\n",
       "      <td>S V B FINANCIAL GROUP</td>\n",
       "      <td>-0.628725</td>\n",
       "      <td>NaN</td>\n",
       "      <td>-39.37000</td>\n",
       "    </tr>\n",
       "    <tr>\n",
       "      <th>55029</th>\n",
       "      <td>76841</td>\n",
       "      <td>2023-06-09</td>\n",
       "      <td>BIOGEN INC</td>\n",
       "      <td>0.025965</td>\n",
       "      <td>NaN</td>\n",
       "      <td>-316.89999</td>\n",
       "    </tr>\n",
       "    <tr>\n",
       "      <th>62527</th>\n",
       "      <td>23942</td>\n",
       "      <td>2023-07-03</td>\n",
       "      <td>FORTREA HOLDINGS INC</td>\n",
       "      <td>NaN</td>\n",
       "      <td>33.80</td>\n",
       "      <td>36.84000</td>\n",
       "    </tr>\n",
       "    <tr>\n",
       "      <th>63204</th>\n",
       "      <td>23944</td>\n",
       "      <td>2023-07-05</td>\n",
       "      <td>PHINIA INC</td>\n",
       "      <td>NaN</td>\n",
       "      <td>29.89</td>\n",
       "      <td>36.75000</td>\n",
       "    </tr>\n",
       "    <tr>\n",
       "      <th>94120</th>\n",
       "      <td>24174</td>\n",
       "      <td>2023-10-02</td>\n",
       "      <td>VERALTO CORP</td>\n",
       "      <td>NaN</td>\n",
       "      <td>83.11</td>\n",
       "      <td>85.12000</td>\n",
       "    </tr>\n",
       "    <tr>\n",
       "      <th>94163</th>\n",
       "      <td>24175</td>\n",
       "      <td>2023-10-02</td>\n",
       "      <td>W K KELLOGG CO</td>\n",
       "      <td>NaN</td>\n",
       "      <td>13.80</td>\n",
       "      <td>13.35000</td>\n",
       "    </tr>\n",
       "  </tbody>\n",
       "</table>\n",
       "</div>"
      ],
      "text/plain": [
       "       permno       date                           comnam       ret  openprc  \\\n",
       "828     23570 2023-01-04  G E HEALTHCARE TECHNOLOGIES INC       NaN    54.13   \n",
       "23150   11786 2023-03-10            S V B FINANCIAL GROUP -0.628725      NaN   \n",
       "55029   76841 2023-06-09                       BIOGEN INC  0.025965      NaN   \n",
       "62527   23942 2023-07-03             FORTREA HOLDINGS INC       NaN    33.80   \n",
       "63204   23944 2023-07-05                       PHINIA INC       NaN    29.89   \n",
       "94120   24174 2023-10-02                     VERALTO CORP       NaN    83.11   \n",
       "94163   24175 2023-10-02                   W K KELLOGG CO       NaN    13.80   \n",
       "\n",
       "             prc  \n",
       "828     60.49000  \n",
       "23150  -39.37000  \n",
       "55029 -316.89999  \n",
       "62527   36.84000  \n",
       "63204   36.75000  \n",
       "94120   85.12000  \n",
       "94163   13.35000  "
      ]
     },
     "execution_count": 604,
     "metadata": {},
     "output_type": "execute_result"
    }
   ],
   "source": [
    "# Nan values \n",
    "sp500_full_2023[sp500_full_2023.isna().sum(axis = 1) >0]"
   ]
  },
  {
   "cell_type": "code",
   "execution_count": 605,
   "metadata": {},
   "outputs": [
    {
     "data": {
      "text/plain": [
       "0"
      ]
     },
     "execution_count": 605,
     "metadata": {},
     "output_type": "execute_result"
    }
   ],
   "source": [
    "# There is no duplicated values \n",
    "sp500_full_2023.duplicated().sum()"
   ]
  },
  {
   "cell_type": "markdown",
   "metadata": {},
   "source": [
    "# Get opening-closing returns and closing-closing returns for SP500 constituents in 2023"
   ]
  },
  {
   "cell_type": "code",
   "execution_count": 606,
   "metadata": {},
   "outputs": [],
   "source": [
    "# get closing-open return\n",
    "sp500_full_2023[\"prc\"] = sp500_full_2023[\"prc\"].apply(abs)\n",
    "sp500_full_2023[\"CO_ret\"] = (sp500_full_2023['prc'] - sp500_full_2023['openprc'])/sp500_full_2023['openprc']"
   ]
  },
  {
   "cell_type": "markdown",
   "metadata": {},
   "source": [
    "# Link CRSP to RavenPack"
   ]
  },
  {
   "cell_type": "code",
   "execution_count": 607,
   "metadata": {},
   "outputs": [],
   "source": [
    "mapping_file_query = \"\"\" \n",
    "                    SELECT DISTINCT \n",
    "                    a.permno, b.rp_entity_id \n",
    "                    FROM (SELECT * FROM crsp.dse WHERE ncusip IS NOT NULL) as a,\n",
    "                    rpna.wrds_company_names as b\n",
    "                    WHERE a.ncusip=substr(b.isin,3,8)\n",
    "\"\"\"\n",
    "mapping_file = db.raw_sql(mapping_file_query)"
   ]
  },
  {
   "cell_type": "code",
   "execution_count": 608,
   "metadata": {},
   "outputs": [
    {
     "data": {
      "text/html": [
       "<div>\n",
       "<style scoped>\n",
       "    .dataframe tbody tr th:only-of-type {\n",
       "        vertical-align: middle;\n",
       "    }\n",
       "\n",
       "    .dataframe tbody tr th {\n",
       "        vertical-align: top;\n",
       "    }\n",
       "\n",
       "    .dataframe thead th {\n",
       "        text-align: right;\n",
       "    }\n",
       "</style>\n",
       "<table border=\"1\" class=\"dataframe\">\n",
       "  <thead>\n",
       "    <tr style=\"text-align: right;\">\n",
       "      <th></th>\n",
       "      <th>permno</th>\n",
       "      <th>rp_entity_id</th>\n",
       "    </tr>\n",
       "  </thead>\n",
       "  <tbody>\n",
       "    <tr>\n",
       "      <th>1581</th>\n",
       "      <td>10066</td>\n",
       "      <td>179A00</td>\n",
       "    </tr>\n",
       "    <tr>\n",
       "      <th>571</th>\n",
       "      <td>10066</td>\n",
       "      <td>2E83D7</td>\n",
       "    </tr>\n",
       "    <tr>\n",
       "      <th>10538</th>\n",
       "      <td>10082</td>\n",
       "      <td>686DB1</td>\n",
       "    </tr>\n",
       "    <tr>\n",
       "      <th>13893</th>\n",
       "      <td>10082</td>\n",
       "      <td>229150</td>\n",
       "    </tr>\n",
       "    <tr>\n",
       "      <th>11921</th>\n",
       "      <td>10560</td>\n",
       "      <td>C8C45A</td>\n",
       "    </tr>\n",
       "    <tr>\n",
       "      <th>...</th>\n",
       "      <td>...</td>\n",
       "      <td>...</td>\n",
       "    </tr>\n",
       "    <tr>\n",
       "      <th>11032</th>\n",
       "      <td>90722</td>\n",
       "      <td>D553E8</td>\n",
       "    </tr>\n",
       "    <tr>\n",
       "      <th>1319</th>\n",
       "      <td>92010</td>\n",
       "      <td>3E387A</td>\n",
       "    </tr>\n",
       "    <tr>\n",
       "      <th>1863</th>\n",
       "      <td>92010</td>\n",
       "      <td>133899</td>\n",
       "    </tr>\n",
       "    <tr>\n",
       "      <th>12498</th>\n",
       "      <td>92685</td>\n",
       "      <td>A1C951</td>\n",
       "    </tr>\n",
       "    <tr>\n",
       "      <th>3787</th>\n",
       "      <td>92685</td>\n",
       "      <td>9732A2</td>\n",
       "    </tr>\n",
       "  </tbody>\n",
       "</table>\n",
       "<p>162 rows × 2 columns</p>\n",
       "</div>"
      ],
      "text/plain": [
       "       permno rp_entity_id\n",
       "1581    10066       179A00\n",
       "571     10066       2E83D7\n",
       "10538   10082       686DB1\n",
       "13893   10082       229150\n",
       "11921   10560       C8C45A\n",
       "...       ...          ...\n",
       "11032   90722       D553E8\n",
       "1319    92010       3E387A\n",
       "1863    92010       133899\n",
       "12498   92685       A1C951\n",
       "3787    92685       9732A2\n",
       "\n",
       "[162 rows x 2 columns]"
      ]
     },
     "execution_count": 608,
     "metadata": {},
     "output_type": "execute_result"
    }
   ],
   "source": [
    "# There are companies mapped to more than one entity_id\n",
    "mapping_file.groupby(\"permno\").filter(lambda sub:sub.shape[0]>1).sort_values(\"permno\")"
   ]
  },
  {
   "cell_type": "code",
   "execution_count": 609,
   "metadata": {},
   "outputs": [],
   "source": [
    "# All RP's headlines in 2023 \n",
    "RP_2023_query = \"\"\"SELECT rpa_date_utc,timestamp_utc,rp_entity_id,entity_name,headline\n",
    "                FROM rpna.rpa_djpr_equities_2023\n",
    "            \"\"\"\n",
    "RP_2023 = db.raw_sql(RP_2023_query)"
   ]
  },
  {
   "cell_type": "code",
   "execution_count": 610,
   "metadata": {},
   "outputs": [],
   "source": [
    "# Remove those entity_ids which don't exist in RP\n",
    "mapping_file = mapping_file[mapping_file.rp_entity_id.isin(RP_2023.rp_entity_id.unique())]"
   ]
  },
  {
   "cell_type": "code",
   "execution_count": 611,
   "metadata": {},
   "outputs": [],
   "source": [
    "# Drop those companies which don't exist in RP\n",
    "sp500_2023_RPid = sp500_full_2023.merge(mapping_file, on = \"permno\", how = \"inner\")"
   ]
  },
  {
   "cell_type": "code",
   "execution_count": 615,
   "metadata": {},
   "outputs": [
    {
     "data": {
      "text/plain": [
       "True"
      ]
     },
     "execution_count": 615,
     "metadata": {},
     "output_type": "execute_result"
    }
   ],
   "source": [
    "len(sp500_2023_RPid.permno.unique()) < len(sp500_full_2023.permno.unique())"
   ]
  },
  {
   "cell_type": "code",
   "execution_count": 612,
   "metadata": {},
   "outputs": [
    {
     "data": {
      "text/html": [
       "<div>\n",
       "<style scoped>\n",
       "    .dataframe tbody tr th:only-of-type {\n",
       "        vertical-align: middle;\n",
       "    }\n",
       "\n",
       "    .dataframe tbody tr th {\n",
       "        vertical-align: top;\n",
       "    }\n",
       "\n",
       "    .dataframe thead th {\n",
       "        text-align: right;\n",
       "    }\n",
       "</style>\n",
       "<table border=\"1\" class=\"dataframe\">\n",
       "  <thead>\n",
       "    <tr style=\"text-align: right;\">\n",
       "      <th></th>\n",
       "      <th>permno</th>\n",
       "      <th>date</th>\n",
       "      <th>comnam</th>\n",
       "      <th>ret</th>\n",
       "      <th>openprc</th>\n",
       "      <th>prc</th>\n",
       "      <th>CO_ret</th>\n",
       "      <th>rp_entity_id</th>\n",
       "    </tr>\n",
       "  </thead>\n",
       "  <tbody>\n",
       "  </tbody>\n",
       "</table>\n",
       "</div>"
      ],
      "text/plain": [
       "Empty DataFrame\n",
       "Columns: [permno, date, comnam, ret, openprc, prc, CO_ret, rp_entity_id]\n",
       "Index: []"
      ]
     },
     "execution_count": 612,
     "metadata": {},
     "output_type": "execute_result"
    }
   ],
   "source": [
    "# No permno is redundantly mapped\n",
    "sp500_2023_RPid.groupby(\"permno\").filter(lambda sub:len(sub.rp_entity_id.unique())>1)"
   ]
  },
  {
   "cell_type": "code",
   "execution_count": 613,
   "metadata": {},
   "outputs": [
    {
     "name": "stdout",
     "output_type": "stream",
     "text": [
      "0\n",
      "0\n"
     ]
    }
   ],
   "source": [
    "print(sp500_2023_RPid[[\"permno\",\"date\",\"comnam\",\"rp_entity_id\"]].isna().sum().sum())\n",
    "print(sp500_2023_RPid.duplicated().sum())"
   ]
  },
  {
   "cell_type": "markdown",
   "metadata": {},
   "source": [
    "# Link headlines based on contemporaneous returns"
   ]
  },
  {
   "cell_type": "code",
   "execution_count": 619,
   "metadata": {},
   "outputs": [],
   "source": [
    "sp500_2023_RPid_backup = sp500_2023_RPid.copy()\n",
    "RP_2023_backup = RP_2023.copy()"
   ]
  },
  {
   "cell_type": "code",
   "execution_count": 623,
   "metadata": {},
   "outputs": [],
   "source": [
    "# Drop duplicates in consecutive days\n",
    "RP_2023 = RP_2023.drop_duplicates((\"rp_entity_id\",\"headline\"))"
   ]
  },
  {
   "cell_type": "code",
   "execution_count": 625,
   "metadata": {},
   "outputs": [],
   "source": [
    "# Drop those non-sp500 constituents' headlines\n",
    "RP_2023 = RP_2023[RP_2023.rp_entity_id.isin(sp500_2023_RPid.rp_entity_id.unique())]"
   ]
  },
  {
   "cell_type": "code",
   "execution_count": 627,
   "metadata": {},
   "outputs": [],
   "source": [
    "RP_2023.set_index(\"timestamp_utc\",inplace= True)\n",
    "RP_2023[\"timestamp_NY\"] = pd.to_datetime(RP_2023.index).tz_localize(\"UTC\").tz_convert(\"America/New_York\")"
   ]
  },
  {
   "cell_type": "code",
   "execution_count": 628,
   "metadata": {},
   "outputs": [],
   "source": [
    "nyse = mcal.get_calendar(\"NYSE\")\n",
    "nyse_trading_2023 = nyse.valid_days(start_date=\"2022-12-31\",end_date=\"2023-12-31\").tz_localize(None).tz_localize(\"America/New_York\")"
   ]
  },
  {
   "cell_type": "code",
   "execution_count": 629,
   "metadata": {},
   "outputs": [],
   "source": [
    "nyse_trading_2023_closing = nyse_trading_2023 + dt.timedelta(hours = 16)"
   ]
  },
  {
   "cell_type": "code",
   "execution_count": 630,
   "metadata": {},
   "outputs": [],
   "source": [
    "def contem_ret_date(timestamp):\n",
    "    later_time = nyse_trading_2023_closing[nyse_trading_2023_closing >= timestamp]\n",
    "    return later_time[0].date() if not later_time.empty else None"
   ]
  },
  {
   "cell_type": "code",
   "execution_count": 631,
   "metadata": {},
   "outputs": [],
   "source": [
    "RP_2023['contem_ret_date'] = RP_2023[\"timestamp_NY\"].apply(contem_ret_date)"
   ]
  },
  {
   "cell_type": "code",
   "execution_count": 632,
   "metadata": {},
   "outputs": [],
   "source": [
    "RP_2023.reset_index(inplace = True)\n",
    "RP_2023_contem_ret = RP_2023[[\"contem_ret_date\",\"rp_entity_id\",\"headline\"]]\n",
    "RP_2023_contem_ret = RP_2023_contem_ret.dropna()\n",
    "sp500_2023_RPid_contem_ret = sp500_2023_RPid[[\"date\",\"rp_entity_id\",\"comnam\",\"ret\"]]\n",
    "RP_2023_contem_ret.contem_ret_date = pd.to_datetime(RP_2023_contem_ret.contem_ret_date)\n",
    "SP500_RP_contem_ret_2023 = pd.merge(sp500_2023_RPid_contem_ret,RP_2023_contem_ret,left_on=[\"date\",\"rp_entity_id\"],\\\n",
    "                                    right_on=[\"contem_ret_date\",\"rp_entity_id\"],how = \"inner\").drop(columns = \"contem_ret_date\")"
   ]
  },
  {
   "cell_type": "code",
   "execution_count": 633,
   "metadata": {},
   "outputs": [
    {
     "data": {
      "text/html": [
       "<div>\n",
       "<style scoped>\n",
       "    .dataframe tbody tr th:only-of-type {\n",
       "        vertical-align: middle;\n",
       "    }\n",
       "\n",
       "    .dataframe tbody tr th {\n",
       "        vertical-align: top;\n",
       "    }\n",
       "\n",
       "    .dataframe thead th {\n",
       "        text-align: right;\n",
       "    }\n",
       "</style>\n",
       "<table border=\"1\" class=\"dataframe\">\n",
       "  <thead>\n",
       "    <tr style=\"text-align: right;\">\n",
       "      <th></th>\n",
       "      <th>date</th>\n",
       "      <th>rp_entity_id</th>\n",
       "      <th>comnam</th>\n",
       "      <th>ret</th>\n",
       "      <th>headline</th>\n",
       "    </tr>\n",
       "  </thead>\n",
       "  <tbody>\n",
       "    <tr>\n",
       "      <th>0</th>\n",
       "      <td>2023-01-03</td>\n",
       "      <td>BDD12C</td>\n",
       "      <td>WHIRLPOOL CORP</td>\n",
       "      <td>0.016047</td>\n",
       "      <td>Daikin Acquires Williams Distributing, a Distr...</td>\n",
       "    </tr>\n",
       "    <tr>\n",
       "      <th>1</th>\n",
       "      <td>2023-01-03</td>\n",
       "      <td>652E62</td>\n",
       "      <td>P G &amp; E CORP</td>\n",
       "      <td>-0.035670</td>\n",
       "      <td>PG&amp;E Cut to Neutral From Buy by Jefferies</td>\n",
       "    </tr>\n",
       "    <tr>\n",
       "      <th>2</th>\n",
       "      <td>2023-01-03</td>\n",
       "      <td>652E62</td>\n",
       "      <td>P G &amp; E CORP</td>\n",
       "      <td>-0.035670</td>\n",
       "      <td>PG&amp;E Price Target Announced at $17.00/Share by...</td>\n",
       "    </tr>\n",
       "    <tr>\n",
       "      <th>3</th>\n",
       "      <td>2023-01-03</td>\n",
       "      <td>652E62</td>\n",
       "      <td>P G &amp; E CORP</td>\n",
       "      <td>-0.035670</td>\n",
       "      <td>MW PG&amp;E downgraded to neutral from buy at UBS</td>\n",
       "    </tr>\n",
       "    <tr>\n",
       "      <th>4</th>\n",
       "      <td>2023-01-03</td>\n",
       "      <td>652E62</td>\n",
       "      <td>P G &amp; E CORP</td>\n",
       "      <td>-0.035670</td>\n",
       "      <td>Correction to PG&amp;E Ratings Headlines</td>\n",
       "    </tr>\n",
       "  </tbody>\n",
       "</table>\n",
       "</div>"
      ],
      "text/plain": [
       "        date rp_entity_id          comnam       ret  \\\n",
       "0 2023-01-03       BDD12C  WHIRLPOOL CORP  0.016047   \n",
       "1 2023-01-03       652E62    P G & E CORP -0.035670   \n",
       "2 2023-01-03       652E62    P G & E CORP -0.035670   \n",
       "3 2023-01-03       652E62    P G & E CORP -0.035670   \n",
       "4 2023-01-03       652E62    P G & E CORP -0.035670   \n",
       "\n",
       "                                            headline  \n",
       "0  Daikin Acquires Williams Distributing, a Distr...  \n",
       "1          PG&E Cut to Neutral From Buy by Jefferies  \n",
       "2  PG&E Price Target Announced at $17.00/Share by...  \n",
       "3      MW PG&E downgraded to neutral from buy at UBS  \n",
       "4               Correction to PG&E Ratings Headlines  "
      ]
     },
     "execution_count": 633,
     "metadata": {},
     "output_type": "execute_result"
    }
   ],
   "source": [
    "SP500_RP_contem_ret_2023.head()"
   ]
  },
  {
   "cell_type": "code",
   "execution_count": 634,
   "metadata": {},
   "outputs": [
    {
     "data": {
      "text/plain": [
       "0"
      ]
     },
     "execution_count": 634,
     "metadata": {},
     "output_type": "execute_result"
    }
   ],
   "source": [
    "SP500_RP_contem_ret_2023.duplicated().sum()\n",
    "SP500_RP_contem_ret_2023.isna().sum().sum()"
   ]
  },
  {
   "cell_type": "markdown",
   "metadata": {},
   "source": [
    "# Link headlines based on future returns"
   ]
  },
  {
   "cell_type": "code",
   "execution_count": 640,
   "metadata": {},
   "outputs": [],
   "source": [
    "nyse_trading_2023_opening = nyse_trading_2023 + dt.timedelta(hours = 9)\n",
    "# 1 stands for CO_ret\n",
    "def future_ret_date(timestamp):\n",
    "    later_opening = nyse_trading_2023_opening[nyse_trading_2023_opening>=timestamp]\n",
    "    later_closing = nyse_trading_2023_closing[nyse_trading_2023_closing>=timestamp]\n",
    "    if (not later_opening.empty) & (not later_closing.empty):\n",
    "        next_opening = later_opening[0]\n",
    "        next_closing = later_closing[0]\n",
    "        if next_opening.date() == next_closing.date():\n",
    "            return [next_opening.date(),1]\n",
    "        else: \n",
    "            return [next_opening.date(),0]\n",
    "    else:\n",
    "        return [None,None]"
   ]
  },
  {
   "cell_type": "code",
   "execution_count": 651,
   "metadata": {},
   "outputs": [],
   "source": [
    "RP_2023_future_ret_date = RP_2023.apply(lambda row:future_ret_date(row['timestamp_NY']),axis = 1, result_type=\"expand\")"
   ]
  },
  {
   "cell_type": "code",
   "execution_count": 658,
   "metadata": {},
   "outputs": [],
   "source": [
    "RP_2023_future_ret_date = RP_2023_future_ret_date.rename(columns = {0:\"future_ret_date\",1:\"bool_CO_ret\"}) \n",
    "RP_2023 = pd.concat([RP_2023,RP_2023_future_ret_date],axis = 1)"
   ]
  },
  {
   "cell_type": "markdown",
   "metadata": {},
   "source": [
    "**Duplicate's problem**"
   ]
  },
  {
   "cell_type": "code",
   "execution_count": 737,
   "metadata": {},
   "outputs": [
    {
     "data": {
      "text/html": [
       "<div>\n",
       "<style scoped>\n",
       "    .dataframe tbody tr th:only-of-type {\n",
       "        vertical-align: middle;\n",
       "    }\n",
       "\n",
       "    .dataframe tbody tr th {\n",
       "        vertical-align: top;\n",
       "    }\n",
       "\n",
       "    .dataframe thead th {\n",
       "        text-align: right;\n",
       "    }\n",
       "</style>\n",
       "<table border=\"1\" class=\"dataframe\">\n",
       "  <thead>\n",
       "    <tr style=\"text-align: right;\">\n",
       "      <th></th>\n",
       "      <th>permno</th>\n",
       "      <th>date</th>\n",
       "      <th>comnam</th>\n",
       "      <th>ret</th>\n",
       "      <th>openprc</th>\n",
       "      <th>prc</th>\n",
       "      <th>CO_ret</th>\n",
       "      <th>rp_entity_id</th>\n",
       "    </tr>\n",
       "  </thead>\n",
       "  <tbody>\n",
       "    <tr>\n",
       "      <th>0</th>\n",
       "      <td>25419</td>\n",
       "      <td>2023-01-03</td>\n",
       "      <td>WHIRLPOOL CORP</td>\n",
       "      <td>0.016047</td>\n",
       "      <td>144.12000</td>\n",
       "      <td>143.73</td>\n",
       "      <td>-0.002706</td>\n",
       "      <td>BDD12C</td>\n",
       "    </tr>\n",
       "    <tr>\n",
       "      <th>1</th>\n",
       "      <td>13688</td>\n",
       "      <td>2023-01-03</td>\n",
       "      <td>P G &amp; E CORP</td>\n",
       "      <td>-0.035670</td>\n",
       "      <td>15.99000</td>\n",
       "      <td>15.68</td>\n",
       "      <td>-0.019387</td>\n",
       "      <td>652E62</td>\n",
       "    </tr>\n",
       "    <tr>\n",
       "      <th>2</th>\n",
       "      <td>92402</td>\n",
       "      <td>2023-01-03</td>\n",
       "      <td>M S C I INC</td>\n",
       "      <td>-0.008621</td>\n",
       "      <td>469.57001</td>\n",
       "      <td>461.16</td>\n",
       "      <td>-0.017910</td>\n",
       "      <td>3ED92D</td>\n",
       "    </tr>\n",
       "    <tr>\n",
       "      <th>3</th>\n",
       "      <td>63467</td>\n",
       "      <td>2023-01-03</td>\n",
       "      <td>BROWN &amp; BROWN INC</td>\n",
       "      <td>-0.005617</td>\n",
       "      <td>57.06000</td>\n",
       "      <td>56.65</td>\n",
       "      <td>-0.007185</td>\n",
       "      <td>C598D7</td>\n",
       "    </tr>\n",
       "    <tr>\n",
       "      <th>4</th>\n",
       "      <td>81736</td>\n",
       "      <td>2023-01-03</td>\n",
       "      <td>RESMED INC</td>\n",
       "      <td>0.004709</td>\n",
       "      <td>210.07001</td>\n",
       "      <td>209.11</td>\n",
       "      <td>-0.004570</td>\n",
       "      <td>434F38</td>\n",
       "    </tr>\n",
       "  </tbody>\n",
       "</table>\n",
       "</div>"
      ],
      "text/plain": [
       "   permno       date             comnam       ret    openprc     prc  \\\n",
       "0   25419 2023-01-03     WHIRLPOOL CORP  0.016047  144.12000  143.73   \n",
       "1   13688 2023-01-03       P G & E CORP -0.035670   15.99000   15.68   \n",
       "2   92402 2023-01-03        M S C I INC -0.008621  469.57001  461.16   \n",
       "3   63467 2023-01-03  BROWN & BROWN INC -0.005617   57.06000   56.65   \n",
       "4   81736 2023-01-03         RESMED INC  0.004709  210.07001  209.11   \n",
       "\n",
       "     CO_ret rp_entity_id  \n",
       "0 -0.002706       BDD12C  \n",
       "1 -0.019387       652E62  \n",
       "2 -0.017910       3ED92D  \n",
       "3 -0.007185       C598D7  \n",
       "4 -0.004570       434F38  "
      ]
     },
     "execution_count": 737,
     "metadata": {},
     "output_type": "execute_result"
    }
   ],
   "source": [
    "sp500_2023_RPid.head()"
   ]
  },
  {
   "cell_type": "code",
   "execution_count": 738,
   "metadata": {},
   "outputs": [
    {
     "data": {
      "text/html": [
       "<div>\n",
       "<style scoped>\n",
       "    .dataframe tbody tr th:only-of-type {\n",
       "        vertical-align: middle;\n",
       "    }\n",
       "\n",
       "    .dataframe tbody tr th {\n",
       "        vertical-align: top;\n",
       "    }\n",
       "\n",
       "    .dataframe thead th {\n",
       "        text-align: right;\n",
       "    }\n",
       "</style>\n",
       "<table border=\"1\" class=\"dataframe\">\n",
       "  <thead>\n",
       "    <tr style=\"text-align: right;\">\n",
       "      <th></th>\n",
       "      <th>permno</th>\n",
       "      <th>date</th>\n",
       "      <th>comnam</th>\n",
       "      <th>ret</th>\n",
       "      <th>openprc</th>\n",
       "      <th>prc</th>\n",
       "      <th>CO_ret</th>\n",
       "      <th>rp_entity_id</th>\n",
       "    </tr>\n",
       "  </thead>\n",
       "  <tbody>\n",
       "  </tbody>\n",
       "</table>\n",
       "</div>"
      ],
      "text/plain": [
       "Empty DataFrame\n",
       "Columns: [permno, date, comnam, ret, openprc, prc, CO_ret, rp_entity_id]\n",
       "Index: []"
      ]
     },
     "execution_count": 738,
     "metadata": {},
     "output_type": "execute_result"
    }
   ],
   "source": [
    "sp500_2023_RPid.groupby(\"permno\").filter(lambda sub:len(sub.rp_entity_id.unique()) > 1)"
   ]
  },
  {
   "cell_type": "code",
   "execution_count": 735,
   "metadata": {},
   "outputs": [
    {
     "data": {
      "text/html": [
       "<div>\n",
       "<style scoped>\n",
       "    .dataframe tbody tr th:only-of-type {\n",
       "        vertical-align: middle;\n",
       "    }\n",
       "\n",
       "    .dataframe tbody tr th {\n",
       "        vertical-align: top;\n",
       "    }\n",
       "\n",
       "    .dataframe thead th {\n",
       "        text-align: right;\n",
       "    }\n",
       "</style>\n",
       "<table border=\"1\" class=\"dataframe\">\n",
       "  <thead>\n",
       "    <tr style=\"text-align: right;\">\n",
       "      <th></th>\n",
       "      <th>timestamp_utc</th>\n",
       "      <th>rpa_date_utc</th>\n",
       "      <th>rp_entity_id</th>\n",
       "      <th>entity_name</th>\n",
       "      <th>headline</th>\n",
       "      <th>timestamp_NY</th>\n",
       "      <th>contem_ret_date</th>\n",
       "      <th>future_ret_date</th>\n",
       "      <th>bool_CO_ret</th>\n",
       "    </tr>\n",
       "  </thead>\n",
       "  <tbody>\n",
       "    <tr>\n",
       "      <th>0</th>\n",
       "      <td>2023-01-01 02:00:05.447</td>\n",
       "      <td>2023-01-01</td>\n",
       "      <td>0157B1</td>\n",
       "      <td>Amazon.com Inc.</td>\n",
       "      <td>New Film Release: Cryptid Horror Movie Brings ...</td>\n",
       "      <td>2022-12-31 21:00:05.447000-05:00</td>\n",
       "      <td>2023-01-03</td>\n",
       "      <td>2023-01-03</td>\n",
       "      <td>1.0</td>\n",
       "    </tr>\n",
       "    <tr>\n",
       "      <th>1</th>\n",
       "      <td>2023-01-01 07:00:11.264</td>\n",
       "      <td>2023-01-01</td>\n",
       "      <td>0157B1</td>\n",
       "      <td>Amazon.com Inc.</td>\n",
       "      <td>The Craziest Moments From the Longest Tech Boo...</td>\n",
       "      <td>2023-01-01 02:00:11.264000-05:00</td>\n",
       "      <td>2023-01-03</td>\n",
       "      <td>2023-01-03</td>\n",
       "      <td>1.0</td>\n",
       "    </tr>\n",
       "    <tr>\n",
       "      <th>2</th>\n",
       "      <td>2023-01-01 07:00:11.275</td>\n",
       "      <td>2023-01-01</td>\n",
       "      <td>0157B1</td>\n",
       "      <td>Amazon.com Inc.</td>\n",
       "      <td>The Craziest Moments From the Longest Tech Boo...</td>\n",
       "      <td>2023-01-01 02:00:11.275000-05:00</td>\n",
       "      <td>2023-01-03</td>\n",
       "      <td>2023-01-03</td>\n",
       "      <td>1.0</td>\n",
       "    </tr>\n",
       "    <tr>\n",
       "      <th>3</th>\n",
       "      <td>2023-01-01 10:30:00.085</td>\n",
       "      <td>2023-01-01</td>\n",
       "      <td>0157B1</td>\n",
       "      <td>Amazon.com Inc.</td>\n",
       "      <td>The Year Big Tech Stocks Fell From Glory -- WSJ</td>\n",
       "      <td>2023-01-01 05:30:00.085000-05:00</td>\n",
       "      <td>2023-01-03</td>\n",
       "      <td>2023-01-03</td>\n",
       "      <td>1.0</td>\n",
       "    </tr>\n",
       "    <tr>\n",
       "      <th>4</th>\n",
       "      <td>2023-01-01 13:00:00.055</td>\n",
       "      <td>2023-01-01</td>\n",
       "      <td>0157B1</td>\n",
       "      <td>Amazon.com Inc.</td>\n",
       "      <td>Robust Job and Wage Growth Showed Signs of Coo...</td>\n",
       "      <td>2023-01-01 08:00:00.055000-05:00</td>\n",
       "      <td>2023-01-03</td>\n",
       "      <td>2023-01-03</td>\n",
       "      <td>1.0</td>\n",
       "    </tr>\n",
       "  </tbody>\n",
       "</table>\n",
       "</div>"
      ],
      "text/plain": [
       "            timestamp_utc rpa_date_utc rp_entity_id      entity_name  \\\n",
       "0 2023-01-01 02:00:05.447   2023-01-01       0157B1  Amazon.com Inc.   \n",
       "1 2023-01-01 07:00:11.264   2023-01-01       0157B1  Amazon.com Inc.   \n",
       "2 2023-01-01 07:00:11.275   2023-01-01       0157B1  Amazon.com Inc.   \n",
       "3 2023-01-01 10:30:00.085   2023-01-01       0157B1  Amazon.com Inc.   \n",
       "4 2023-01-01 13:00:00.055   2023-01-01       0157B1  Amazon.com Inc.   \n",
       "\n",
       "                                            headline  \\\n",
       "0  New Film Release: Cryptid Horror Movie Brings ...   \n",
       "1  The Craziest Moments From the Longest Tech Boo...   \n",
       "2  The Craziest Moments From the Longest Tech Boo...   \n",
       "3    The Year Big Tech Stocks Fell From Glory -- WSJ   \n",
       "4  Robust Job and Wage Growth Showed Signs of Coo...   \n",
       "\n",
       "                      timestamp_NY contem_ret_date future_ret_date  \\\n",
       "0 2022-12-31 21:00:05.447000-05:00      2023-01-03      2023-01-03   \n",
       "1 2023-01-01 02:00:11.264000-05:00      2023-01-03      2023-01-03   \n",
       "2 2023-01-01 02:00:11.275000-05:00      2023-01-03      2023-01-03   \n",
       "3 2023-01-01 05:30:00.085000-05:00      2023-01-03      2023-01-03   \n",
       "4 2023-01-01 08:00:00.055000-05:00      2023-01-03      2023-01-03   \n",
       "\n",
       "   bool_CO_ret  \n",
       "0          1.0  \n",
       "1          1.0  \n",
       "2          1.0  \n",
       "3          1.0  \n",
       "4          1.0  "
      ]
     },
     "execution_count": 735,
     "metadata": {},
     "output_type": "execute_result"
    }
   ],
   "source": [
    "RP_2023.head()"
   ]
  },
  {
   "cell_type": "code",
   "execution_count": 736,
   "metadata": {},
   "outputs": [
    {
     "data": {
      "text/plain": [
       "0"
      ]
     },
     "execution_count": 736,
     "metadata": {},
     "output_type": "execute_result"
    }
   ],
   "source": [
    "RP_2023.duplicated((\"rp_entity_id\",\"headline\")).sum()"
   ]
  },
  {
   "cell_type": "code",
   "execution_count": 746,
   "metadata": {},
   "outputs": [],
   "source": [
    "RP_2023.future_ret_date = pd.to_datetime(RP_2023.future_ret_date)\n",
    "SP500_RP_future_ret_2023 = sp500_2023_RPid.merge(RP_2023,left_on=[\"date\",\"rp_entity_id\"],right_on = [\"future_ret_date\",\"rp_entity_id\"],how = \"inner\")\n",
    "SP500_RP_future_ret_2023 = SP500_RP_future_ret_2023[[\"date\",\"rp_entity_id\",\"comnam\",\"CO_ret\",\"ret\",\"headline\",\"bool_CO_ret\"]]"
   ]
  },
  {
   "cell_type": "code",
   "execution_count": 747,
   "metadata": {},
   "outputs": [
    {
     "data": {
      "text/html": [
       "<div>\n",
       "<style scoped>\n",
       "    .dataframe tbody tr th:only-of-type {\n",
       "        vertical-align: middle;\n",
       "    }\n",
       "\n",
       "    .dataframe tbody tr th {\n",
       "        vertical-align: top;\n",
       "    }\n",
       "\n",
       "    .dataframe thead th {\n",
       "        text-align: right;\n",
       "    }\n",
       "</style>\n",
       "<table border=\"1\" class=\"dataframe\">\n",
       "  <thead>\n",
       "    <tr style=\"text-align: right;\">\n",
       "      <th></th>\n",
       "      <th>date</th>\n",
       "      <th>rp_entity_id</th>\n",
       "      <th>comnam</th>\n",
       "      <th>CO_ret</th>\n",
       "      <th>ret</th>\n",
       "      <th>headline</th>\n",
       "      <th>bool_CO_ret</th>\n",
       "    </tr>\n",
       "  </thead>\n",
       "  <tbody>\n",
       "    <tr>\n",
       "      <th>0</th>\n",
       "      <td>2023-01-03</td>\n",
       "      <td>652E62</td>\n",
       "      <td>P G &amp; E CORP</td>\n",
       "      <td>-0.019387</td>\n",
       "      <td>-0.035670</td>\n",
       "      <td>PG&amp;E Cut to Neutral From Buy by Jefferies</td>\n",
       "      <td>1.0</td>\n",
       "    </tr>\n",
       "    <tr>\n",
       "      <th>1</th>\n",
       "      <td>2023-01-03</td>\n",
       "      <td>652E62</td>\n",
       "      <td>P G &amp; E CORP</td>\n",
       "      <td>-0.019387</td>\n",
       "      <td>-0.035670</td>\n",
       "      <td>PG&amp;E Price Target Announced at $17.00/Share by...</td>\n",
       "      <td>1.0</td>\n",
       "    </tr>\n",
       "    <tr>\n",
       "      <th>2</th>\n",
       "      <td>2023-01-03</td>\n",
       "      <td>434F38</td>\n",
       "      <td>RESMED INC</td>\n",
       "      <td>-0.004570</td>\n",
       "      <td>0.004709</td>\n",
       "      <td>ResMed Announces Participation in the 41st Ann...</td>\n",
       "      <td>1.0</td>\n",
       "    </tr>\n",
       "    <tr>\n",
       "      <th>3</th>\n",
       "      <td>2023-01-03</td>\n",
       "      <td>434F38</td>\n",
       "      <td>RESMED INC</td>\n",
       "      <td>-0.004570</td>\n",
       "      <td>0.004709</td>\n",
       "      <td>Sydney Closing Stock Prices -2-</td>\n",
       "      <td>1.0</td>\n",
       "    </tr>\n",
       "    <tr>\n",
       "      <th>4</th>\n",
       "      <td>2023-01-03</td>\n",
       "      <td>434F38</td>\n",
       "      <td>RESMED INC</td>\n",
       "      <td>-0.004570</td>\n",
       "      <td>0.004709</td>\n",
       "      <td>Press Release: ResMed Announces Participation ...</td>\n",
       "      <td>1.0</td>\n",
       "    </tr>\n",
       "  </tbody>\n",
       "</table>\n",
       "</div>"
      ],
      "text/plain": [
       "        date rp_entity_id        comnam    CO_ret       ret  \\\n",
       "0 2023-01-03       652E62  P G & E CORP -0.019387 -0.035670   \n",
       "1 2023-01-03       652E62  P G & E CORP -0.019387 -0.035670   \n",
       "2 2023-01-03       434F38    RESMED INC -0.004570  0.004709   \n",
       "3 2023-01-03       434F38    RESMED INC -0.004570  0.004709   \n",
       "4 2023-01-03       434F38    RESMED INC -0.004570  0.004709   \n",
       "\n",
       "                                            headline  bool_CO_ret  \n",
       "0          PG&E Cut to Neutral From Buy by Jefferies          1.0  \n",
       "1  PG&E Price Target Announced at $17.00/Share by...          1.0  \n",
       "2  ResMed Announces Participation in the 41st Ann...          1.0  \n",
       "3                    Sydney Closing Stock Prices -2-          1.0  \n",
       "4  Press Release: ResMed Announces Participation ...          1.0  "
      ]
     },
     "execution_count": 747,
     "metadata": {},
     "output_type": "execute_result"
    }
   ],
   "source": [
    "SP500_RP_future_ret_2023.head()"
   ]
  },
  {
   "cell_type": "code",
   "execution_count": 748,
   "metadata": {},
   "outputs": [
    {
     "data": {
      "text/plain": [
       "62584"
      ]
     },
     "execution_count": 748,
     "metadata": {},
     "output_type": "execute_result"
    }
   ],
   "source": [
    "# Where do these duplicates come from\n",
    "SP500_RP_future_ret_2023.duplicated([\"rp_entity_id\",\"headline\"]).sum()"
   ]
  },
  {
   "cell_type": "code",
   "execution_count": 749,
   "metadata": {},
   "outputs": [
    {
     "data": {
      "text/html": [
       "<div>\n",
       "<style scoped>\n",
       "    .dataframe tbody tr th:only-of-type {\n",
       "        vertical-align: middle;\n",
       "    }\n",
       "\n",
       "    .dataframe tbody tr th {\n",
       "        vertical-align: top;\n",
       "    }\n",
       "\n",
       "    .dataframe thead th {\n",
       "        text-align: right;\n",
       "    }\n",
       "</style>\n",
       "<table border=\"1\" class=\"dataframe\">\n",
       "  <thead>\n",
       "    <tr style=\"text-align: right;\">\n",
       "      <th></th>\n",
       "      <th>date</th>\n",
       "      <th>rp_entity_id</th>\n",
       "      <th>comnam</th>\n",
       "      <th>CO_ret</th>\n",
       "      <th>ret</th>\n",
       "      <th>headline</th>\n",
       "      <th>bool_CO_ret</th>\n",
       "    </tr>\n",
       "  </thead>\n",
       "  <tbody>\n",
       "    <tr>\n",
       "      <th>1383</th>\n",
       "      <td>2023-01-03</td>\n",
       "      <td>4A6F00</td>\n",
       "      <td>ALPHABET INC</td>\n",
       "      <td>-0.005191</td>\n",
       "      <td>0.010087</td>\n",
       "      <td>MW 'Our social skills are like any other muscl...</td>\n",
       "      <td>1.0</td>\n",
       "    </tr>\n",
       "    <tr>\n",
       "      <th>1384</th>\n",
       "      <td>2023-01-03</td>\n",
       "      <td>4A6F00</td>\n",
       "      <td>ALPHABET INC</td>\n",
       "      <td>-0.005191</td>\n",
       "      <td>0.010087</td>\n",
       "      <td>New Film Release: Cryptid Horror Movie Brings ...</td>\n",
       "      <td>1.0</td>\n",
       "    </tr>\n",
       "    <tr>\n",
       "      <th>1385</th>\n",
       "      <td>2023-01-03</td>\n",
       "      <td>4A6F00</td>\n",
       "      <td>ALPHABET INC</td>\n",
       "      <td>-0.005191</td>\n",
       "      <td>0.010087</td>\n",
       "      <td>Astounding 2023 New Year's Resolution: Longtim...</td>\n",
       "      <td>1.0</td>\n",
       "    </tr>\n",
       "    <tr>\n",
       "      <th>1386</th>\n",
       "      <td>2023-01-03</td>\n",
       "      <td>4A6F00</td>\n",
       "      <td>ALPHABET INC</td>\n",
       "      <td>-0.005191</td>\n",
       "      <td>0.010087</td>\n",
       "      <td>Credefi Scores Major Milestone in Partnership ...</td>\n",
       "      <td>1.0</td>\n",
       "    </tr>\n",
       "    <tr>\n",
       "      <th>1387</th>\n",
       "      <td>2023-01-03</td>\n",
       "      <td>4A6F00</td>\n",
       "      <td>ALPHABET INC</td>\n",
       "      <td>-0.005191</td>\n",
       "      <td>0.010087</td>\n",
       "      <td>Press Release: Credefi Scores Major Milestone ...</td>\n",
       "      <td>1.0</td>\n",
       "    </tr>\n",
       "    <tr>\n",
       "      <th>...</th>\n",
       "      <td>...</td>\n",
       "      <td>...</td>\n",
       "      <td>...</td>\n",
       "      <td>...</td>\n",
       "      <td>...</td>\n",
       "      <td>...</td>\n",
       "      <td>...</td>\n",
       "    </tr>\n",
       "    <tr>\n",
       "      <th>1745616</th>\n",
       "      <td>2023-12-29</td>\n",
       "      <td>4A6F00</td>\n",
       "      <td>ALPHABET INC</td>\n",
       "      <td>0.001777</td>\n",
       "      <td>-0.002477</td>\n",
       "      <td>Gen AI Hype Grips Telecom Industry as Telcos U...</td>\n",
       "      <td>1.0</td>\n",
       "    </tr>\n",
       "    <tr>\n",
       "      <th>1745617</th>\n",
       "      <td>2023-12-29</td>\n",
       "      <td>4A6F00</td>\n",
       "      <td>ALPHABET INC</td>\n",
       "      <td>0.001777</td>\n",
       "      <td>-0.002477</td>\n",
       "      <td>Hankyung.com: \"AI technology to feed the Korea...</td>\n",
       "      <td>1.0</td>\n",
       "    </tr>\n",
       "    <tr>\n",
       "      <th>1745618</th>\n",
       "      <td>2023-12-29</td>\n",
       "      <td>4A6F00</td>\n",
       "      <td>ALPHABET INC</td>\n",
       "      <td>0.001777</td>\n",
       "      <td>-0.002477</td>\n",
       "      <td>Dow Jones Futures Dip Ahead Of Final Session O...</td>\n",
       "      <td>1.0</td>\n",
       "    </tr>\n",
       "    <tr>\n",
       "      <th>1745619</th>\n",
       "      <td>2023-12-29</td>\n",
       "      <td>4A6F00</td>\n",
       "      <td>ALPHABET INC</td>\n",
       "      <td>0.001777</td>\n",
       "      <td>-0.002477</td>\n",
       "      <td>Valmet Oyj: Valmet Oyj: Notification according...</td>\n",
       "      <td>1.0</td>\n",
       "    </tr>\n",
       "    <tr>\n",
       "      <th>1745620</th>\n",
       "      <td>2023-12-29</td>\n",
       "      <td>4A6F00</td>\n",
       "      <td>ALPHABET INC</td>\n",
       "      <td>0.001777</td>\n",
       "      <td>-0.002477</td>\n",
       "      <td>MW Growing concern over AI threats to election...</td>\n",
       "      <td>1.0</td>\n",
       "    </tr>\n",
       "  </tbody>\n",
       "</table>\n",
       "<p>125168 rows × 7 columns</p>\n",
       "</div>"
      ],
      "text/plain": [
       "              date rp_entity_id        comnam    CO_ret       ret  \\\n",
       "1383    2023-01-03       4A6F00  ALPHABET INC -0.005191  0.010087   \n",
       "1384    2023-01-03       4A6F00  ALPHABET INC -0.005191  0.010087   \n",
       "1385    2023-01-03       4A6F00  ALPHABET INC -0.005191  0.010087   \n",
       "1386    2023-01-03       4A6F00  ALPHABET INC -0.005191  0.010087   \n",
       "1387    2023-01-03       4A6F00  ALPHABET INC -0.005191  0.010087   \n",
       "...            ...          ...           ...       ...       ...   \n",
       "1745616 2023-12-29       4A6F00  ALPHABET INC  0.001777 -0.002477   \n",
       "1745617 2023-12-29       4A6F00  ALPHABET INC  0.001777 -0.002477   \n",
       "1745618 2023-12-29       4A6F00  ALPHABET INC  0.001777 -0.002477   \n",
       "1745619 2023-12-29       4A6F00  ALPHABET INC  0.001777 -0.002477   \n",
       "1745620 2023-12-29       4A6F00  ALPHABET INC  0.001777 -0.002477   \n",
       "\n",
       "                                                  headline  bool_CO_ret  \n",
       "1383     MW 'Our social skills are like any other muscl...          1.0  \n",
       "1384     New Film Release: Cryptid Horror Movie Brings ...          1.0  \n",
       "1385     Astounding 2023 New Year's Resolution: Longtim...          1.0  \n",
       "1386     Credefi Scores Major Milestone in Partnership ...          1.0  \n",
       "1387     Press Release: Credefi Scores Major Milestone ...          1.0  \n",
       "...                                                    ...          ...  \n",
       "1745616  Gen AI Hype Grips Telecom Industry as Telcos U...          1.0  \n",
       "1745617  Hankyung.com: \"AI technology to feed the Korea...          1.0  \n",
       "1745618  Dow Jones Futures Dip Ahead Of Final Session O...          1.0  \n",
       "1745619  Valmet Oyj: Valmet Oyj: Notification according...          1.0  \n",
       "1745620  MW Growing concern over AI threats to election...          1.0  \n",
       "\n",
       "[125168 rows x 7 columns]"
      ]
     },
     "execution_count": 749,
     "metadata": {},
     "output_type": "execute_result"
    }
   ],
   "source": [
    "# Examples\n",
    "SP500_RP_future_ret_2023[SP500_RP_future_ret_2023.duplicated([\"rp_entity_id\",\"headline\"],keep = False)]"
   ]
  },
  {
   "cell_type": "code",
   "execution_count": 750,
   "metadata": {},
   "outputs": [],
   "source": [
    "SP500_RP_future_ret_2023 = SP500_RP_future_ret_2023.drop_duplicates(subset = [\"rp_entity_id\",\"headline\"])\n",
    "SP500_RP_future_ret_2023[\"future_ret\"] = SP500_RP_future_ret_2023.apply(lambda row: row[\"CO_ret\"] if row[\"bool_CO_ret\"] \\\n",
    "                                                                        else (row[\"ret\"] if not row[\"bool_CO_ret\"]  else None), axis = 1)\n",
    "SP500_RP_future_ret_2023 = SP500_RP_future_ret_2023.drop(columns = ['CO_ret','ret','bool_CO_ret'])"
   ]
  },
  {
   "cell_type": "code",
   "execution_count": 751,
   "metadata": {},
   "outputs": [
    {
     "data": {
      "text/html": [
       "<div>\n",
       "<style scoped>\n",
       "    .dataframe tbody tr th:only-of-type {\n",
       "        vertical-align: middle;\n",
       "    }\n",
       "\n",
       "    .dataframe tbody tr th {\n",
       "        vertical-align: top;\n",
       "    }\n",
       "\n",
       "    .dataframe thead th {\n",
       "        text-align: right;\n",
       "    }\n",
       "</style>\n",
       "<table border=\"1\" class=\"dataframe\">\n",
       "  <thead>\n",
       "    <tr style=\"text-align: right;\">\n",
       "      <th></th>\n",
       "      <th>date</th>\n",
       "      <th>rp_entity_id</th>\n",
       "      <th>comnam</th>\n",
       "      <th>headline</th>\n",
       "      <th>future_ret</th>\n",
       "    </tr>\n",
       "  </thead>\n",
       "  <tbody>\n",
       "    <tr>\n",
       "      <th>0</th>\n",
       "      <td>2023-01-03</td>\n",
       "      <td>652E62</td>\n",
       "      <td>P G &amp; E CORP</td>\n",
       "      <td>PG&amp;E Cut to Neutral From Buy by Jefferies</td>\n",
       "      <td>-0.019387</td>\n",
       "    </tr>\n",
       "    <tr>\n",
       "      <th>1</th>\n",
       "      <td>2023-01-03</td>\n",
       "      <td>652E62</td>\n",
       "      <td>P G &amp; E CORP</td>\n",
       "      <td>PG&amp;E Price Target Announced at $17.00/Share by...</td>\n",
       "      <td>-0.019387</td>\n",
       "    </tr>\n",
       "    <tr>\n",
       "      <th>2</th>\n",
       "      <td>2023-01-03</td>\n",
       "      <td>434F38</td>\n",
       "      <td>RESMED INC</td>\n",
       "      <td>ResMed Announces Participation in the 41st Ann...</td>\n",
       "      <td>-0.004570</td>\n",
       "    </tr>\n",
       "    <tr>\n",
       "      <th>3</th>\n",
       "      <td>2023-01-03</td>\n",
       "      <td>434F38</td>\n",
       "      <td>RESMED INC</td>\n",
       "      <td>Sydney Closing Stock Prices -2-</td>\n",
       "      <td>-0.004570</td>\n",
       "    </tr>\n",
       "    <tr>\n",
       "      <th>4</th>\n",
       "      <td>2023-01-03</td>\n",
       "      <td>434F38</td>\n",
       "      <td>RESMED INC</td>\n",
       "      <td>Press Release: ResMed Announces Participation ...</td>\n",
       "      <td>-0.004570</td>\n",
       "    </tr>\n",
       "  </tbody>\n",
       "</table>\n",
       "</div>"
      ],
      "text/plain": [
       "        date rp_entity_id        comnam  \\\n",
       "0 2023-01-03       652E62  P G & E CORP   \n",
       "1 2023-01-03       652E62  P G & E CORP   \n",
       "2 2023-01-03       434F38    RESMED INC   \n",
       "3 2023-01-03       434F38    RESMED INC   \n",
       "4 2023-01-03       434F38    RESMED INC   \n",
       "\n",
       "                                            headline  future_ret  \n",
       "0          PG&E Cut to Neutral From Buy by Jefferies   -0.019387  \n",
       "1  PG&E Price Target Announced at $17.00/Share by...   -0.019387  \n",
       "2  ResMed Announces Participation in the 41st Ann...   -0.004570  \n",
       "3                    Sydney Closing Stock Prices -2-   -0.004570  \n",
       "4  Press Release: ResMed Announces Participation ...   -0.004570  "
      ]
     },
     "execution_count": 751,
     "metadata": {},
     "output_type": "execute_result"
    }
   ],
   "source": [
    "SP500_RP_future_ret_2023.head()"
   ]
  },
  {
   "cell_type": "code",
   "execution_count": 752,
   "metadata": {},
   "outputs": [
    {
     "name": "stdout",
     "output_type": "stream",
     "text": [
      "0\n",
      "148\n"
     ]
    }
   ],
   "source": [
    "# NA comes from None opening prices\n",
    "print(SP500_RP_future_ret_2023.duplicated().sum())\n",
    "print(SP500_RP_future_ret_2023.isna().sum().sum())"
   ]
  }
 ],
 "metadata": {
  "kernelspec": {
   "display_name": "base",
   "language": "python",
   "name": "python3"
  },
  "language_info": {
   "codemirror_mode": {
    "name": "ipython",
    "version": 3
   },
   "file_extension": ".py",
   "mimetype": "text/x-python",
   "name": "python",
   "nbconvert_exporter": "python",
   "pygments_lexer": "ipython3",
   "version": "3.1.undefined"
  }
 },
 "nbformat": 4,
 "nbformat_minor": 2
}
