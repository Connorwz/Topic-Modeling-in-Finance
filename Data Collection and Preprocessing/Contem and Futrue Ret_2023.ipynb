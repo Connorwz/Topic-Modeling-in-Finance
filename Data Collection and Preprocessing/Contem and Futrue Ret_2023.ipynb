{
 "cells": [
  {
   "cell_type": "markdown",
   "metadata": {},
   "source": [
    "# Initialization"
   ]
  },
  {
   "cell_type": "code",
   "execution_count": 47,
   "metadata": {},
   "outputs": [],
   "source": [
    "import wrds\n",
    "import pandas as pd\n",
    "import pytz\n",
    "import datetime as dt\n",
    "import pandas_market_calendars as mcal"
   ]
  },
  {
   "cell_type": "code",
   "execution_count": 48,
   "metadata": {},
   "outputs": [
    {
     "name": "stdout",
     "output_type": "stream",
     "text": [
      "Loading library list...\n",
      "Done\n"
     ]
    }
   ],
   "source": [
    "db = wrds.Connection(wrds_username = \"connorwz\")"
   ]
  },
  {
   "cell_type": "markdown",
   "metadata": {},
   "source": [
    "# Find SP500 constituents in 2023"
   ]
  },
  {
   "cell_type": "code",
   "execution_count": 49,
   "metadata": {},
   "outputs": [],
   "source": [
    "sp500 = db.raw_sql(\"\"\"\n",
    "                        select a.*, b.date, b.ret, b.prc, b.openprc\n",
    "                        from crsp.dsp500list as a,\n",
    "                        crsp.dsf as b\n",
    "                        where a.permno=b.permno\n",
    "                        and b.date >= a.start and b.date<= a.ending\n",
    "                        and b.date>='01/01/2023' and b.date<='12/31/2023'\n",
    "                        order by date;\n",
    "                        \"\"\", date_cols=['start', 'ending', 'date'])"
   ]
  },
  {
   "cell_type": "code",
   "execution_count": 50,
   "metadata": {},
   "outputs": [],
   "source": [
    "dse = db.raw_sql(\"\"\"\n",
    "                        select comnam,ncusip, namedt, nameendt,permno\n",
    "                        from crsp.dsenames\n",
    "                        \"\"\", date_cols=['namedt', 'nameendt'])\n",
    "\n",
    "# if nameendt is missing then set to today date\n",
    "dse['nameendt']=dse['nameendt'].fillna(pd.to_datetime('today'))"
   ]
  },
  {
   "cell_type": "code",
   "execution_count": 51,
   "metadata": {},
   "outputs": [],
   "source": [
    "# Merge with SP500 data\n",
    "sp500_full_2023 = pd.merge(sp500, dse, how = 'left', on = 'permno')\n",
    "\n",
    "# Impose the date range restrictions\n",
    "sp500_full_2023 = sp500_full_2023.loc[(sp500_full_2023.date>=sp500_full_2023.namedt) \\\n",
    "                            & (sp500_full_2023.date<=sp500_full_2023.nameendt)]\n",
    "sp500_full_2023.reset_index(inplace = True,drop = True)"
   ]
  },
  {
   "cell_type": "code",
   "execution_count": 52,
   "metadata": {},
   "outputs": [],
   "source": [
    "sp500_full_2023 = sp500_full_2023[[\"permno\",\"date\",\"comnam\",\"ret\",\"openprc\",\"prc\"]]"
   ]
  },
  {
   "cell_type": "markdown",
   "metadata": {},
   "source": [
    "## Dirty data check"
   ]
  },
  {
   "cell_type": "code",
   "execution_count": 53,
   "metadata": {},
   "outputs": [
    {
     "data": {
      "text/html": [
       "<div>\n",
       "<style scoped>\n",
       "    .dataframe tbody tr th:only-of-type {\n",
       "        vertical-align: middle;\n",
       "    }\n",
       "\n",
       "    .dataframe tbody tr th {\n",
       "        vertical-align: top;\n",
       "    }\n",
       "\n",
       "    .dataframe thead th {\n",
       "        text-align: right;\n",
       "    }\n",
       "</style>\n",
       "<table border=\"1\" class=\"dataframe\">\n",
       "  <thead>\n",
       "    <tr style=\"text-align: right;\">\n",
       "      <th></th>\n",
       "      <th>permno</th>\n",
       "      <th>date</th>\n",
       "      <th>comnam</th>\n",
       "      <th>ret</th>\n",
       "      <th>openprc</th>\n",
       "      <th>prc</th>\n",
       "    </tr>\n",
       "  </thead>\n",
       "  <tbody>\n",
       "    <tr>\n",
       "      <th>23497</th>\n",
       "      <td>11786</td>\n",
       "      <td>2023-03-10</td>\n",
       "      <td>S V B FINANCIAL GROUP</td>\n",
       "      <td>-0.628725</td>\n",
       "      <td>NaN</td>\n",
       "      <td>-39.37000</td>\n",
       "    </tr>\n",
       "    <tr>\n",
       "      <th>54846</th>\n",
       "      <td>76841</td>\n",
       "      <td>2023-06-09</td>\n",
       "      <td>BIOGEN INC</td>\n",
       "      <td>0.025965</td>\n",
       "      <td>NaN</td>\n",
       "      <td>-316.89999</td>\n",
       "    </tr>\n",
       "  </tbody>\n",
       "</table>\n",
       "</div>"
      ],
      "text/plain": [
       "       permno       date                 comnam       ret  openprc        prc\n",
       "23497   11786 2023-03-10  S V B FINANCIAL GROUP -0.628725      NaN  -39.37000\n",
       "54846   76841 2023-06-09             BIOGEN INC  0.025965      NaN -316.89999"
      ]
     },
     "execution_count": 53,
     "metadata": {},
     "output_type": "execute_result"
    }
   ],
   "source": [
    "# Negative sign means bid/ask average\n",
    "sp500_full_2023[sp500_full_2023.prc <0]"
   ]
  },
  {
   "cell_type": "code",
   "execution_count": 54,
   "metadata": {},
   "outputs": [
    {
     "name": "stderr",
     "output_type": "stream",
     "text": [
      "/var/folders/bg/9xqhvbd522v9y5gqby9zsgsm0000gn/T/ipykernel_86155/4168260694.py:3: FutureWarning: The behavior of 'isin' with dtype=datetime64[ns] and castable values (e.g. strings) is deprecated. In a future version, these will not be considered matching by isin. Explicitly cast to the appropriate dtype before calling isin instead.\n",
      "  sp500_full_2023[sp500_full_2023.permno == 76841].loc[sp500_full_2023.date.isin([\"2023-06-08\",\"2023-06-09\",\"2023-06-12\"])]\n"
     ]
    },
    {
     "data": {
      "text/html": [
       "<div>\n",
       "<style scoped>\n",
       "    .dataframe tbody tr th:only-of-type {\n",
       "        vertical-align: middle;\n",
       "    }\n",
       "\n",
       "    .dataframe tbody tr th {\n",
       "        vertical-align: top;\n",
       "    }\n",
       "\n",
       "    .dataframe thead th {\n",
       "        text-align: right;\n",
       "    }\n",
       "</style>\n",
       "<table border=\"1\" class=\"dataframe\">\n",
       "  <thead>\n",
       "    <tr style=\"text-align: right;\">\n",
       "      <th></th>\n",
       "      <th>permno</th>\n",
       "      <th>date</th>\n",
       "      <th>comnam</th>\n",
       "      <th>ret</th>\n",
       "      <th>openprc</th>\n",
       "      <th>prc</th>\n",
       "    </tr>\n",
       "  </thead>\n",
       "  <tbody>\n",
       "    <tr>\n",
       "      <th>54784</th>\n",
       "      <td>76841</td>\n",
       "      <td>2023-06-08</td>\n",
       "      <td>BIOGEN INC</td>\n",
       "      <td>0.013054</td>\n",
       "      <td>310.69000</td>\n",
       "      <td>308.88000</td>\n",
       "    </tr>\n",
       "    <tr>\n",
       "      <th>54846</th>\n",
       "      <td>76841</td>\n",
       "      <td>2023-06-09</td>\n",
       "      <td>BIOGEN INC</td>\n",
       "      <td>0.025965</td>\n",
       "      <td>NaN</td>\n",
       "      <td>-316.89999</td>\n",
       "    </tr>\n",
       "    <tr>\n",
       "      <th>55503</th>\n",
       "      <td>76841</td>\n",
       "      <td>2023-06-12</td>\n",
       "      <td>BIOGEN INC</td>\n",
       "      <td>-0.011013</td>\n",
       "      <td>319.76001</td>\n",
       "      <td>313.41000</td>\n",
       "    </tr>\n",
       "  </tbody>\n",
       "</table>\n",
       "</div>"
      ],
      "text/plain": [
       "       permno       date      comnam       ret    openprc        prc\n",
       "54784   76841 2023-06-08  BIOGEN INC  0.013054  310.69000  308.88000\n",
       "54846   76841 2023-06-09  BIOGEN INC  0.025965        NaN -316.89999\n",
       "55503   76841 2023-06-12  BIOGEN INC -0.011013  319.76001  313.41000"
      ]
     },
     "execution_count": 54,
     "metadata": {},
     "output_type": "execute_result"
    }
   ],
   "source": [
    "# For 76841, bid/ask average represents closing price for a stock \n",
    "# with similar numerical values of adjacent days \n",
    "sp500_full_2023[sp500_full_2023.permno == 76841].loc[sp500_full_2023.date.isin([\"2023-06-08\",\"2023-06-09\",\"2023-06-12\"])]"
   ]
  },
  {
   "cell_type": "code",
   "execution_count": 55,
   "metadata": {},
   "outputs": [
    {
     "data": {
      "text/html": [
       "<div>\n",
       "<style scoped>\n",
       "    .dataframe tbody tr th:only-of-type {\n",
       "        vertical-align: middle;\n",
       "    }\n",
       "\n",
       "    .dataframe tbody tr th {\n",
       "        vertical-align: top;\n",
       "    }\n",
       "\n",
       "    .dataframe thead th {\n",
       "        text-align: right;\n",
       "    }\n",
       "</style>\n",
       "<table border=\"1\" class=\"dataframe\">\n",
       "  <thead>\n",
       "    <tr style=\"text-align: right;\">\n",
       "      <th></th>\n",
       "      <th>permno</th>\n",
       "      <th>date</th>\n",
       "      <th>comnam</th>\n",
       "      <th>ret</th>\n",
       "      <th>openprc</th>\n",
       "      <th>prc</th>\n",
       "    </tr>\n",
       "  </thead>\n",
       "  <tbody>\n",
       "    <tr>\n",
       "      <th>22415</th>\n",
       "      <td>11786</td>\n",
       "      <td>2023-03-08</td>\n",
       "      <td>S V B FINANCIAL GROUP</td>\n",
       "      <td>0.001645</td>\n",
       "      <td>266.85999</td>\n",
       "      <td>267.82999</td>\n",
       "    </tr>\n",
       "    <tr>\n",
       "      <th>23058</th>\n",
       "      <td>11786</td>\n",
       "      <td>2023-03-09</td>\n",
       "      <td>S V B FINANCIAL GROUP</td>\n",
       "      <td>-0.604077</td>\n",
       "      <td>176.55000</td>\n",
       "      <td>106.04000</td>\n",
       "    </tr>\n",
       "    <tr>\n",
       "      <th>23497</th>\n",
       "      <td>11786</td>\n",
       "      <td>2023-03-10</td>\n",
       "      <td>S V B FINANCIAL GROUP</td>\n",
       "      <td>-0.628725</td>\n",
       "      <td>NaN</td>\n",
       "      <td>-39.37000</td>\n",
       "    </tr>\n",
       "  </tbody>\n",
       "</table>\n",
       "</div>"
      ],
      "text/plain": [
       "       permno       date                 comnam       ret    openprc  \\\n",
       "22415   11786 2023-03-08  S V B FINANCIAL GROUP  0.001645  266.85999   \n",
       "23058   11786 2023-03-09  S V B FINANCIAL GROUP -0.604077  176.55000   \n",
       "23497   11786 2023-03-10  S V B FINANCIAL GROUP -0.628725        NaN   \n",
       "\n",
       "             prc  \n",
       "22415  267.82999  \n",
       "23058  106.04000  \n",
       "23497  -39.37000  "
      ]
     },
     "execution_count": 55,
     "metadata": {},
     "output_type": "execute_result"
    }
   ],
   "source": [
    "# For 11786, this seems to be something wrong\n",
    "sp500_full_2023[sp500_full_2023.permno == 11786][-3:]"
   ]
  },
  {
   "cell_type": "code",
   "execution_count": 56,
   "metadata": {},
   "outputs": [
    {
     "data": {
      "text/plain": [
       "Series([], Name: prc, dtype: float64)"
      ]
     },
     "execution_count": 56,
     "metadata": {},
     "output_type": "execute_result"
    }
   ],
   "source": [
    "# 0 means neither closing price nor bid/ask average exists \n",
    "sp500_full_2023.prc[sp500_full_2023.prc == 0]"
   ]
  },
  {
   "cell_type": "code",
   "execution_count": 57,
   "metadata": {},
   "outputs": [
    {
     "data": {
      "text/html": [
       "<div>\n",
       "<style scoped>\n",
       "    .dataframe tbody tr th:only-of-type {\n",
       "        vertical-align: middle;\n",
       "    }\n",
       "\n",
       "    .dataframe tbody tr th {\n",
       "        vertical-align: top;\n",
       "    }\n",
       "\n",
       "    .dataframe thead th {\n",
       "        text-align: right;\n",
       "    }\n",
       "</style>\n",
       "<table border=\"1\" class=\"dataframe\">\n",
       "  <thead>\n",
       "    <tr style=\"text-align: right;\">\n",
       "      <th></th>\n",
       "      <th>permno</th>\n",
       "      <th>date</th>\n",
       "      <th>comnam</th>\n",
       "      <th>ret</th>\n",
       "      <th>openprc</th>\n",
       "      <th>prc</th>\n",
       "    </tr>\n",
       "  </thead>\n",
       "  <tbody>\n",
       "    <tr>\n",
       "      <th>23497</th>\n",
       "      <td>11786</td>\n",
       "      <td>2023-03-10</td>\n",
       "      <td>S V B FINANCIAL GROUP</td>\n",
       "      <td>-0.628725</td>\n",
       "      <td>NaN</td>\n",
       "      <td>-39.37000</td>\n",
       "    </tr>\n",
       "    <tr>\n",
       "      <th>54846</th>\n",
       "      <td>76841</td>\n",
       "      <td>2023-06-09</td>\n",
       "      <td>BIOGEN INC</td>\n",
       "      <td>0.025965</td>\n",
       "      <td>NaN</td>\n",
       "      <td>-316.89999</td>\n",
       "    </tr>\n",
       "  </tbody>\n",
       "</table>\n",
       "</div>"
      ],
      "text/plain": [
       "       permno       date                 comnam       ret  openprc        prc\n",
       "23497   11786 2023-03-10  S V B FINANCIAL GROUP -0.628725      NaN  -39.37000\n",
       "54846   76841 2023-06-09             BIOGEN INC  0.025965      NaN -316.89999"
      ]
     },
     "execution_count": 57,
     "metadata": {},
     "output_type": "execute_result"
    }
   ],
   "source": [
    "# There are some companies without open price which caused negative prices.\n",
    "sp500_full_2023[sp500_full_2023.openprc.isna()]"
   ]
  },
  {
   "cell_type": "code",
   "execution_count": 58,
   "metadata": {},
   "outputs": [
    {
     "data": {
      "text/plain": [
       "0"
      ]
     },
     "execution_count": 58,
     "metadata": {},
     "output_type": "execute_result"
    }
   ],
   "source": [
    "# No dirty data for open price\n",
    "(sp500_full_2023.openprc <= 0).sum()"
   ]
  },
  {
   "cell_type": "code",
   "execution_count": 59,
   "metadata": {},
   "outputs": [
    {
     "data": {
      "text/html": [
       "<div>\n",
       "<style scoped>\n",
       "    .dataframe tbody tr th:only-of-type {\n",
       "        vertical-align: middle;\n",
       "    }\n",
       "\n",
       "    .dataframe tbody tr th {\n",
       "        vertical-align: top;\n",
       "    }\n",
       "\n",
       "    .dataframe thead th {\n",
       "        text-align: right;\n",
       "    }\n",
       "</style>\n",
       "<table border=\"1\" class=\"dataframe\">\n",
       "  <thead>\n",
       "    <tr style=\"text-align: right;\">\n",
       "      <th></th>\n",
       "      <th>permno</th>\n",
       "      <th>date</th>\n",
       "      <th>comnam</th>\n",
       "      <th>ret</th>\n",
       "      <th>openprc</th>\n",
       "      <th>prc</th>\n",
       "    </tr>\n",
       "  </thead>\n",
       "  <tbody>\n",
       "    <tr>\n",
       "      <th>668</th>\n",
       "      <td>23570</td>\n",
       "      <td>2023-01-04</td>\n",
       "      <td>G E HEALTHCARE TECHNOLOGIES INC</td>\n",
       "      <td>NaN</td>\n",
       "      <td>54.13</td>\n",
       "      <td>60.49000</td>\n",
       "    </tr>\n",
       "    <tr>\n",
       "      <th>23497</th>\n",
       "      <td>11786</td>\n",
       "      <td>2023-03-10</td>\n",
       "      <td>S V B FINANCIAL GROUP</td>\n",
       "      <td>-0.628725</td>\n",
       "      <td>NaN</td>\n",
       "      <td>-39.37000</td>\n",
       "    </tr>\n",
       "    <tr>\n",
       "      <th>54846</th>\n",
       "      <td>76841</td>\n",
       "      <td>2023-06-09</td>\n",
       "      <td>BIOGEN INC</td>\n",
       "      <td>0.025965</td>\n",
       "      <td>NaN</td>\n",
       "      <td>-316.89999</td>\n",
       "    </tr>\n",
       "    <tr>\n",
       "      <th>62718</th>\n",
       "      <td>23942</td>\n",
       "      <td>2023-07-03</td>\n",
       "      <td>FORTREA HOLDINGS INC</td>\n",
       "      <td>NaN</td>\n",
       "      <td>33.80</td>\n",
       "      <td>36.84000</td>\n",
       "    </tr>\n",
       "    <tr>\n",
       "      <th>63335</th>\n",
       "      <td>23944</td>\n",
       "      <td>2023-07-05</td>\n",
       "      <td>PHINIA INC</td>\n",
       "      <td>NaN</td>\n",
       "      <td>29.89</td>\n",
       "      <td>36.75000</td>\n",
       "    </tr>\n",
       "    <tr>\n",
       "      <th>94168</th>\n",
       "      <td>24175</td>\n",
       "      <td>2023-10-02</td>\n",
       "      <td>W K KELLOGG CO</td>\n",
       "      <td>NaN</td>\n",
       "      <td>13.80</td>\n",
       "      <td>13.35000</td>\n",
       "    </tr>\n",
       "    <tr>\n",
       "      <th>94208</th>\n",
       "      <td>24174</td>\n",
       "      <td>2023-10-02</td>\n",
       "      <td>VERALTO CORP</td>\n",
       "      <td>NaN</td>\n",
       "      <td>83.11</td>\n",
       "      <td>85.12000</td>\n",
       "    </tr>\n",
       "  </tbody>\n",
       "</table>\n",
       "</div>"
      ],
      "text/plain": [
       "       permno       date                           comnam       ret  openprc  \\\n",
       "668     23570 2023-01-04  G E HEALTHCARE TECHNOLOGIES INC       NaN    54.13   \n",
       "23497   11786 2023-03-10            S V B FINANCIAL GROUP -0.628725      NaN   \n",
       "54846   76841 2023-06-09                       BIOGEN INC  0.025965      NaN   \n",
       "62718   23942 2023-07-03             FORTREA HOLDINGS INC       NaN    33.80   \n",
       "63335   23944 2023-07-05                       PHINIA INC       NaN    29.89   \n",
       "94168   24175 2023-10-02                   W K KELLOGG CO       NaN    13.80   \n",
       "94208   24174 2023-10-02                     VERALTO CORP       NaN    83.11   \n",
       "\n",
       "             prc  \n",
       "668     60.49000  \n",
       "23497  -39.37000  \n",
       "54846 -316.89999  \n",
       "62718   36.84000  \n",
       "63335   36.75000  \n",
       "94168   13.35000  \n",
       "94208   85.12000  "
      ]
     },
     "execution_count": 59,
     "metadata": {},
     "output_type": "execute_result"
    }
   ],
   "source": [
    "# Nan values \n",
    "sp500_full_2023[sp500_full_2023.isna().sum(axis = 1) >0]"
   ]
  },
  {
   "cell_type": "code",
   "execution_count": 60,
   "metadata": {},
   "outputs": [
    {
     "data": {
      "text/plain": [
       "0"
      ]
     },
     "execution_count": 60,
     "metadata": {},
     "output_type": "execute_result"
    }
   ],
   "source": [
    "# There is no duplicated values \n",
    "sp500_full_2023.duplicated().sum()"
   ]
  },
  {
   "cell_type": "markdown",
   "metadata": {},
   "source": [
    "# Get opening-closing returns and closing-closing returns for SP500 constituents in 2023"
   ]
  },
  {
   "cell_type": "code",
   "execution_count": 61,
   "metadata": {},
   "outputs": [],
   "source": [
    "# get closing-open return\n",
    "sp500_full_2023[\"prc\"] = sp500_full_2023[\"prc\"].apply(abs)\n",
    "sp500_full_2023[\"CO_ret\"] = (sp500_full_2023['prc'] - sp500_full_2023['openprc'])/sp500_full_2023['openprc']"
   ]
  },
  {
   "cell_type": "markdown",
   "metadata": {},
   "source": [
    "# Link CRSP to RavenPack"
   ]
  },
  {
   "cell_type": "code",
   "execution_count": 62,
   "metadata": {},
   "outputs": [],
   "source": [
    "mapping_file = pd.read_csv(\"Mapping_file.csv\")\n",
    "# Drop those companies which don't exist in RP\n",
    "sp500_2023_RPid = sp500_full_2023.merge(mapping_file, on = \"permno\", how = \"inner\")"
   ]
  },
  {
   "cell_type": "code",
   "execution_count": 63,
   "metadata": {},
   "outputs": [
    {
     "name": "stdout",
     "output_type": "stream",
     "text": [
      "0\n",
      "0\n"
     ]
    }
   ],
   "source": [
    "print(sp500_2023_RPid[[\"permno\",\"date\",\"comnam\",\"rp_entity_id\"]].isna().sum().sum())\n",
    "print(sp500_2023_RPid.duplicated().sum())"
   ]
  },
  {
   "cell_type": "markdown",
   "metadata": {},
   "source": [
    "# Link headlines based on contemporaneous returns"
   ]
  },
  {
   "cell_type": "code",
   "execution_count": 64,
   "metadata": {},
   "outputs": [],
   "source": [
    "# All RP's headlines in 2023 \n",
    "RP_2023_query = \"\"\"SELECT rpa_date_utc,timestamp_utc,rp_entity_id,entity_name,headline\n",
    "                FROM rpna.rpa_djpr_equities_2023\n",
    "            \"\"\"\n",
    "RP_2023 = db.raw_sql(RP_2023_query)"
   ]
  },
  {
   "cell_type": "code",
   "execution_count": 65,
   "metadata": {},
   "outputs": [],
   "source": [
    "sp500_2023_RPid_backup = sp500_2023_RPid.copy()\n",
    "RP_2023_backup = RP_2023.copy()"
   ]
  },
  {
   "cell_type": "code",
   "execution_count": 66,
   "metadata": {},
   "outputs": [],
   "source": [
    "# Drop duplicates in consecutive days\n",
    "RP_2023 = RP_2023.drop_duplicates((\"rp_entity_id\",\"headline\"))"
   ]
  },
  {
   "cell_type": "code",
   "execution_count": 67,
   "metadata": {},
   "outputs": [],
   "source": [
    "# Drop those non-sp500 constituents' headlines\n",
    "RP_2023 = RP_2023[RP_2023.rp_entity_id.isin(sp500_2023_RPid.rp_entity_id.unique())]"
   ]
  },
  {
   "cell_type": "code",
   "execution_count": 68,
   "metadata": {},
   "outputs": [
    {
     "data": {
      "text/html": [
       "<div>\n",
       "<style scoped>\n",
       "    .dataframe tbody tr th:only-of-type {\n",
       "        vertical-align: middle;\n",
       "    }\n",
       "\n",
       "    .dataframe tbody tr th {\n",
       "        vertical-align: top;\n",
       "    }\n",
       "\n",
       "    .dataframe thead th {\n",
       "        text-align: right;\n",
       "    }\n",
       "</style>\n",
       "<table border=\"1\" class=\"dataframe\">\n",
       "  <thead>\n",
       "    <tr style=\"text-align: right;\">\n",
       "      <th></th>\n",
       "      <th>permno</th>\n",
       "      <th>date</th>\n",
       "      <th>comnam</th>\n",
       "      <th>ret</th>\n",
       "      <th>openprc</th>\n",
       "      <th>prc</th>\n",
       "      <th>CO_ret</th>\n",
       "      <th>rp_entity_id</th>\n",
       "    </tr>\n",
       "  </thead>\n",
       "  <tbody>\n",
       "    <tr>\n",
       "      <th>0</th>\n",
       "      <td>39917</td>\n",
       "      <td>2023-01-03</td>\n",
       "      <td>WEYERHAEUSER CO</td>\n",
       "      <td>-0.004516</td>\n",
       "      <td>31.25000</td>\n",
       "      <td>30.86000</td>\n",
       "      <td>-0.012480</td>\n",
       "      <td>FF4BA4</td>\n",
       "    </tr>\n",
       "    <tr>\n",
       "      <th>1</th>\n",
       "      <td>82642</td>\n",
       "      <td>2023-01-03</td>\n",
       "      <td>LAUDER ESTEE COS INC</td>\n",
       "      <td>0.023377</td>\n",
       "      <td>256.17999</td>\n",
       "      <td>253.91000</td>\n",
       "      <td>-0.008861</td>\n",
       "      <td>14ED2B</td>\n",
       "    </tr>\n",
       "    <tr>\n",
       "      <th>2</th>\n",
       "      <td>21178</td>\n",
       "      <td>2023-01-03</td>\n",
       "      <td>LOCKHEED MARTIN CORP</td>\n",
       "      <td>-0.018418</td>\n",
       "      <td>483.39001</td>\n",
       "      <td>477.53000</td>\n",
       "      <td>-0.012123</td>\n",
       "      <td>96F126</td>\n",
       "    </tr>\n",
       "    <tr>\n",
       "      <th>3</th>\n",
       "      <td>66800</td>\n",
       "      <td>2023-01-03</td>\n",
       "      <td>AMERICAN INTERNATIONAL GROUP INC</td>\n",
       "      <td>-0.004902</td>\n",
       "      <td>63.45000</td>\n",
       "      <td>62.93000</td>\n",
       "      <td>-0.008195</td>\n",
       "      <td>0BC29E</td>\n",
       "    </tr>\n",
       "    <tr>\n",
       "      <th>4</th>\n",
       "      <td>64653</td>\n",
       "      <td>2023-01-03</td>\n",
       "      <td>PUBLIC STORAGE</td>\n",
       "      <td>-0.021450</td>\n",
       "      <td>281.07999</td>\n",
       "      <td>274.17999</td>\n",
       "      <td>-0.024548</td>\n",
       "      <td>AFEC35</td>\n",
       "    </tr>\n",
       "  </tbody>\n",
       "</table>\n",
       "</div>"
      ],
      "text/plain": [
       "   permno       date                            comnam       ret    openprc  \\\n",
       "0   39917 2023-01-03                   WEYERHAEUSER CO -0.004516   31.25000   \n",
       "1   82642 2023-01-03              LAUDER ESTEE COS INC  0.023377  256.17999   \n",
       "2   21178 2023-01-03              LOCKHEED MARTIN CORP -0.018418  483.39001   \n",
       "3   66800 2023-01-03  AMERICAN INTERNATIONAL GROUP INC -0.004902   63.45000   \n",
       "4   64653 2023-01-03                    PUBLIC STORAGE -0.021450  281.07999   \n",
       "\n",
       "         prc    CO_ret rp_entity_id  \n",
       "0   30.86000 -0.012480       FF4BA4  \n",
       "1  253.91000 -0.008861       14ED2B  \n",
       "2  477.53000 -0.012123       96F126  \n",
       "3   62.93000 -0.008195       0BC29E  \n",
       "4  274.17999 -0.024548       AFEC35  "
      ]
     },
     "execution_count": 68,
     "metadata": {},
     "output_type": "execute_result"
    }
   ],
   "source": [
    "sp500_2023_RPid.head()"
   ]
  },
  {
   "cell_type": "code",
   "execution_count": 69,
   "metadata": {},
   "outputs": [
    {
     "data": {
      "text/html": [
       "<div>\n",
       "<style scoped>\n",
       "    .dataframe tbody tr th:only-of-type {\n",
       "        vertical-align: middle;\n",
       "    }\n",
       "\n",
       "    .dataframe tbody tr th {\n",
       "        vertical-align: top;\n",
       "    }\n",
       "\n",
       "    .dataframe thead th {\n",
       "        text-align: right;\n",
       "    }\n",
       "</style>\n",
       "<table border=\"1\" class=\"dataframe\">\n",
       "  <thead>\n",
       "    <tr style=\"text-align: right;\">\n",
       "      <th></th>\n",
       "      <th>rpa_date_utc</th>\n",
       "      <th>timestamp_utc</th>\n",
       "      <th>rp_entity_id</th>\n",
       "      <th>entity_name</th>\n",
       "      <th>headline</th>\n",
       "    </tr>\n",
       "  </thead>\n",
       "  <tbody>\n",
       "    <tr>\n",
       "      <th>3</th>\n",
       "      <td>2023-01-01</td>\n",
       "      <td>2023-01-01 02:00:05.447</td>\n",
       "      <td>0157B1</td>\n",
       "      <td>Amazon.com Inc.</td>\n",
       "      <td>New Film Release: Cryptid Horror Movie Brings ...</td>\n",
       "    </tr>\n",
       "    <tr>\n",
       "      <th>4</th>\n",
       "      <td>2023-01-01</td>\n",
       "      <td>2023-01-01 07:00:11.264</td>\n",
       "      <td>0157B1</td>\n",
       "      <td>Amazon.com Inc.</td>\n",
       "      <td>The Craziest Moments From the Longest Tech Boo...</td>\n",
       "    </tr>\n",
       "    <tr>\n",
       "      <th>5</th>\n",
       "      <td>2023-01-01</td>\n",
       "      <td>2023-01-01 07:00:11.275</td>\n",
       "      <td>0157B1</td>\n",
       "      <td>Amazon.com Inc.</td>\n",
       "      <td>The Craziest Moments From the Longest Tech Boo...</td>\n",
       "    </tr>\n",
       "    <tr>\n",
       "      <th>6</th>\n",
       "      <td>2023-01-01</td>\n",
       "      <td>2023-01-01 10:30:00.085</td>\n",
       "      <td>0157B1</td>\n",
       "      <td>Amazon.com Inc.</td>\n",
       "      <td>The Year Big Tech Stocks Fell From Glory -- WSJ</td>\n",
       "    </tr>\n",
       "    <tr>\n",
       "      <th>7</th>\n",
       "      <td>2023-01-01</td>\n",
       "      <td>2023-01-01 13:00:00.055</td>\n",
       "      <td>0157B1</td>\n",
       "      <td>Amazon.com Inc.</td>\n",
       "      <td>Robust Job and Wage Growth Showed Signs of Coo...</td>\n",
       "    </tr>\n",
       "  </tbody>\n",
       "</table>\n",
       "</div>"
      ],
      "text/plain": [
       "  rpa_date_utc           timestamp_utc rp_entity_id      entity_name  \\\n",
       "3   2023-01-01 2023-01-01 02:00:05.447       0157B1  Amazon.com Inc.   \n",
       "4   2023-01-01 2023-01-01 07:00:11.264       0157B1  Amazon.com Inc.   \n",
       "5   2023-01-01 2023-01-01 07:00:11.275       0157B1  Amazon.com Inc.   \n",
       "6   2023-01-01 2023-01-01 10:30:00.085       0157B1  Amazon.com Inc.   \n",
       "7   2023-01-01 2023-01-01 13:00:00.055       0157B1  Amazon.com Inc.   \n",
       "\n",
       "                                            headline  \n",
       "3  New Film Release: Cryptid Horror Movie Brings ...  \n",
       "4  The Craziest Moments From the Longest Tech Boo...  \n",
       "5  The Craziest Moments From the Longest Tech Boo...  \n",
       "6    The Year Big Tech Stocks Fell From Glory -- WSJ  \n",
       "7  Robust Job and Wage Growth Showed Signs of Coo...  "
      ]
     },
     "execution_count": 69,
     "metadata": {},
     "output_type": "execute_result"
    }
   ],
   "source": [
    "RP_2023.head()"
   ]
  },
  {
   "cell_type": "code",
   "execution_count": 70,
   "metadata": {},
   "outputs": [
    {
     "data": {
      "text/html": [
       "<div>\n",
       "<style scoped>\n",
       "    .dataframe tbody tr th:only-of-type {\n",
       "        vertical-align: middle;\n",
       "    }\n",
       "\n",
       "    .dataframe tbody tr th {\n",
       "        vertical-align: top;\n",
       "    }\n",
       "\n",
       "    .dataframe thead th {\n",
       "        text-align: right;\n",
       "    }\n",
       "</style>\n",
       "<table border=\"1\" class=\"dataframe\">\n",
       "  <thead>\n",
       "    <tr style=\"text-align: right;\">\n",
       "      <th></th>\n",
       "      <th>permno</th>\n",
       "      <th>date</th>\n",
       "      <th>comnam</th>\n",
       "      <th>ret</th>\n",
       "      <th>openprc</th>\n",
       "      <th>prc</th>\n",
       "      <th>CO_ret</th>\n",
       "      <th>rp_entity_id</th>\n",
       "      <th>rpa_date_utc</th>\n",
       "      <th>timestamp_utc</th>\n",
       "      <th>entity_name</th>\n",
       "      <th>headline</th>\n",
       "    </tr>\n",
       "  </thead>\n",
       "  <tbody>\n",
       "    <tr>\n",
       "      <th>0</th>\n",
       "      <td>39917</td>\n",
       "      <td>2023-01-03</td>\n",
       "      <td>WEYERHAEUSER CO</td>\n",
       "      <td>-0.004516</td>\n",
       "      <td>31.25000</td>\n",
       "      <td>30.86</td>\n",
       "      <td>-0.012480</td>\n",
       "      <td>FF4BA4</td>\n",
       "      <td>2023-01-03</td>\n",
       "      <td>2023-01-03 21:42:37.069</td>\n",
       "      <td>Weyerhaeuser Co.</td>\n",
       "      <td>New York Closing Stocks</td>\n",
       "    </tr>\n",
       "    <tr>\n",
       "      <th>1</th>\n",
       "      <td>39917</td>\n",
       "      <td>2023-01-03</td>\n",
       "      <td>WEYERHAEUSER CO</td>\n",
       "      <td>-0.004516</td>\n",
       "      <td>31.25000</td>\n",
       "      <td>30.86</td>\n",
       "      <td>-0.012480</td>\n",
       "      <td>FF4BA4</td>\n",
       "      <td>2023-01-03</td>\n",
       "      <td>2023-01-03 21:53:55.832</td>\n",
       "      <td>Weyerhaeuser Co.</td>\n",
       "      <td>Extra Space Storage Inc. Stock Outperforms Com...</td>\n",
       "    </tr>\n",
       "    <tr>\n",
       "      <th>2</th>\n",
       "      <td>39917</td>\n",
       "      <td>2023-01-03</td>\n",
       "      <td>WEYERHAEUSER CO</td>\n",
       "      <td>-0.004516</td>\n",
       "      <td>31.25000</td>\n",
       "      <td>30.86</td>\n",
       "      <td>-0.012480</td>\n",
       "      <td>FF4BA4</td>\n",
       "      <td>2023-01-03</td>\n",
       "      <td>2023-01-03 22:02:55.434</td>\n",
       "      <td>Weyerhaeuser Co.</td>\n",
       "      <td>International Paper Co. Stock Outperforms Mark...</td>\n",
       "    </tr>\n",
       "    <tr>\n",
       "      <th>3</th>\n",
       "      <td>39917</td>\n",
       "      <td>2023-01-03</td>\n",
       "      <td>WEYERHAEUSER CO</td>\n",
       "      <td>-0.004516</td>\n",
       "      <td>31.25000</td>\n",
       "      <td>30.86</td>\n",
       "      <td>-0.012480</td>\n",
       "      <td>FF4BA4</td>\n",
       "      <td>2023-01-03</td>\n",
       "      <td>2023-01-03 22:33:56.797</td>\n",
       "      <td>Weyerhaeuser Co.</td>\n",
       "      <td>Weyerhaeuser Co. Stock Falls Tuesday, Underper...</td>\n",
       "    </tr>\n",
       "    <tr>\n",
       "      <th>4</th>\n",
       "      <td>82642</td>\n",
       "      <td>2023-01-03</td>\n",
       "      <td>LAUDER ESTEE COS INC</td>\n",
       "      <td>0.023377</td>\n",
       "      <td>256.17999</td>\n",
       "      <td>253.91</td>\n",
       "      <td>-0.008861</td>\n",
       "      <td>14ED2B</td>\n",
       "      <td>2023-01-03</td>\n",
       "      <td>2023-01-03 13:00:04.072</td>\n",
       "      <td>Estee Lauder Cos. Inc.</td>\n",
       "      <td>Veganuary 2023 sign-ups at record rate - one p...</td>\n",
       "    </tr>\n",
       "  </tbody>\n",
       "</table>\n",
       "</div>"
      ],
      "text/plain": [
       "   permno       date                comnam       ret    openprc     prc  \\\n",
       "0   39917 2023-01-03       WEYERHAEUSER CO -0.004516   31.25000   30.86   \n",
       "1   39917 2023-01-03       WEYERHAEUSER CO -0.004516   31.25000   30.86   \n",
       "2   39917 2023-01-03       WEYERHAEUSER CO -0.004516   31.25000   30.86   \n",
       "3   39917 2023-01-03       WEYERHAEUSER CO -0.004516   31.25000   30.86   \n",
       "4   82642 2023-01-03  LAUDER ESTEE COS INC  0.023377  256.17999  253.91   \n",
       "\n",
       "     CO_ret rp_entity_id rpa_date_utc           timestamp_utc  \\\n",
       "0 -0.012480       FF4BA4   2023-01-03 2023-01-03 21:42:37.069   \n",
       "1 -0.012480       FF4BA4   2023-01-03 2023-01-03 21:53:55.832   \n",
       "2 -0.012480       FF4BA4   2023-01-03 2023-01-03 22:02:55.434   \n",
       "3 -0.012480       FF4BA4   2023-01-03 2023-01-03 22:33:56.797   \n",
       "4 -0.008861       14ED2B   2023-01-03 2023-01-03 13:00:04.072   \n",
       "\n",
       "              entity_name                                           headline  \n",
       "0        Weyerhaeuser Co.                            New York Closing Stocks  \n",
       "1        Weyerhaeuser Co.  Extra Space Storage Inc. Stock Outperforms Com...  \n",
       "2        Weyerhaeuser Co.  International Paper Co. Stock Outperforms Mark...  \n",
       "3        Weyerhaeuser Co.  Weyerhaeuser Co. Stock Falls Tuesday, Underper...  \n",
       "4  Estee Lauder Cos. Inc.  Veganuary 2023 sign-ups at record rate - one p...  "
      ]
     },
     "execution_count": 70,
     "metadata": {},
     "output_type": "execute_result"
    }
   ],
   "source": [
    "RP_2023.rpa_date_utc = pd.to_datetime(RP_2023.rpa_date_utc)\n",
    "sp500_2023_RPid.merge(RP_2023,left_on = [\"date\",\"rp_entity_id\"], right_on = [\"rpa_date_utc\",\"rp_entity_id\"]).head()"
   ]
  },
  {
   "cell_type": "code",
   "execution_count": 71,
   "metadata": {},
   "outputs": [],
   "source": [
    "RP_2023.set_index(\"timestamp_utc\",inplace= True)\n",
    "RP_2023[\"timestamp_NY\"] = pd.to_datetime(RP_2023.index).tz_localize(\"UTC\").tz_convert(\"America/New_York\")"
   ]
  },
  {
   "cell_type": "code",
   "execution_count": 72,
   "metadata": {},
   "outputs": [],
   "source": [
    "nyse = mcal.get_calendar(\"NYSE\")\n",
    "nyse_trading_2023 = nyse.valid_days(start_date=\"2022-12-31\",end_date=\"2023-12-31\").tz_localize(None).tz_localize(\"America/New_York\")"
   ]
  },
  {
   "cell_type": "code",
   "execution_count": 73,
   "metadata": {},
   "outputs": [],
   "source": [
    "nyse_trading_2023_closing = nyse_trading_2023 + dt.timedelta(hours = 16)"
   ]
  },
  {
   "cell_type": "code",
   "execution_count": 74,
   "metadata": {},
   "outputs": [],
   "source": [
    "def contem_ret_date(timestamp):\n",
    "    later_time = nyse_trading_2023_closing[nyse_trading_2023_closing >= timestamp]\n",
    "    return later_time[0].date() if not later_time.empty else None"
   ]
  },
  {
   "cell_type": "code",
   "execution_count": 75,
   "metadata": {},
   "outputs": [],
   "source": [
    "RP_2023['contem_ret_date'] = RP_2023[\"timestamp_NY\"].apply(contem_ret_date)"
   ]
  },
  {
   "cell_type": "code",
   "execution_count": 76,
   "metadata": {},
   "outputs": [],
   "source": [
    "RP_2023.reset_index(inplace = True)\n",
    "RP_2023_contem_ret = RP_2023[[\"contem_ret_date\",\"rp_entity_id\",\"headline\"]]\n",
    "RP_2023_contem_ret = RP_2023_contem_ret.dropna()\n",
    "sp500_2023_RPid_contem_ret = sp500_2023_RPid[[\"date\",\"rp_entity_id\",\"comnam\",\"ret\"]]\n",
    "RP_2023_contem_ret.contem_ret_date = pd.to_datetime(RP_2023_contem_ret.contem_ret_date)\n",
    "SP500_RP_contem_ret_2023 = pd.merge(sp500_2023_RPid_contem_ret,RP_2023_contem_ret,left_on=[\"date\",\"rp_entity_id\"],\\\n",
    "                                    right_on=[\"contem_ret_date\",\"rp_entity_id\"],how = \"inner\").drop(columns = \"contem_ret_date\")"
   ]
  },
  {
   "cell_type": "code",
   "execution_count": 77,
   "metadata": {},
   "outputs": [
    {
     "data": {
      "text/html": [
       "<div>\n",
       "<style scoped>\n",
       "    .dataframe tbody tr th:only-of-type {\n",
       "        vertical-align: middle;\n",
       "    }\n",
       "\n",
       "    .dataframe tbody tr th {\n",
       "        vertical-align: top;\n",
       "    }\n",
       "\n",
       "    .dataframe thead th {\n",
       "        text-align: right;\n",
       "    }\n",
       "</style>\n",
       "<table border=\"1\" class=\"dataframe\">\n",
       "  <thead>\n",
       "    <tr style=\"text-align: right;\">\n",
       "      <th></th>\n",
       "      <th>date</th>\n",
       "      <th>rp_entity_id</th>\n",
       "      <th>comnam</th>\n",
       "      <th>ret</th>\n",
       "      <th>headline</th>\n",
       "    </tr>\n",
       "  </thead>\n",
       "  <tbody>\n",
       "    <tr>\n",
       "      <th>0</th>\n",
       "      <td>2023-01-03</td>\n",
       "      <td>14ED2B</td>\n",
       "      <td>LAUDER ESTEE COS INC</td>\n",
       "      <td>0.023377</td>\n",
       "      <td>Steady Stream of Multimillion Dollar Gifts Pro...</td>\n",
       "    </tr>\n",
       "    <tr>\n",
       "      <th>1</th>\n",
       "      <td>2023-01-03</td>\n",
       "      <td>14ED2B</td>\n",
       "      <td>LAUDER ESTEE COS INC</td>\n",
       "      <td>0.023377</td>\n",
       "      <td>Veganuary 2023 sign-ups at record rate - one p...</td>\n",
       "    </tr>\n",
       "    <tr>\n",
       "      <th>2</th>\n",
       "      <td>2023-01-03</td>\n",
       "      <td>14ED2B</td>\n",
       "      <td>LAUDER ESTEE COS INC</td>\n",
       "      <td>0.023377</td>\n",
       "      <td>Estee Lauder Is Maintained at Overweight by We...</td>\n",
       "    </tr>\n",
       "    <tr>\n",
       "      <th>3</th>\n",
       "      <td>2023-01-03</td>\n",
       "      <td>14ED2B</td>\n",
       "      <td>LAUDER ESTEE COS INC</td>\n",
       "      <td>0.023377</td>\n",
       "      <td>Estee Lauder Price Target Raised to $275.00/Sh...</td>\n",
       "    </tr>\n",
       "    <tr>\n",
       "      <th>4</th>\n",
       "      <td>2023-01-03</td>\n",
       "      <td>96F126</td>\n",
       "      <td>LOCKHEED MARTIN CORP</td>\n",
       "      <td>-0.018418</td>\n",
       "      <td>Airborne Sonar Global Market Report 2022: Tech...</td>\n",
       "    </tr>\n",
       "  </tbody>\n",
       "</table>\n",
       "</div>"
      ],
      "text/plain": [
       "        date rp_entity_id                comnam       ret  \\\n",
       "0 2023-01-03       14ED2B  LAUDER ESTEE COS INC  0.023377   \n",
       "1 2023-01-03       14ED2B  LAUDER ESTEE COS INC  0.023377   \n",
       "2 2023-01-03       14ED2B  LAUDER ESTEE COS INC  0.023377   \n",
       "3 2023-01-03       14ED2B  LAUDER ESTEE COS INC  0.023377   \n",
       "4 2023-01-03       96F126  LOCKHEED MARTIN CORP -0.018418   \n",
       "\n",
       "                                            headline  \n",
       "0  Steady Stream of Multimillion Dollar Gifts Pro...  \n",
       "1  Veganuary 2023 sign-ups at record rate - one p...  \n",
       "2  Estee Lauder Is Maintained at Overweight by We...  \n",
       "3  Estee Lauder Price Target Raised to $275.00/Sh...  \n",
       "4  Airborne Sonar Global Market Report 2022: Tech...  "
      ]
     },
     "execution_count": 77,
     "metadata": {},
     "output_type": "execute_result"
    }
   ],
   "source": [
    "SP500_RP_contem_ret_2023.head()"
   ]
  },
  {
   "cell_type": "code",
   "execution_count": 78,
   "metadata": {},
   "outputs": [
    {
     "data": {
      "text/plain": [
       "0"
      ]
     },
     "execution_count": 78,
     "metadata": {},
     "output_type": "execute_result"
    }
   ],
   "source": [
    "SP500_RP_contem_ret_2023.duplicated().sum()\n",
    "SP500_RP_contem_ret_2023.isna().sum().sum()"
   ]
  },
  {
   "cell_type": "markdown",
   "metadata": {},
   "source": [
    "# Link headlines based on future returns"
   ]
  },
  {
   "cell_type": "code",
   "execution_count": 79,
   "metadata": {},
   "outputs": [],
   "source": [
    "nyse_trading_2023_opening = nyse_trading_2023 + dt.timedelta(hours = 9)\n",
    "# 1 stands for CO_ret\n",
    "def future_ret_date(timestamp):\n",
    "    later_opening = nyse_trading_2023_opening[nyse_trading_2023_opening>=timestamp]\n",
    "    later_closing = nyse_trading_2023_closing[nyse_trading_2023_closing>=timestamp]\n",
    "    if (not later_opening.empty) & (not later_closing.empty):\n",
    "        next_opening = later_opening[0]\n",
    "        next_closing = later_closing[0]\n",
    "        if next_opening.date() == next_closing.date():\n",
    "            return [next_opening.date(),1]\n",
    "        else: \n",
    "            return [next_opening.date(),0]\n",
    "    else:\n",
    "        return [None,None]"
   ]
  },
  {
   "cell_type": "code",
   "execution_count": 80,
   "metadata": {},
   "outputs": [],
   "source": [
    "RP_2023_future_ret_date = RP_2023.apply(lambda row:future_ret_date(row['timestamp_NY']),axis = 1, result_type=\"expand\")"
   ]
  },
  {
   "cell_type": "code",
   "execution_count": 81,
   "metadata": {},
   "outputs": [],
   "source": [
    "RP_2023_future_ret_date = RP_2023_future_ret_date.rename(columns = {0:\"future_ret_date\",1:\"bool_CO_ret\"}) \n",
    "RP_2023 = pd.concat([RP_2023,RP_2023_future_ret_date],axis = 1)"
   ]
  },
  {
   "cell_type": "markdown",
   "metadata": {},
   "source": [
    "**Duplicate's problem**"
   ]
  },
  {
   "cell_type": "code",
   "execution_count": 82,
   "metadata": {},
   "outputs": [
    {
     "data": {
      "text/html": [
       "<div>\n",
       "<style scoped>\n",
       "    .dataframe tbody tr th:only-of-type {\n",
       "        vertical-align: middle;\n",
       "    }\n",
       "\n",
       "    .dataframe tbody tr th {\n",
       "        vertical-align: top;\n",
       "    }\n",
       "\n",
       "    .dataframe thead th {\n",
       "        text-align: right;\n",
       "    }\n",
       "</style>\n",
       "<table border=\"1\" class=\"dataframe\">\n",
       "  <thead>\n",
       "    <tr style=\"text-align: right;\">\n",
       "      <th></th>\n",
       "      <th>permno</th>\n",
       "      <th>date</th>\n",
       "      <th>comnam</th>\n",
       "      <th>ret</th>\n",
       "      <th>openprc</th>\n",
       "      <th>prc</th>\n",
       "      <th>CO_ret</th>\n",
       "      <th>rp_entity_id</th>\n",
       "    </tr>\n",
       "  </thead>\n",
       "  <tbody>\n",
       "    <tr>\n",
       "      <th>0</th>\n",
       "      <td>39917</td>\n",
       "      <td>2023-01-03</td>\n",
       "      <td>WEYERHAEUSER CO</td>\n",
       "      <td>-0.004516</td>\n",
       "      <td>31.25000</td>\n",
       "      <td>30.86000</td>\n",
       "      <td>-0.012480</td>\n",
       "      <td>FF4BA4</td>\n",
       "    </tr>\n",
       "    <tr>\n",
       "      <th>1</th>\n",
       "      <td>82642</td>\n",
       "      <td>2023-01-03</td>\n",
       "      <td>LAUDER ESTEE COS INC</td>\n",
       "      <td>0.023377</td>\n",
       "      <td>256.17999</td>\n",
       "      <td>253.91000</td>\n",
       "      <td>-0.008861</td>\n",
       "      <td>14ED2B</td>\n",
       "    </tr>\n",
       "    <tr>\n",
       "      <th>2</th>\n",
       "      <td>21178</td>\n",
       "      <td>2023-01-03</td>\n",
       "      <td>LOCKHEED MARTIN CORP</td>\n",
       "      <td>-0.018418</td>\n",
       "      <td>483.39001</td>\n",
       "      <td>477.53000</td>\n",
       "      <td>-0.012123</td>\n",
       "      <td>96F126</td>\n",
       "    </tr>\n",
       "    <tr>\n",
       "      <th>3</th>\n",
       "      <td>66800</td>\n",
       "      <td>2023-01-03</td>\n",
       "      <td>AMERICAN INTERNATIONAL GROUP INC</td>\n",
       "      <td>-0.004902</td>\n",
       "      <td>63.45000</td>\n",
       "      <td>62.93000</td>\n",
       "      <td>-0.008195</td>\n",
       "      <td>0BC29E</td>\n",
       "    </tr>\n",
       "    <tr>\n",
       "      <th>4</th>\n",
       "      <td>64653</td>\n",
       "      <td>2023-01-03</td>\n",
       "      <td>PUBLIC STORAGE</td>\n",
       "      <td>-0.021450</td>\n",
       "      <td>281.07999</td>\n",
       "      <td>274.17999</td>\n",
       "      <td>-0.024548</td>\n",
       "      <td>AFEC35</td>\n",
       "    </tr>\n",
       "  </tbody>\n",
       "</table>\n",
       "</div>"
      ],
      "text/plain": [
       "   permno       date                            comnam       ret    openprc  \\\n",
       "0   39917 2023-01-03                   WEYERHAEUSER CO -0.004516   31.25000   \n",
       "1   82642 2023-01-03              LAUDER ESTEE COS INC  0.023377  256.17999   \n",
       "2   21178 2023-01-03              LOCKHEED MARTIN CORP -0.018418  483.39001   \n",
       "3   66800 2023-01-03  AMERICAN INTERNATIONAL GROUP INC -0.004902   63.45000   \n",
       "4   64653 2023-01-03                    PUBLIC STORAGE -0.021450  281.07999   \n",
       "\n",
       "         prc    CO_ret rp_entity_id  \n",
       "0   30.86000 -0.012480       FF4BA4  \n",
       "1  253.91000 -0.008861       14ED2B  \n",
       "2  477.53000 -0.012123       96F126  \n",
       "3   62.93000 -0.008195       0BC29E  \n",
       "4  274.17999 -0.024548       AFEC35  "
      ]
     },
     "execution_count": 82,
     "metadata": {},
     "output_type": "execute_result"
    }
   ],
   "source": [
    "sp500_2023_RPid.head()"
   ]
  },
  {
   "cell_type": "code",
   "execution_count": 83,
   "metadata": {},
   "outputs": [
    {
     "data": {
      "text/html": [
       "<div>\n",
       "<style scoped>\n",
       "    .dataframe tbody tr th:only-of-type {\n",
       "        vertical-align: middle;\n",
       "    }\n",
       "\n",
       "    .dataframe tbody tr th {\n",
       "        vertical-align: top;\n",
       "    }\n",
       "\n",
       "    .dataframe thead th {\n",
       "        text-align: right;\n",
       "    }\n",
       "</style>\n",
       "<table border=\"1\" class=\"dataframe\">\n",
       "  <thead>\n",
       "    <tr style=\"text-align: right;\">\n",
       "      <th></th>\n",
       "      <th>permno</th>\n",
       "      <th>date</th>\n",
       "      <th>comnam</th>\n",
       "      <th>ret</th>\n",
       "      <th>openprc</th>\n",
       "      <th>prc</th>\n",
       "      <th>CO_ret</th>\n",
       "      <th>rp_entity_id</th>\n",
       "    </tr>\n",
       "  </thead>\n",
       "  <tbody>\n",
       "  </tbody>\n",
       "</table>\n",
       "</div>"
      ],
      "text/plain": [
       "Empty DataFrame\n",
       "Columns: [permno, date, comnam, ret, openprc, prc, CO_ret, rp_entity_id]\n",
       "Index: []"
      ]
     },
     "execution_count": 83,
     "metadata": {},
     "output_type": "execute_result"
    }
   ],
   "source": [
    "sp500_2023_RPid.groupby(\"permno\").filter(lambda sub:len(sub.rp_entity_id.unique()) > 1)"
   ]
  },
  {
   "cell_type": "code",
   "execution_count": 84,
   "metadata": {},
   "outputs": [
    {
     "data": {
      "text/html": [
       "<div>\n",
       "<style scoped>\n",
       "    .dataframe tbody tr th:only-of-type {\n",
       "        vertical-align: middle;\n",
       "    }\n",
       "\n",
       "    .dataframe tbody tr th {\n",
       "        vertical-align: top;\n",
       "    }\n",
       "\n",
       "    .dataframe thead th {\n",
       "        text-align: right;\n",
       "    }\n",
       "</style>\n",
       "<table border=\"1\" class=\"dataframe\">\n",
       "  <thead>\n",
       "    <tr style=\"text-align: right;\">\n",
       "      <th></th>\n",
       "      <th>timestamp_utc</th>\n",
       "      <th>rpa_date_utc</th>\n",
       "      <th>rp_entity_id</th>\n",
       "      <th>entity_name</th>\n",
       "      <th>headline</th>\n",
       "      <th>timestamp_NY</th>\n",
       "      <th>contem_ret_date</th>\n",
       "      <th>future_ret_date</th>\n",
       "      <th>bool_CO_ret</th>\n",
       "    </tr>\n",
       "  </thead>\n",
       "  <tbody>\n",
       "    <tr>\n",
       "      <th>0</th>\n",
       "      <td>2023-01-01 02:00:05.447</td>\n",
       "      <td>2023-01-01</td>\n",
       "      <td>0157B1</td>\n",
       "      <td>Amazon.com Inc.</td>\n",
       "      <td>New Film Release: Cryptid Horror Movie Brings ...</td>\n",
       "      <td>2022-12-31 21:00:05.447000-05:00</td>\n",
       "      <td>2023-01-03</td>\n",
       "      <td>2023-01-03</td>\n",
       "      <td>1.0</td>\n",
       "    </tr>\n",
       "    <tr>\n",
       "      <th>1</th>\n",
       "      <td>2023-01-01 07:00:11.264</td>\n",
       "      <td>2023-01-01</td>\n",
       "      <td>0157B1</td>\n",
       "      <td>Amazon.com Inc.</td>\n",
       "      <td>The Craziest Moments From the Longest Tech Boo...</td>\n",
       "      <td>2023-01-01 02:00:11.264000-05:00</td>\n",
       "      <td>2023-01-03</td>\n",
       "      <td>2023-01-03</td>\n",
       "      <td>1.0</td>\n",
       "    </tr>\n",
       "    <tr>\n",
       "      <th>2</th>\n",
       "      <td>2023-01-01 07:00:11.275</td>\n",
       "      <td>2023-01-01</td>\n",
       "      <td>0157B1</td>\n",
       "      <td>Amazon.com Inc.</td>\n",
       "      <td>The Craziest Moments From the Longest Tech Boo...</td>\n",
       "      <td>2023-01-01 02:00:11.275000-05:00</td>\n",
       "      <td>2023-01-03</td>\n",
       "      <td>2023-01-03</td>\n",
       "      <td>1.0</td>\n",
       "    </tr>\n",
       "    <tr>\n",
       "      <th>3</th>\n",
       "      <td>2023-01-01 10:30:00.085</td>\n",
       "      <td>2023-01-01</td>\n",
       "      <td>0157B1</td>\n",
       "      <td>Amazon.com Inc.</td>\n",
       "      <td>The Year Big Tech Stocks Fell From Glory -- WSJ</td>\n",
       "      <td>2023-01-01 05:30:00.085000-05:00</td>\n",
       "      <td>2023-01-03</td>\n",
       "      <td>2023-01-03</td>\n",
       "      <td>1.0</td>\n",
       "    </tr>\n",
       "    <tr>\n",
       "      <th>4</th>\n",
       "      <td>2023-01-01 13:00:00.055</td>\n",
       "      <td>2023-01-01</td>\n",
       "      <td>0157B1</td>\n",
       "      <td>Amazon.com Inc.</td>\n",
       "      <td>Robust Job and Wage Growth Showed Signs of Coo...</td>\n",
       "      <td>2023-01-01 08:00:00.055000-05:00</td>\n",
       "      <td>2023-01-03</td>\n",
       "      <td>2023-01-03</td>\n",
       "      <td>1.0</td>\n",
       "    </tr>\n",
       "  </tbody>\n",
       "</table>\n",
       "</div>"
      ],
      "text/plain": [
       "            timestamp_utc rpa_date_utc rp_entity_id      entity_name  \\\n",
       "0 2023-01-01 02:00:05.447   2023-01-01       0157B1  Amazon.com Inc.   \n",
       "1 2023-01-01 07:00:11.264   2023-01-01       0157B1  Amazon.com Inc.   \n",
       "2 2023-01-01 07:00:11.275   2023-01-01       0157B1  Amazon.com Inc.   \n",
       "3 2023-01-01 10:30:00.085   2023-01-01       0157B1  Amazon.com Inc.   \n",
       "4 2023-01-01 13:00:00.055   2023-01-01       0157B1  Amazon.com Inc.   \n",
       "\n",
       "                                            headline  \\\n",
       "0  New Film Release: Cryptid Horror Movie Brings ...   \n",
       "1  The Craziest Moments From the Longest Tech Boo...   \n",
       "2  The Craziest Moments From the Longest Tech Boo...   \n",
       "3    The Year Big Tech Stocks Fell From Glory -- WSJ   \n",
       "4  Robust Job and Wage Growth Showed Signs of Coo...   \n",
       "\n",
       "                      timestamp_NY contem_ret_date future_ret_date  \\\n",
       "0 2022-12-31 21:00:05.447000-05:00      2023-01-03      2023-01-03   \n",
       "1 2023-01-01 02:00:11.264000-05:00      2023-01-03      2023-01-03   \n",
       "2 2023-01-01 02:00:11.275000-05:00      2023-01-03      2023-01-03   \n",
       "3 2023-01-01 05:30:00.085000-05:00      2023-01-03      2023-01-03   \n",
       "4 2023-01-01 08:00:00.055000-05:00      2023-01-03      2023-01-03   \n",
       "\n",
       "   bool_CO_ret  \n",
       "0          1.0  \n",
       "1          1.0  \n",
       "2          1.0  \n",
       "3          1.0  \n",
       "4          1.0  "
      ]
     },
     "execution_count": 84,
     "metadata": {},
     "output_type": "execute_result"
    }
   ],
   "source": [
    "RP_2023.head()"
   ]
  },
  {
   "cell_type": "code",
   "execution_count": 85,
   "metadata": {},
   "outputs": [
    {
     "data": {
      "text/plain": [
       "0"
      ]
     },
     "execution_count": 85,
     "metadata": {},
     "output_type": "execute_result"
    }
   ],
   "source": [
    "RP_2023.duplicated((\"rp_entity_id\",\"headline\")).sum()"
   ]
  },
  {
   "cell_type": "code",
   "execution_count": 86,
   "metadata": {},
   "outputs": [],
   "source": [
    "RP_2023.future_ret_date = pd.to_datetime(RP_2023.future_ret_date)\n",
    "SP500_RP_future_ret_2023 = sp500_2023_RPid.merge(RP_2023,left_on=[\"date\",\"rp_entity_id\"],right_on = [\"future_ret_date\",\"rp_entity_id\"],how = \"inner\")\n",
    "SP500_RP_future_ret_2023 = SP500_RP_future_ret_2023[[\"date\",\"rp_entity_id\",\"comnam\",\"CO_ret\",\"ret\",\"headline\",\"bool_CO_ret\"]]"
   ]
  },
  {
   "cell_type": "code",
   "execution_count": 87,
   "metadata": {},
   "outputs": [
    {
     "data": {
      "text/html": [
       "<div>\n",
       "<style scoped>\n",
       "    .dataframe tbody tr th:only-of-type {\n",
       "        vertical-align: middle;\n",
       "    }\n",
       "\n",
       "    .dataframe tbody tr th {\n",
       "        vertical-align: top;\n",
       "    }\n",
       "\n",
       "    .dataframe thead th {\n",
       "        text-align: right;\n",
       "    }\n",
       "</style>\n",
       "<table border=\"1\" class=\"dataframe\">\n",
       "  <thead>\n",
       "    <tr style=\"text-align: right;\">\n",
       "      <th></th>\n",
       "      <th>date</th>\n",
       "      <th>rp_entity_id</th>\n",
       "      <th>comnam</th>\n",
       "      <th>CO_ret</th>\n",
       "      <th>ret</th>\n",
       "      <th>headline</th>\n",
       "      <th>bool_CO_ret</th>\n",
       "    </tr>\n",
       "  </thead>\n",
       "  <tbody>\n",
       "    <tr>\n",
       "      <th>0</th>\n",
       "      <td>2023-01-03</td>\n",
       "      <td>14ED2B</td>\n",
       "      <td>LAUDER ESTEE COS INC</td>\n",
       "      <td>-0.008861</td>\n",
       "      <td>0.023377</td>\n",
       "      <td>Steady Stream of Multimillion Dollar Gifts Pro...</td>\n",
       "      <td>1.0</td>\n",
       "    </tr>\n",
       "    <tr>\n",
       "      <th>1</th>\n",
       "      <td>2023-01-03</td>\n",
       "      <td>14ED2B</td>\n",
       "      <td>LAUDER ESTEE COS INC</td>\n",
       "      <td>-0.008861</td>\n",
       "      <td>0.023377</td>\n",
       "      <td>Veganuary 2023 sign-ups at record rate - one p...</td>\n",
       "      <td>1.0</td>\n",
       "    </tr>\n",
       "    <tr>\n",
       "      <th>2</th>\n",
       "      <td>2023-01-03</td>\n",
       "      <td>96F126</td>\n",
       "      <td>LOCKHEED MARTIN CORP</td>\n",
       "      <td>-0.012123</td>\n",
       "      <td>-0.018418</td>\n",
       "      <td>Airborne Sonar Global Market Report 2022: Tech...</td>\n",
       "      <td>1.0</td>\n",
       "    </tr>\n",
       "    <tr>\n",
       "      <th>3</th>\n",
       "      <td>2023-01-03</td>\n",
       "      <td>AFEC35</td>\n",
       "      <td>PUBLIC STORAGE</td>\n",
       "      <td>-0.024548</td>\n",
       "      <td>-0.021450</td>\n",
       "      <td>Here Are Barron's 12 Best Income Investments f...</td>\n",
       "      <td>1.0</td>\n",
       "    </tr>\n",
       "    <tr>\n",
       "      <th>4</th>\n",
       "      <td>2023-01-03</td>\n",
       "      <td>DD682D</td>\n",
       "      <td>ASSURANT INC</td>\n",
       "      <td>0.014340</td>\n",
       "      <td>0.018071</td>\n",
       "      <td>At CES 2023, Leading Research Firm Parks Assoc...</td>\n",
       "      <td>1.0</td>\n",
       "    </tr>\n",
       "  </tbody>\n",
       "</table>\n",
       "</div>"
      ],
      "text/plain": [
       "        date rp_entity_id                comnam    CO_ret       ret  \\\n",
       "0 2023-01-03       14ED2B  LAUDER ESTEE COS INC -0.008861  0.023377   \n",
       "1 2023-01-03       14ED2B  LAUDER ESTEE COS INC -0.008861  0.023377   \n",
       "2 2023-01-03       96F126  LOCKHEED MARTIN CORP -0.012123 -0.018418   \n",
       "3 2023-01-03       AFEC35        PUBLIC STORAGE -0.024548 -0.021450   \n",
       "4 2023-01-03       DD682D          ASSURANT INC  0.014340  0.018071   \n",
       "\n",
       "                                            headline  bool_CO_ret  \n",
       "0  Steady Stream of Multimillion Dollar Gifts Pro...          1.0  \n",
       "1  Veganuary 2023 sign-ups at record rate - one p...          1.0  \n",
       "2  Airborne Sonar Global Market Report 2022: Tech...          1.0  \n",
       "3  Here Are Barron's 12 Best Income Investments f...          1.0  \n",
       "4  At CES 2023, Leading Research Firm Parks Assoc...          1.0  "
      ]
     },
     "execution_count": 87,
     "metadata": {},
     "output_type": "execute_result"
    }
   ],
   "source": [
    "SP500_RP_future_ret_2023.head()"
   ]
  },
  {
   "cell_type": "code",
   "execution_count": 88,
   "metadata": {},
   "outputs": [
    {
     "data": {
      "text/plain": [
       "62584"
      ]
     },
     "execution_count": 88,
     "metadata": {},
     "output_type": "execute_result"
    }
   ],
   "source": [
    "# Where do these duplicates come from\n",
    "SP500_RP_future_ret_2023.duplicated([\"rp_entity_id\",\"headline\"]).sum()"
   ]
  },
  {
   "cell_type": "code",
   "execution_count": 89,
   "metadata": {},
   "outputs": [
    {
     "data": {
      "text/html": [
       "<div>\n",
       "<style scoped>\n",
       "    .dataframe tbody tr th:only-of-type {\n",
       "        vertical-align: middle;\n",
       "    }\n",
       "\n",
       "    .dataframe tbody tr th {\n",
       "        vertical-align: top;\n",
       "    }\n",
       "\n",
       "    .dataframe thead th {\n",
       "        text-align: right;\n",
       "    }\n",
       "</style>\n",
       "<table border=\"1\" class=\"dataframe\">\n",
       "  <thead>\n",
       "    <tr style=\"text-align: right;\">\n",
       "      <th></th>\n",
       "      <th>date</th>\n",
       "      <th>rp_entity_id</th>\n",
       "      <th>comnam</th>\n",
       "      <th>CO_ret</th>\n",
       "      <th>ret</th>\n",
       "      <th>headline</th>\n",
       "      <th>bool_CO_ret</th>\n",
       "    </tr>\n",
       "  </thead>\n",
       "  <tbody>\n",
       "    <tr>\n",
       "      <th>147</th>\n",
       "      <td>2023-01-03</td>\n",
       "      <td>DD1BA1</td>\n",
       "      <td>NEWS CORP NEW</td>\n",
       "      <td>-0.004308</td>\n",
       "      <td>0.002711</td>\n",
       "      <td>California Storm Floods Roads, Cuts Power on N...</td>\n",
       "      <td>1.0</td>\n",
       "    </tr>\n",
       "    <tr>\n",
       "      <th>154</th>\n",
       "      <td>2023-01-03</td>\n",
       "      <td>DD1BA1</td>\n",
       "      <td>NEWS CORP NEW</td>\n",
       "      <td>-0.003811</td>\n",
       "      <td>0.005494</td>\n",
       "      <td>California Storm Floods Roads, Cuts Power on N...</td>\n",
       "      <td>1.0</td>\n",
       "    </tr>\n",
       "    <tr>\n",
       "      <th>155</th>\n",
       "      <td>2023-01-03</td>\n",
       "      <td>7BFF81</td>\n",
       "      <td>FOX CORP</td>\n",
       "      <td>-0.003516</td>\n",
       "      <td>-0.003866</td>\n",
       "      <td>Divided Government Set to Return With Start of...</td>\n",
       "      <td>1.0</td>\n",
       "    </tr>\n",
       "    <tr>\n",
       "      <th>156</th>\n",
       "      <td>2023-01-03</td>\n",
       "      <td>7BFF81</td>\n",
       "      <td>FOX CORP</td>\n",
       "      <td>-0.003516</td>\n",
       "      <td>-0.003866</td>\n",
       "      <td>Kevin McCarthy's House Speaker Bid Teeters Ahe...</td>\n",
       "      <td>1.0</td>\n",
       "    </tr>\n",
       "    <tr>\n",
       "      <th>157</th>\n",
       "      <td>2023-01-03</td>\n",
       "      <td>7BFF81</td>\n",
       "      <td>FOX CORP</td>\n",
       "      <td>-0.003516</td>\n",
       "      <td>-0.003866</td>\n",
       "      <td>Global View:  The World According to Tom Cotto...</td>\n",
       "      <td>1.0</td>\n",
       "    </tr>\n",
       "    <tr>\n",
       "      <th>...</th>\n",
       "      <td>...</td>\n",
       "      <td>...</td>\n",
       "      <td>...</td>\n",
       "      <td>...</td>\n",
       "      <td>...</td>\n",
       "      <td>...</td>\n",
       "      <td>...</td>\n",
       "    </tr>\n",
       "    <tr>\n",
       "      <th>1748680</th>\n",
       "      <td>2023-12-29</td>\n",
       "      <td>4A6F00</td>\n",
       "      <td>ALPHABET INC</td>\n",
       "      <td>0.000430</td>\n",
       "      <td>-0.003851</td>\n",
       "      <td>Gen AI Hype Grips Telecom Industry as Telcos U...</td>\n",
       "      <td>1.0</td>\n",
       "    </tr>\n",
       "    <tr>\n",
       "      <th>1748681</th>\n",
       "      <td>2023-12-29</td>\n",
       "      <td>4A6F00</td>\n",
       "      <td>ALPHABET INC</td>\n",
       "      <td>0.000430</td>\n",
       "      <td>-0.003851</td>\n",
       "      <td>Hankyung.com: \"AI technology to feed the Korea...</td>\n",
       "      <td>1.0</td>\n",
       "    </tr>\n",
       "    <tr>\n",
       "      <th>1748682</th>\n",
       "      <td>2023-12-29</td>\n",
       "      <td>4A6F00</td>\n",
       "      <td>ALPHABET INC</td>\n",
       "      <td>0.000430</td>\n",
       "      <td>-0.003851</td>\n",
       "      <td>Dow Jones Futures Dip Ahead Of Final Session O...</td>\n",
       "      <td>1.0</td>\n",
       "    </tr>\n",
       "    <tr>\n",
       "      <th>1748683</th>\n",
       "      <td>2023-12-29</td>\n",
       "      <td>4A6F00</td>\n",
       "      <td>ALPHABET INC</td>\n",
       "      <td>0.000430</td>\n",
       "      <td>-0.003851</td>\n",
       "      <td>Valmet Oyj: Valmet Oyj: Notification according...</td>\n",
       "      <td>1.0</td>\n",
       "    </tr>\n",
       "    <tr>\n",
       "      <th>1748684</th>\n",
       "      <td>2023-12-29</td>\n",
       "      <td>4A6F00</td>\n",
       "      <td>ALPHABET INC</td>\n",
       "      <td>0.000430</td>\n",
       "      <td>-0.003851</td>\n",
       "      <td>MW Growing concern over AI threats to election...</td>\n",
       "      <td>1.0</td>\n",
       "    </tr>\n",
       "  </tbody>\n",
       "</table>\n",
       "<p>125168 rows × 7 columns</p>\n",
       "</div>"
      ],
      "text/plain": [
       "              date rp_entity_id         comnam    CO_ret       ret  \\\n",
       "147     2023-01-03       DD1BA1  NEWS CORP NEW -0.004308  0.002711   \n",
       "154     2023-01-03       DD1BA1  NEWS CORP NEW -0.003811  0.005494   \n",
       "155     2023-01-03       7BFF81       FOX CORP -0.003516 -0.003866   \n",
       "156     2023-01-03       7BFF81       FOX CORP -0.003516 -0.003866   \n",
       "157     2023-01-03       7BFF81       FOX CORP -0.003516 -0.003866   \n",
       "...            ...          ...            ...       ...       ...   \n",
       "1748680 2023-12-29       4A6F00   ALPHABET INC  0.000430 -0.003851   \n",
       "1748681 2023-12-29       4A6F00   ALPHABET INC  0.000430 -0.003851   \n",
       "1748682 2023-12-29       4A6F00   ALPHABET INC  0.000430 -0.003851   \n",
       "1748683 2023-12-29       4A6F00   ALPHABET INC  0.000430 -0.003851   \n",
       "1748684 2023-12-29       4A6F00   ALPHABET INC  0.000430 -0.003851   \n",
       "\n",
       "                                                  headline  bool_CO_ret  \n",
       "147      California Storm Floods Roads, Cuts Power on N...          1.0  \n",
       "154      California Storm Floods Roads, Cuts Power on N...          1.0  \n",
       "155      Divided Government Set to Return With Start of...          1.0  \n",
       "156      Kevin McCarthy's House Speaker Bid Teeters Ahe...          1.0  \n",
       "157      Global View:  The World According to Tom Cotto...          1.0  \n",
       "...                                                    ...          ...  \n",
       "1748680  Gen AI Hype Grips Telecom Industry as Telcos U...          1.0  \n",
       "1748681  Hankyung.com: \"AI technology to feed the Korea...          1.0  \n",
       "1748682  Dow Jones Futures Dip Ahead Of Final Session O...          1.0  \n",
       "1748683  Valmet Oyj: Valmet Oyj: Notification according...          1.0  \n",
       "1748684  MW Growing concern over AI threats to election...          1.0  \n",
       "\n",
       "[125168 rows x 7 columns]"
      ]
     },
     "execution_count": 89,
     "metadata": {},
     "output_type": "execute_result"
    }
   ],
   "source": [
    "# Examples\n",
    "SP500_RP_future_ret_2023[SP500_RP_future_ret_2023.duplicated([\"rp_entity_id\",\"headline\"],keep = False)]"
   ]
  },
  {
   "cell_type": "code",
   "execution_count": 90,
   "metadata": {},
   "outputs": [],
   "source": [
    "SP500_RP_future_ret_2023 = SP500_RP_future_ret_2023.drop_duplicates(subset = [\"rp_entity_id\",\"headline\"])\n",
    "SP500_RP_future_ret_2023[\"future_ret\"] = SP500_RP_future_ret_2023.apply(lambda row: row[\"CO_ret\"] if row[\"bool_CO_ret\"] \\\n",
    "                                                                        else (row[\"ret\"] if not row[\"bool_CO_ret\"]  else None), axis = 1)\n",
    "SP500_RP_future_ret_2023 = SP500_RP_future_ret_2023.drop(columns = ['CO_ret','ret','bool_CO_ret'])"
   ]
  },
  {
   "cell_type": "code",
   "execution_count": 91,
   "metadata": {},
   "outputs": [
    {
     "data": {
      "text/html": [
       "<div>\n",
       "<style scoped>\n",
       "    .dataframe tbody tr th:only-of-type {\n",
       "        vertical-align: middle;\n",
       "    }\n",
       "\n",
       "    .dataframe tbody tr th {\n",
       "        vertical-align: top;\n",
       "    }\n",
       "\n",
       "    .dataframe thead th {\n",
       "        text-align: right;\n",
       "    }\n",
       "</style>\n",
       "<table border=\"1\" class=\"dataframe\">\n",
       "  <thead>\n",
       "    <tr style=\"text-align: right;\">\n",
       "      <th></th>\n",
       "      <th>date</th>\n",
       "      <th>rp_entity_id</th>\n",
       "      <th>comnam</th>\n",
       "      <th>headline</th>\n",
       "      <th>future_ret</th>\n",
       "    </tr>\n",
       "  </thead>\n",
       "  <tbody>\n",
       "    <tr>\n",
       "      <th>0</th>\n",
       "      <td>2023-01-03</td>\n",
       "      <td>14ED2B</td>\n",
       "      <td>LAUDER ESTEE COS INC</td>\n",
       "      <td>Steady Stream of Multimillion Dollar Gifts Pro...</td>\n",
       "      <td>-0.008861</td>\n",
       "    </tr>\n",
       "    <tr>\n",
       "      <th>1</th>\n",
       "      <td>2023-01-03</td>\n",
       "      <td>14ED2B</td>\n",
       "      <td>LAUDER ESTEE COS INC</td>\n",
       "      <td>Veganuary 2023 sign-ups at record rate - one p...</td>\n",
       "      <td>-0.008861</td>\n",
       "    </tr>\n",
       "    <tr>\n",
       "      <th>2</th>\n",
       "      <td>2023-01-03</td>\n",
       "      <td>96F126</td>\n",
       "      <td>LOCKHEED MARTIN CORP</td>\n",
       "      <td>Airborne Sonar Global Market Report 2022: Tech...</td>\n",
       "      <td>-0.012123</td>\n",
       "    </tr>\n",
       "    <tr>\n",
       "      <th>3</th>\n",
       "      <td>2023-01-03</td>\n",
       "      <td>AFEC35</td>\n",
       "      <td>PUBLIC STORAGE</td>\n",
       "      <td>Here Are Barron's 12 Best Income Investments f...</td>\n",
       "      <td>-0.024548</td>\n",
       "    </tr>\n",
       "    <tr>\n",
       "      <th>4</th>\n",
       "      <td>2023-01-03</td>\n",
       "      <td>DD682D</td>\n",
       "      <td>ASSURANT INC</td>\n",
       "      <td>At CES 2023, Leading Research Firm Parks Assoc...</td>\n",
       "      <td>0.014340</td>\n",
       "    </tr>\n",
       "  </tbody>\n",
       "</table>\n",
       "</div>"
      ],
      "text/plain": [
       "        date rp_entity_id                comnam  \\\n",
       "0 2023-01-03       14ED2B  LAUDER ESTEE COS INC   \n",
       "1 2023-01-03       14ED2B  LAUDER ESTEE COS INC   \n",
       "2 2023-01-03       96F126  LOCKHEED MARTIN CORP   \n",
       "3 2023-01-03       AFEC35        PUBLIC STORAGE   \n",
       "4 2023-01-03       DD682D          ASSURANT INC   \n",
       "\n",
       "                                            headline  future_ret  \n",
       "0  Steady Stream of Multimillion Dollar Gifts Pro...   -0.008861  \n",
       "1  Veganuary 2023 sign-ups at record rate - one p...   -0.008861  \n",
       "2  Airborne Sonar Global Market Report 2022: Tech...   -0.012123  \n",
       "3  Here Are Barron's 12 Best Income Investments f...   -0.024548  \n",
       "4  At CES 2023, Leading Research Firm Parks Assoc...    0.014340  "
      ]
     },
     "execution_count": 91,
     "metadata": {},
     "output_type": "execute_result"
    }
   ],
   "source": [
    "SP500_RP_future_ret_2023.head()"
   ]
  },
  {
   "cell_type": "code",
   "execution_count": 92,
   "metadata": {},
   "outputs": [
    {
     "name": "stdout",
     "output_type": "stream",
     "text": [
      "0\n",
      "148\n"
     ]
    }
   ],
   "source": [
    "# NA comes from None opening prices\n",
    "print(SP500_RP_future_ret_2023.duplicated().sum())\n",
    "print(SP500_RP_future_ret_2023.isna().sum().sum())"
   ]
  }
 ],
 "metadata": {
  "kernelspec": {
   "display_name": "base",
   "language": "python",
   "name": "python3"
  },
  "language_info": {
   "codemirror_mode": {
    "name": "ipython",
    "version": 3
   },
   "file_extension": ".py",
   "mimetype": "text/x-python",
   "name": "python",
   "nbconvert_exporter": "python",
   "pygments_lexer": "ipython3",
   "version": "3.11.7"
  }
 },
 "nbformat": 4,
 "nbformat_minor": 2
}
